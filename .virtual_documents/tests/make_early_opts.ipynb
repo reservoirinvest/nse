## THIS CELL SHOULD BE IN ALL VSCODE NOTEBOOKS ##

MARKET = "NSE"

# Set the root
from from_root import from_root
ROOT = from_root()

import pandas as pd
from loguru import logger

pd.options.display.max_columns = None
pd.set_option('display.precision', 2)

from pathlib import Path
import sys

# Add `src` and ROOT to _src.pth in .venv to allow imports in VS Code
from sysconfig import get_path

if "src" not in Path.cwd().parts:
    src_path = str(Path(get_path("purelib")) / "_src.pth")
    with open(src_path, "w") as f:
        f.write(str(ROOT / "src\n"))
        f.write(str(ROOT))
        if str(ROOT) not in sys.path:
            sys.path.insert(1, str(ROOT))

# Start the Jupyter loop
from ib_async import util

util.startLoop()

logger.add(sink=ROOT / "log" / "ztest.log", mode="w")





import asyncio
from nse import NSEfnos, equity_iv_df, RBI
from utils import append_safe_strikes, append_black_scholes, append_cos, load_config, merge_and_overwrite_df, append_xPrice
from ibfuncs import marginsAsync





symbol = 'PNB'
config = load_config()
port = config.get("PORT")





def make_early_opts_for_symbol(
    symbol: str,  # nse_symbol. can be equity or index
    port: int,
    timeout: int=2, # timeout for marginsAsync
        ) -> pd.DataFrame:
    """Make target options for nakeds with earliest expiry
    
    Args:
       symbol: can be equity or index
       port: int. Could be LIVE_PORT | PAPER_PORT
       """

    # initialize and get the base df
    n = NSEfnos()
    q = n.stock_quote_fno(symbol)
    dfe = equity_iv_df(q)
    
    # clean up zero IVs and dtes
    mask = (dfe.iv > 0) & (dfe.dte > 0)
    df = dfe[mask].reset_index(drop=True)
    
    # Append safe strikes
    df = append_safe_strikes(df)
    
    # Append black scholes
    
    rbi = RBI()
    risk_free_rate = rbi.repo_rate() / 100
    
    df = append_black_scholes(df, risk_free_rate)
    
    # Append contract, order to prep for margin
    df = append_cos(df)
    
    # Get margins with approrpriate timeout and append
    df_mcom = asyncio.run(marginsAsync(df, port, timeout=timeout))
    
    df = merge_and_overwrite_df(df, df_mcom)
    
    # Append xPrice
    df = append_xPrice(df)

    return df


make_early_opts_for_symbol(symbol, port)



