{
 "cells": [
  {
   "cell_type": "markdown",
   "metadata": {},
   "source": [
    "# Makes common margins - from options closest to undPrice and with earliest strike"
   ]
  },
  {
   "cell_type": "code",
   "execution_count": 1,
   "metadata": {
    "execution": {
     "iopub.execute_input": "2024-08-01T01:51:59.443227Z",
     "iopub.status.busy": "2024-08-01T01:51:59.442214Z",
     "iopub.status.idle": "2024-08-01T01:52:00.516710Z",
     "shell.execute_reply": "2024-08-01T01:52:00.516710Z",
     "shell.execute_reply.started": "2024-08-01T01:51:59.442214Z"
    }
   },
   "outputs": [
    {
     "data": {
      "text/plain": [
       "1"
      ]
     },
     "execution_count": 1,
     "metadata": {},
     "output_type": "execute_result"
    }
   ],
   "source": [
    "## THIS CELL SHOULD BE IN ALL VSCODE NOTEBOOKS ##\n",
    "\n",
    "MARKET = \"NSE\"\n",
    "\n",
    "# Set the root\n",
    "from from_root import from_root\n",
    "\n",
    "ROOT = from_root()\n",
    "\n",
    "import pandas as pd\n",
    "from loguru import logger\n",
    "\n",
    "pd.options.display.max_columns = None\n",
    "pd.set_option(\"display.precision\", 2)\n",
    "\n",
    "import sys\n",
    "from pathlib import Path\n",
    "\n",
    "# Add `src` and ROOT to _src.pth in .venv to allow imports in VS Code\n",
    "from sysconfig import get_path\n",
    "\n",
    "if \"src\" not in Path.cwd().parts:\n",
    "    src_path = str(Path(get_path(\"purelib\")) / \"_src.pth\")\n",
    "    with open(src_path, \"w\") as f:\n",
    "        f.write(str(ROOT / \"src\\n\"))\n",
    "        f.write(str(ROOT))\n",
    "        if str(ROOT) not in sys.path:\n",
    "            sys.path.insert(1, str(ROOT))\n",
    "\n",
    "# Start the Jupyter loop\n",
    "from ib_async import util\n",
    "\n",
    "util.startLoop()\n",
    "\n",
    "logger.add(sink=ROOT / \"log\" / \"ztest.log\", mode=\"w\")"
   ]
  },
  {
   "cell_type": "markdown",
   "metadata": {},
   "source": [
    "# Imports"
   ]
  },
  {
   "cell_type": "code",
   "execution_count": 2,
   "metadata": {
    "execution": {
     "iopub.execute_input": "2024-08-01T01:52:00.516710Z",
     "iopub.status.busy": "2024-08-01T01:52:00.516710Z",
     "iopub.status.idle": "2024-08-01T01:52:02.339095Z",
     "shell.execute_reply": "2024-08-01T01:52:02.339095Z",
     "shell.execute_reply.started": "2024-08-01T01:52:00.516710Z"
    }
   },
   "outputs": [],
   "source": [
    "from ib_async import IB\n",
    "from tqdm import tqdm\n",
    "\n",
    "from ibfuncs import marginsAsync\n",
    "from nse import NSEfnos, equity_iv_df\n",
    "from utils import append_cos, get_closest_strike, pickle_me, chunk_me, load_config\n",
    "\n",
    "config = load_config()\n",
    "port = config.get('PORT')"
   ]
  },
  {
   "cell_type": "markdown",
   "metadata": {},
   "source": [
    "# Make the symbols"
   ]
  },
  {
   "cell_type": "code",
   "execution_count": 3,
   "metadata": {
    "execution": {
     "iopub.execute_input": "2024-08-01T01:52:02.339095Z",
     "iopub.status.busy": "2024-08-01T01:52:02.339095Z",
     "iopub.status.idle": "2024-08-01T01:52:02.349093Z",
     "shell.execute_reply": "2024-08-01T01:52:02.349093Z",
     "shell.execute_reply.started": "2024-08-01T01:52:02.339095Z"
    }
   },
   "outputs": [],
   "source": [
    "# TRANSFERRED TO NSE.PY\n",
    "\n",
    "def get_all_fno_names() -> set:\n",
    "    \"\"\"All fnos in nse, including index\"\"\"\n",
    "\n",
    "    n = NSEfnos()\n",
    "    d = n.stock_quote_fno('NIFTY')\n",
    "    fnos = n.equities() | set(d.get('allSymbol'))\n",
    "    return fnos"
   ]
  },
  {
   "cell_type": "raw",
   "metadata": {
    "execution": {
     "iopub.execute_input": "2024-08-01T01:38:15.746161Z",
     "iopub.status.busy": "2024-08-01T01:38:15.746161Z",
     "iopub.status.idle": "2024-08-01T01:38:19.390131Z",
     "shell.execute_reply": "2024-08-01T01:38:19.390131Z",
     "shell.execute_reply.started": "2024-08-01T01:38:15.746161Z"
    }
   },
   "source": [
    "fnos = get_all_fno_names()"
   ]
  },
  {
   "cell_type": "raw",
   "metadata": {
    "execution": {
     "iopub.execute_input": "2024-08-01T01:38:19.393167Z",
     "iopub.status.busy": "2024-08-01T01:38:19.393167Z",
     "iopub.status.idle": "2024-08-01T01:38:19.406767Z",
     "shell.execute_reply": "2024-08-01T01:38:19.404753Z",
     "shell.execute_reply.started": "2024-08-01T01:38:19.393167Z"
    }
   },
   "source": [
    "len(fnos)"
   ]
  },
  {
   "cell_type": "code",
   "execution_count": 4,
   "metadata": {
    "execution": {
     "iopub.execute_input": "2024-08-01T01:52:02.352183Z",
     "iopub.status.busy": "2024-08-01T01:52:02.352183Z",
     "iopub.status.idle": "2024-08-01T01:52:02.361154Z",
     "shell.execute_reply": "2024-08-01T01:52:02.360049Z",
     "shell.execute_reply.started": "2024-08-01T01:52:02.352183Z"
    }
   },
   "outputs": [],
   "source": [
    "# TRANSFERRED TO NSE.PY\n",
    "\n",
    "def make_raw_fno_df(fnos) -> pd.DataFrame:\n",
    "    \"\"\"Makes all the raw fnos\"\"\"\n",
    "\n",
    "    n = NSEfnos()\n",
    "\n",
    "    dfs = []\n",
    "\n",
    "    with tqdm(total=len(fnos), desc='Generating raw fnos', unit='s') as pbar:\n",
    "        \n",
    "        for s in tqdm(fnos):\n",
    "            try:\n",
    "                df = equity_iv_df(n.stock_quote_fno(s))\n",
    "                dfs.append(df)\n",
    "            except Exception as e:\n",
    "                logger.error(f\"Error for {s} - error: {e}\")\n",
    "                pass\n",
    "\n",
    "            pbar.update(1)\n",
    "            \n",
    "    df = pd.concat(dfs, ignore_index=True)\n",
    "\n",
    "    return df"
   ]
  },
  {
   "cell_type": "raw",
   "metadata": {
    "execution": {
     "iopub.execute_input": "2024-08-01T01:38:19.430086Z",
     "iopub.status.busy": "2024-08-01T01:38:19.429086Z",
     "iopub.status.idle": "2024-08-01T01:38:28.399304Z",
     "shell.execute_reply": "2024-08-01T01:38:28.399304Z",
     "shell.execute_reply.started": "2024-08-01T01:38:19.430086Z"
    }
   },
   "source": [
    "df = make_raw_fno_df(fnos)"
   ]
  },
  {
   "cell_type": "raw",
   "metadata": {
    "execution": {
     "iopub.execute_input": "2024-07-31T23:16:54.069288Z",
     "iopub.status.busy": "2024-07-31T23:16:54.068280Z",
     "iopub.status.idle": "2024-07-31T23:16:54.103341Z",
     "shell.execute_reply": "2024-07-31T23:16:54.102322Z",
     "shell.execute_reply.started": "2024-07-31T23:16:54.069288Z"
    }
   },
   "source": [
    "# !!! TEMPORARY\n",
    "from utils import get_pickle\n",
    "\n",
    "df = get_pickle(ROOT / \"data\" / \"raw\" / \"df_opts.pkl\")"
   ]
  },
  {
   "cell_type": "raw",
   "metadata": {
    "execution": {
     "iopub.execute_input": "2024-07-31T23:37:59.213287Z",
     "iopub.status.busy": "2024-07-31T23:37:59.213287Z",
     "iopub.status.idle": "2024-07-31T23:37:59.270374Z",
     "shell.execute_reply": "2024-07-31T23:37:59.268476Z",
     "shell.execute_reply.started": "2024-07-31T23:37:59.213287Z"
    }
   },
   "source": [
    "from utils import pickle_with_age_check\n",
    "pickle_with_age_check(df, ROOT/'data'/'raw'/'df_opts.pkl', 0.04)"
   ]
  },
  {
   "cell_type": "raw",
   "metadata": {
    "execution": {
     "iopub.execute_input": "2024-07-31T23:38:09.208040Z",
     "iopub.status.busy": "2024-07-31T23:38:09.207051Z",
     "iopub.status.idle": "2024-07-31T23:38:09.311689Z",
     "shell.execute_reply": "2024-07-31T23:38:09.310327Z",
     "shell.execute_reply.started": "2024-07-31T23:38:09.208040Z"
    }
   },
   "source": [
    "df[df.ib_symbol.str.contains('NIFTY')]"
   ]
  },
  {
   "cell_type": "markdown",
   "metadata": {},
   "source": [
    "## Get the closest strikes"
   ]
  },
  {
   "cell_type": "raw",
   "metadata": {
    "execution": {
     "iopub.execute_input": "2024-08-01T00:30:18.439581Z",
     "iopub.status.busy": "2024-08-01T00:30:18.437582Z",
     "iopub.status.idle": "2024-08-01T00:30:18.458105Z",
     "shell.execute_reply": "2024-08-01T00:30:18.457094Z",
     "shell.execute_reply.started": "2024-08-01T00:30:18.439581Z"
    }
   },
   "source": [
    "## My Own Code\n",
    "def get_closest_margins(port: port, save: bool=False, timeout: int=3):\n",
    "    \"\"\"Gets margins of strikes closest to undPrice with earliest expiry\"\"\"\n",
    "\n",
    "    fnos = get_all_fno_names()\n",
    "\n",
    "    df = make_raw_fno_df(fnos)\n",
    "    \n",
    "    # get closest strikes\n",
    "    g = df.groupby(\"ib_symbol\", group_keys=False)\n",
    "    idx = g.apply(lambda x: get_closest_strike(x), include_groups=False).index\n",
    "    \n",
    "    dfe = df.iloc[idx]\n",
    "    \n",
    "    # append the cos\n",
    "    dfcos = append_cos(dfe)[['contract', 'order']]\n",
    "    \n",
    "    # chunk the cos\n",
    "    df_chunks = chunk_me(dfcos, 10)\n",
    "    \n",
    "    # process the chunks   \n",
    "    dfs = []\n",
    "    \n",
    "    # Get margins with approrpriate timeout and append\n",
    "    with tqdm(total=len(df_chunks), desc=\"Getting closest strike margins\", unit=\"symbol\") as pbar:\n",
    "        for dfo in df_chunks:\n",
    "            with IB().connect(port=port) as ib:\n",
    "                df_mcom = ib.run(marginsAsync(ib=ib, df=dfo, timeout=timeout))\n",
    "                dfs.append(df_mcom)\n",
    "                pbar.update(1)\n",
    "    \n",
    "    df_mcom = pd.concat(dfs, ignore_index=True)\n",
    "    \n",
    "    # clean up the margins and commissions\n",
    "    df_margins = pd.concat([dfe.reset_index(drop=True), df_mcom], axis=1)\n",
    "    new_comm = np.where(df_margins.comm.isnull(), df_margins.comm.max(), df_margins.comm)\n",
    "    new_margin = np.where(df_margins.margin <= 0, np.nan, df_margins.margin)\n",
    "    dfm = df_margins.assign(comm=new_comm, margin=new_margin)\n",
    "\n",
    "    df_all = update_margin_comm(df, dfm)\n",
    "\n",
    "    if save:\n",
    "        pickle_me(df_all, ROOT/'data'/ 'df_all_opts.pkl')\n",
    "        pickle_me(dfm, ROOT / 'data'/ 'df_und_margins.pkl')\n",
    "        \n",
    "    return dfms\n"
   ]
  },
  {
   "cell_type": "code",
   "execution_count": 5,
   "metadata": {
    "execution": {
     "iopub.execute_input": "2024-08-01T01:52:02.363163Z",
     "iopub.status.busy": "2024-08-01T01:52:02.363163Z",
     "iopub.status.idle": "2024-08-01T01:52:02.369781Z",
     "shell.execute_reply": "2024-08-01T01:52:02.369781Z",
     "shell.execute_reply.started": "2024-08-01T01:52:02.363163Z"
    }
   },
   "outputs": [],
   "source": [
    "def update_margin_comm(df: pd.DataFrame, dfm: pd.DataFrame) -> pd.DataFrame:\n",
    "    \"\"\"\n",
    "    Update the 'margin' and 'comm' columns in the given DataFrame from another DataFrame.\n",
    "\n",
    "    This function updates the 'margin' and 'comm' columns in the input DataFrame `df`\n",
    "    using the values from `dfm`. If the 'margin' and 'comm' columns do not exist in\n",
    "    `df`, they will be added. The update is based on matching 'ib_symbol' values.\n",
    "\n",
    "    Args:\n",
    "        df (pd.DataFrame): The original DataFrame containing at least an 'ib_symbol' column.\n",
    "        dfm (pd.DataFrame): A DataFrame containing 'ib_symbol', 'margin', and 'comm' columns\n",
    "                            with new values to update in `df`.\n",
    "\n",
    "    Returns:\n",
    "        pd.DataFrame: The updated DataFrame with 'margin' and 'comm' columns updated or added.\n",
    "    \"\"\"\n",
    "    \n",
    "    # Set 'ib_symbol' as the index for both DataFrames to align them\n",
    "    df1 = df.set_index('ib_symbol')\n",
    "    df2 = dfm[['ib_symbol', 'margin', 'comm']].set_index('ib_symbol')\n",
    "\n",
    "    # Update existing columns\n",
    "    df1.update(df2)\n",
    "\n",
    "    # Add new columns if they do not exist\n",
    "    for col in ['margin', 'comm']:\n",
    "        if col in df2.columns:\n",
    "            df1[col] = df2[col]\n",
    "\n",
    "    # Reset index to bring 'ib_symbol' back as a column\n",
    "    df1.reset_index(inplace=True)\n",
    "\n",
    "    return df1"
   ]
  },
  {
   "cell_type": "code",
   "execution_count": 7,
   "metadata": {
    "execution": {
     "iopub.execute_input": "2024-08-01T01:53:24.113762Z",
     "iopub.status.busy": "2024-08-01T01:53:24.110014Z",
     "iopub.status.idle": "2024-08-01T01:53:24.136990Z",
     "shell.execute_reply": "2024-08-01T01:53:24.134977Z",
     "shell.execute_reply.started": "2024-08-01T01:53:24.113762Z"
    }
   },
   "outputs": [],
   "source": [
    "## Cleand up by chatgpt 4o\n",
    "def get_closest_margins(port: int, save: bool = False, timeout: int = 3):\n",
    "    \"\"\"Gets margins of strikes closest to undPrice with earliest expiry\"\"\"\n",
    "\n",
    "    # Retrieve all FNO names and create a raw DataFrame\n",
    "    df = make_raw_fno_df(get_all_fno_names())\n",
    "    \n",
    "    # Get closest strikes by grouping and applying the closest strike function\n",
    "    dfe = df.loc[df.groupby(\"ib_symbol\").apply(get_closest_strike).index]\n",
    "    \n",
    "    # Append the cost of sales information and chunk the DataFrame\n",
    "    df_chunks = chunk_me(append_cos(dfe)[['contract', 'order']], 10)\n",
    "    \n",
    "    # Initialize a list to store margins from each chunk\n",
    "    dfs = []\n",
    "\n",
    "    # Use a progress bar to track the processing of chunks\n",
    "    with tqdm(total=len(df_chunks), desc=\"Getting closest strike margins\", unit=\"symbol\") as pbar:\n",
    "        for dfo in df_chunks:\n",
    "            with IB().connect(port=port) as ib:\n",
    "                # Get margins asynchronously and append to the list\n",
    "                dfs.append(ib.run(marginsAsync(ib=ib, df=dfo, timeout=timeout)))\n",
    "                pbar.update(1)\n",
    "    \n",
    "    # Concatenate all margins into a single DataFrame\n",
    "    df_mcom = pd.concat(dfs, ignore_index=True)\n",
    "    \n",
    "    # Clean up margins and commissions\n",
    "    df_margins = pd.concat([dfe.reset_index(drop=True), df_mcom], axis=1)\n",
    "    df_margins['comm'] = np.where(df_margins.comm.isnull(), df_margins.comm.max(), df_margins.comm)\n",
    "    df_margins['margin'] = np.where(df_margins.margin <= 0, np.nan, df_margins.margin)\n",
    "\n",
    "    # Update the original DataFrame with new margins and commissions\n",
    "    df_all = update_margin_comm(df, df_margins)\n",
    "\n",
    "    # Save the DataFrames if the save flag is set\n",
    "    if save:\n",
    "        pickle_me(df_all, ROOT / 'data' / 'df_all_opts.pkl')\n",
    "        pickle_me(df_margins, ROOT / 'data' / 'df_und_margins.pkl')\n",
    "        \n",
    "    return df_margins"
   ]
  },
  {
   "cell_type": "raw",
   "metadata": {
    "execution": {
     "iopub.execute_input": "2024-08-01T01:48:15.318173Z",
     "iopub.status.busy": "2024-08-01T01:48:15.318173Z",
     "iopub.status.idle": "2024-08-01T01:49:49.733985Z",
     "shell.execute_reply": "2024-08-01T01:49:49.733985Z",
     "shell.execute_reply.started": "2024-08-01T01:48:15.318173Z"
    },
    "scrolled": true
   },
   "source": [
    "dfm = get_closest_margins(port=port, save=True)"
   ]
  },
  {
   "cell_type": "code",
   "execution_count": 17,
   "metadata": {
    "execution": {
     "iopub.execute_input": "2024-08-01T01:51:47.565893Z",
     "iopub.status.busy": "2024-08-01T01:51:47.564896Z",
     "iopub.status.idle": "2024-08-01T01:51:47.607310Z",
     "shell.execute_reply": "2024-08-01T01:51:47.605230Z",
     "shell.execute_reply.started": "2024-08-01T01:51:47.565893Z"
    },
    "scrolled": true
   },
   "outputs": [
    {
     "ename": "NameError",
     "evalue": "name 'df' is not defined",
     "output_type": "error",
     "traceback": [
      "\u001b[1;31m---------------------------------------------------------------------------\u001b[0m",
      "\u001b[1;31mNameError\u001b[0m                                 Traceback (most recent call last)",
      "Cell \u001b[1;32mIn[17], line 2\u001b[0m\n\u001b[0;32m      1\u001b[0m \u001b[38;5;66;03m# Update the original DataFrame with new margins and commissions\u001b[39;00m\n\u001b[1;32m----> 2\u001b[0m df_all \u001b[38;5;241m=\u001b[39m update_margin_comm(\u001b[43mdf\u001b[49m, df_margins)\n",
      "\u001b[1;31mNameError\u001b[0m: name 'df' is not defined"
     ]
    }
   ],
   "source": [
    "# Update the original DataFrame with new margins and commissions\n",
    "df_all = update_margin_comm(df, df_margins)"
   ]
  },
  {
   "cell_type": "code",
   "execution_count": null,
   "metadata": {},
   "outputs": [],
   "source": []
  },
  {
   "cell_type": "code",
   "execution_count": null,
   "metadata": {},
   "outputs": [],
   "source": [
    "update_margin_comm(df, dfm)"
   ]
  },
  {
   "cell_type": "code",
   "execution_count": null,
   "metadata": {},
   "outputs": [],
   "source": [
    "df.head()"
   ]
  },
  {
   "cell_type": "code",
   "execution_count": null,
   "metadata": {},
   "outputs": [],
   "source": [
    "dfm.head()"
   ]
  },
  {
   "cell_type": "code",
   "execution_count": null,
   "metadata": {},
   "outputs": [],
   "source": [
    "df1 = df.set_index('ib_symbol')\n",
    "df2 = dfm[['ib_symbol', 'margin', 'comm']].set_index('ib_symbol')\n",
    "\n",
    "df1.update(df2)\n",
    "\n",
    "df1"
   ]
  },
  {
   "cell_type": "code",
   "execution_count": null,
   "metadata": {},
   "outputs": [],
   "source": [
    "df2"
   ]
  },
  {
   "cell_type": "code",
   "execution_count": null,
   "metadata": {},
   "outputs": [],
   "source": []
  }
 ],
 "metadata": {
  "kernelspec": {
   "display_name": "Python 3 (ipykernel)",
   "language": "python",
   "name": "python3"
  },
  "language_info": {
   "codemirror_mode": {
    "name": "ipython",
    "version": 3
   },
   "file_extension": ".py",
   "mimetype": "text/x-python",
   "name": "python",
   "nbconvert_exporter": "python",
   "pygments_lexer": "ipython3",
   "version": "3.11.5"
  }
 },
 "nbformat": 4,
 "nbformat_minor": 4
}
