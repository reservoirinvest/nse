{
 "cells": [
  {
   "cell_type": "markdown",
   "id": "061e8ac6-c27f-444e-9012-a37a748737d7",
   "metadata": {},
   "source": [
    "# ASYNC MARGINS"
   ]
  },
  {
   "cell_type": "code",
   "execution_count": null,
   "id": "1a64c117-6276-4e94-aa53-fa029a4e2e83",
   "metadata": {},
   "outputs": [],
   "source": [
    "## THIS CELL SHOULD BE IN ALL NOTEBOOKS ##\n",
    "\n",
    "import sys\n",
    "\n",
    "import pandas as pd\n",
    "from from_root import from_root\n",
    "from ib_async import util\n",
    "\n",
    "ROOT = from_root()\n",
    "if str(ROOT) not in sys.path:\n",
    "    sys.path.insert(1, str(ROOT))\n",
    "\n",
    "pd.options.display.max_columns = None\n",
    "pd.set_option(\"display.precision\", 2)"
   ]
  },
  {
   "cell_type": "code",
   "execution_count": null,
   "id": "619fd066-dd75-47af-b48d-7bf8115ebe50",
   "metadata": {},
   "outputs": [],
   "source": [
    "# SET ENVIRONMENTS AND IMPORTS\n",
    "import asyncio\n",
    "import math\n",
    "from typing import Union\n",
    "\n",
    "import nest_asyncio\n",
    "import numpy as np\n",
    "from ib_async import IB, MarketOrder, Option\n",
    "from loguru import logger\n",
    "\n",
    "from nse import RBI, NSEfnos, equity_iv_df\n",
    "from utils import (\n",
    "    arrange_df_columns,\n",
    "    black_scholes,\n",
    "    get_prec,\n",
    "    load_config,\n",
    "    make_contracts_orders,\n",
    "    merge_and_overwrite_df,\n",
    ")\n",
    "\n",
    "nest_asyncio.apply()\n",
    "\n",
    "config = load_config()"
   ]
  },
  {
   "cell_type": "markdown",
   "id": "83196a16-b614-40cb-a192-5c7ab294ef23",
   "metadata": {
    "execution": {
     "iopub.execute_input": "2024-07-30T09:00:19.245097Z",
     "iopub.status.busy": "2024-07-30T09:00:19.244094Z",
     "iopub.status.idle": "2024-07-30T09:00:19.256969Z",
     "shell.execute_reply": "2024-07-30T09:00:19.255951Z",
     "shell.execute_reply.started": "2024-07-30T09:00:19.245097Z"
    }
   },
   "source": [
    "## Build a symbol"
   ]
  },
  {
   "cell_type": "code",
   "execution_count": null,
   "id": "1263b09d-9517-4be7-b345-3c7e630252a8",
   "metadata": {},
   "outputs": [],
   "source": [
    "# Fetch a symbol\n",
    "symbol = \"PNB\""
   ]
  },
  {
   "cell_type": "code",
   "execution_count": null,
   "id": "f1cb4422-6965-4d06-81bf-1c276e9ffab4",
   "metadata": {},
   "outputs": [],
   "source": [
    "n = NSEfnos()\n",
    "q = n.stock_quote_fno(symbol)"
   ]
  },
  {
   "cell_type": "code",
   "execution_count": null,
   "id": "4f1a137b-7538-4430-85fc-9133e0eb8aa0",
   "metadata": {},
   "outputs": [],
   "source": [
    "dfe = equity_iv_df(q)"
   ]
  },
  {
   "cell_type": "code",
   "execution_count": null,
   "id": "4b1d3262-e53b-40eb-a96d-d2373aa5a6f6",
   "metadata": {},
   "outputs": [],
   "source": [
    "# clean up zero IVs and dtes\n",
    "mask = (dfe.iv > 0) & (dfe.dte > 0)\n",
    "df = dfe[mask].reset_index(drop=True)"
   ]
  },
  {
   "cell_type": "code",
   "execution_count": null,
   "id": "9d956608-168f-45b9-82ad-42a1f026edbe",
   "metadata": {},
   "outputs": [],
   "source": [
    "df"
   ]
  },
  {
   "cell_type": "markdown",
   "id": "56e24da7-e4ff-4324-8e33-a997226de9b0",
   "metadata": {},
   "source": [
    "## Append safe strikes"
   ]
  },
  {
   "cell_type": "code",
   "execution_count": null,
   "id": "3a27d5ef-caba-4bac-89e2-c9080527b8cf",
   "metadata": {},
   "outputs": [],
   "source": [
    "def append_safe_strikes(df: pd.DataFrame) -> pd.DataFrame:\n",
    "    \"\"\"Appends safe-strikes and intrinsics from iv, undPrice and dte\"\"\"\n",
    "\n",
    "    PUTSTDMULT = config.get(\"PUTSTDMULT\")\n",
    "    CALLSTDMULT = config.get(\"CALLSTDMULT\")\n",
    "\n",
    "    df_sp = pd.concat(\n",
    "        [\n",
    "            df,\n",
    "            pd.Series(\n",
    "                df.iv\n",
    "                * df.undPrice\n",
    "                * (df.dte / 365).apply(lambda x: math.sqrt(x) if x >= 0 else np.nan),\n",
    "                name=\"sdev\",\n",
    "            ),\n",
    "        ],\n",
    "        axis=1,\n",
    "    )\n",
    "\n",
    "    # calculate safe strike with option price added\n",
    "    safe_strike = np.where(\n",
    "        df_sp.right == \"P\",\n",
    "        (df_sp.undPrice - df_sp.sdev * PUTSTDMULT).astype(\"int\"),\n",
    "        (df_sp.undPrice + df_sp.sdev * CALLSTDMULT).astype(\"int\"),\n",
    "    )\n",
    "\n",
    "    df_sp = df_sp.assign(safe_strike=safe_strike)\n",
    "\n",
    "    # intrinsic value\n",
    "    intrinsic = np.where(\n",
    "        df_sp.right == \"P\",\n",
    "        (df_sp.strike - df_sp.safe_strike).map(lambda x: max(0, x)),\n",
    "        (df_sp.safe_strike - df_sp.strike).map(lambda x: max(0, x)),\n",
    "    )\n",
    "\n",
    "    df_sp = df_sp.assign(intrinsic=intrinsic)\n",
    "\n",
    "    return df_sp"
   ]
  },
  {
   "cell_type": "code",
   "execution_count": null,
   "id": "1130a9a0-39be-4518-ac01-9f1d1e54a9f4",
   "metadata": {},
   "outputs": [],
   "source": [
    "df = append_safe_strikes(df)"
   ]
  },
  {
   "cell_type": "markdown",
   "id": "5237a5fb-ce86-4372-b27e-d1cf1a5fa3af",
   "metadata": {},
   "source": [
    "## Append black-scholes price"
   ]
  },
  {
   "cell_type": "code",
   "execution_count": null,
   "id": "15a86023-eaa6-40a1-8516-76009f0f7960",
   "metadata": {},
   "outputs": [],
   "source": [
    "def append_black_scholes(df: pd.DataFrame) -> pd.DataFrame:\n",
    "    \"\"\"Appends black_scholed price to df\"\"\"\n",
    "\n",
    "    rbi = RBI()\n",
    "    risk_free_rate = rbi.repo_rate() / 100\n",
    "\n",
    "    # Compute the black_scholes of option strike\n",
    "    bsPrice = df.apply(\n",
    "        lambda row: black_scholes(\n",
    "            S=row[\"undPrice\"],\n",
    "            K=row[\"strike\"],\n",
    "            T=row[\"dte\"] / 365,  # Convert days to years\n",
    "            r=risk_free_rate,\n",
    "            sigma=row[\"iv\"],\n",
    "            option_type=row[\"right\"],\n",
    "        ),\n",
    "        axis=1,\n",
    "    )\n",
    "\n",
    "    df_out = df.assign(bsPrice=bsPrice)\n",
    "\n",
    "    return df_out"
   ]
  },
  {
   "cell_type": "code",
   "execution_count": null,
   "id": "07144c2c-7318-4d6b-8e16-f605295ea583",
   "metadata": {},
   "outputs": [],
   "source": [
    "df = append_black_scholes(df)"
   ]
  },
  {
   "cell_type": "code",
   "execution_count": null,
   "id": "9e768c4e-2e58-46b3-b116-6bfd661a82cf",
   "metadata": {},
   "outputs": [],
   "source": [
    "df.head()"
   ]
  },
  {
   "cell_type": "markdown",
   "id": "9ec7eef2-e8e7-4a11-b30b-663889e1331e",
   "metadata": {},
   "source": [
    "## Append contract orders"
   ]
  },
  {
   "cell_type": "code",
   "execution_count": null,
   "id": "e0f0a306-a5e9-4862-bdbe-e63b9ccc2d1d",
   "metadata": {},
   "outputs": [],
   "source": [
    "def append_cos(df: pd.DataFrame) -> pd.DataFrame:\n",
    "\n",
    "    \"\"\"Append contract and order fields\"\"\"\n",
    "\n",
    "    dfo = make_contracts_orders(df)\n",
    "    df = df.assign(contract=dfo.contract, order=dfo.order)\n",
    "\n",
    "    return df"
   ]
  },
  {
   "cell_type": "code",
   "execution_count": null,
   "id": "6508dfaf-84a0-41e4-be13-7cfadc4fb890",
   "metadata": {},
   "outputs": [],
   "source": [
    "df = append_cos(df)"
   ]
  },
  {
   "cell_type": "code",
   "execution_count": null,
   "id": "1abc6426-da3b-456a-b536-cd128bfa8c31",
   "metadata": {},
   "outputs": [],
   "source": [
    "df"
   ]
  },
  {
   "cell_type": "markdown",
   "id": "edaca2aa-fba9-4573-abe5-891dac64132d",
   "metadata": {},
   "source": [
    "## Get margins"
   ]
  },
  {
   "cell_type": "code",
   "execution_count": null,
   "id": "d097f44b-4755-49c7-8a22-dda35d8767da",
   "metadata": {},
   "outputs": [],
   "source": [
    "async def get_one_margin(ib, contract, order, timeout):\n",
    "    \"\"\"Get margin with commissions within a time\"\"\"\n",
    "    try:\n",
    "        wif = await asyncio.wait_for(\n",
    "            ib.whatIfOrderAsync(contract, order), timeout=timeout\n",
    "        )\n",
    "    except asyncio.TimeoutError:\n",
    "        logger.error(f\"{contract.localSymbol} wif timed out!\")\n",
    "        wif = None\n",
    "    return wif\n",
    "\n",
    "\n",
    "def margin_comm(r) -> dict:\n",
    "    \"\"\"Clean a result\"\"\"\n",
    "\n",
    "    if r:\n",
    "        margin = float(r.maintMarginChange)\n",
    "        comm = min(float(r.commission), float(r.minCommission), float(r.maxCommission))\n",
    "        if comm > 1e7:\n",
    "            comm = np.nan\n",
    "    else:\n",
    "        margin = comm = np.nan\n",
    "\n",
    "    return (margin, comm)\n",
    "\n",
    "\n",
    "async def marginsAsync(\n",
    "    df: pd.DataFrame, port: int, timeout: float = 2, eod: bool = True, ist: bool = True\n",
    ") -> pd.DataFrame:\n",
    "    \"\"\"Gets async contracts from a df\n",
    "    Args:\n",
    "      df: dataframe with `contract` and `order` columns\n",
    "      port: ib port\n",
    "      timeout: time to wait. ~2 seconds for 10 rows\n",
    "    Returns:\n",
    "      a Dataframe with same index as input\"\"\"\n",
    "\n",
    "    try:\n",
    "        contracts = df.contract.to_list()\n",
    "        orders = df.order.to_list()\n",
    "    except ValueError as e:\n",
    "        logging.error(f\"df does not have contract or order.Error: {e}\")\n",
    "        return pd.DataFrame([])\n",
    "\n",
    "    with IB().connect(port=port) as ib:\n",
    "\n",
    "        # qualify contracts if there is no conId\n",
    "        if df.contract.iloc[0].conId == 0:\n",
    "            ib.qualifyContracts(*contracts)\n",
    "\n",
    "        cos = zip(contracts, orders)\n",
    "\n",
    "        tasks = [asyncio.create_task(get_one_margin(ib, c, o, timeout)) for c, o in cos]\n",
    "\n",
    "        results = await asyncio.gather(*tasks)\n",
    "\n",
    "    mcom = [margin_comm(r) for r in results]\n",
    "\n",
    "    df1 = pd.DataFrame(mcom, columns=[\"margin\", \"comm\"])\n",
    "    df_mcom = df1.assign(contract=contracts)\n",
    "\n",
    "    return df_mcom"
   ]
  },
  {
   "cell_type": "code",
   "execution_count": null,
   "id": "a64deb37-454d-4820-bed0-5bf41116da1a",
   "metadata": {},
   "outputs": [],
   "source": [
    "port = config.get(\"PORT\")\n",
    "df_mcom = await marginsAsync(df, port, timeout=2)"
   ]
  },
  {
   "cell_type": "code",
   "execution_count": null,
   "id": "4ca30729-09fa-490c-9e77-3b3f794008d6",
   "metadata": {},
   "outputs": [],
   "source": [
    "df.head()"
   ]
  },
  {
   "cell_type": "code",
   "execution_count": null,
   "id": "c23e8001-6ee3-488a-b315-0d9d47bf11aa",
   "metadata": {},
   "outputs": [],
   "source": [
    "df_mcom.head()"
   ]
  },
  {
   "cell_type": "code",
   "execution_count": null,
   "id": "2a269ce9-6497-4c90-8313-9b8b44f2caaa",
   "metadata": {},
   "outputs": [],
   "source": [
    "df"
   ]
  },
  {
   "cell_type": "markdown",
   "id": "ded27040-c2cf-4801-815b-6bff2770eb61",
   "metadata": {},
   "source": [
    "## Get the expected price and rom"
   ]
  },
  {
   "cell_type": "code",
   "execution_count": null,
   "id": "d3b93f95-a01b-430c-ad86-6b74e2fb840f",
   "metadata": {},
   "outputs": [],
   "source": [
    "def append_xPrice(df: pd.DataFrame) -> pd.DataFrame:\n",
    "\n",
    "    \"\"\"Append expected price, filter minimum rom and sort by likeliest\"\"\"\n",
    "\n",
    "    # remove order column\n",
    "    df = merge_and_overwrite_df(df, df_mcom).\\\n",
    "                drop(columns=['order'], errors='ignore')\n",
    "    \n",
    "    # get maxprice\n",
    "    maxPrice = np.maximum(df.price, df.bsPrice)\n",
    "    \n",
    "    # get expected price\n",
    "    xPrice = (df.intrinsic + maxPrice).apply(lambda x: max(get_prec(x, 0.05), 0.05))\n",
    "    df = df.assign(xPrice = xPrice)\n",
    "    \n",
    "    # prevent divide by zero for rom\n",
    "    margin = np.where(df.margin <= 0, np.nan, df.margin)\n",
    "    \n",
    "    # calculate rom\n",
    "    rom = df.xPrice * df.lot / margin * 365 / df.dte\n",
    "    df = df.assign(rom=rom)\n",
    "\n",
    "    # ensure minimum expected ROM\n",
    "    MINEXPROM = config.get('MINEXPROM')\n",
    "    df = df[df.rom > MINEXPROM].reset_index(drop=True)\n",
    "\n",
    "    # sort by likeliest\n",
    "    df = df.loc[(df.xPrice / df.price).sort_values().index]\n",
    "\n",
    "    return df"
   ]
  },
  {
   "cell_type": "code",
   "execution_count": null,
   "id": "80270e2e-5272-4f18-ae33-439d2dafad29",
   "metadata": {},
   "outputs": [],
   "source": [
    "df = append_xPrice(df)"
   ]
  },
  {
   "cell_type": "code",
   "execution_count": null,
   "id": "88751519-a824-40f6-b6a7-9feb672574fd",
   "metadata": {},
   "outputs": [],
   "source": [
    "125-109"
   ]
  },
  {
   "cell_type": "code",
   "execution_count": null,
   "id": "9eacf26b-433d-4021-b151-c0955e6e8625",
   "metadata": {},
   "outputs": [],
   "source": []
  }
 ],
 "metadata": {
  "kernelspec": {
   "display_name": ".venv",
   "language": "python",
   "name": ".venv"
  },
  "language_info": {
   "codemirror_mode": {
    "name": "ipython",
    "version": 3
   },
   "file_extension": ".py",
   "mimetype": "text/x-python",
   "name": "python",
   "nbconvert_exporter": "python",
   "pygments_lexer": "ipython3",
   "version": "3.11.5"
  }
 },
 "nbformat": 4,
 "nbformat_minor": 5
}
