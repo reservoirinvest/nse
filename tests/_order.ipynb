{
 "cells": [
  {
   "cell_type": "markdown",
   "metadata": {},
   "source": [
    "# Order Nakeds"
   ]
  },
  {
   "cell_type": "code",
   "execution_count": 1,
   "metadata": {
    "execution": {
     "iopub.execute_input": "2024-08-01T17:47:21.353851Z",
     "iopub.status.busy": "2024-08-01T17:47:21.352835Z",
     "iopub.status.idle": "2024-08-01T17:47:23.918900Z",
     "shell.execute_reply": "2024-08-01T17:47:23.917882Z",
     "shell.execute_reply.started": "2024-08-01T17:47:21.353851Z"
    }
   },
   "outputs": [
    {
     "data": {
      "text/plain": [
       "1"
      ]
     },
     "execution_count": 1,
     "metadata": {},
     "output_type": "execute_result"
    }
   ],
   "source": [
    "## THIS CELL SHOULD BE IN ALL VSCODE NOTEBOOKS ##\n",
    "\n",
    "MARKET = \"NSE\"\n",
    "\n",
    "# Set the root\n",
    "from from_root import from_root\n",
    "ROOT = from_root()\n",
    "\n",
    "import pandas as pd\n",
    "from loguru import logger\n",
    "\n",
    "pd.options.display.max_columns = None\n",
    "pd.set_option('display.precision', 2)\n",
    "\n",
    "from pathlib import Path\n",
    "import sys\n",
    "\n",
    "# Add `src` and ROOT to _src.pth in .venv to allow imports in VS Code\n",
    "from sysconfig import get_path\n",
    "\n",
    "if \"src\" not in Path.cwd().parts:\n",
    "    src_path = str(Path(get_path(\"purelib\")) / \"_src.pth\")\n",
    "    with open(src_path, \"w\") as f:\n",
    "        f.write(str(ROOT / \"src\\n\"))\n",
    "        f.write(str(ROOT))\n",
    "        if str(ROOT) not in sys.path:\n",
    "            sys.path.insert(1, str(ROOT))\n",
    "\n",
    "# Start the Jupyter loop\n",
    "from ib_async import util\n",
    "\n",
    "util.startLoop()\n",
    "\n",
    "logger.add(sink=ROOT / \"log\" / \"ztest.log\", mode=\"w\")"
   ]
  },
  {
   "cell_type": "markdown",
   "metadata": {},
   "source": [
    "## Imports"
   ]
  },
  {
   "cell_type": "code",
   "execution_count": 2,
   "metadata": {
    "execution": {
     "iopub.execute_input": "2024-08-01T17:47:23.922907Z",
     "iopub.status.busy": "2024-08-01T17:47:23.922907Z",
     "iopub.status.idle": "2024-08-01T17:47:26.989046Z",
     "shell.execute_reply": "2024-08-01T17:47:26.988024Z",
     "shell.execute_reply.started": "2024-08-01T17:47:23.922907Z"
    }
   },
   "outputs": [],
   "source": [
    "from utils import handle_raws, get_pickle, load_config, arrange_orders, pickle_me, get_file_age, yes_or_no\n",
    "from datetime import datetime\n",
    "from ib_async import IB\n",
    "from ibfuncs import get_open_orders, quick_pf, place_orders, make_ib_orders"
   ]
  },
  {
   "cell_type": "markdown",
   "metadata": {},
   "source": [
    "## Set constants"
   ]
  },
  {
   "cell_type": "code",
   "execution_count": 3,
   "metadata": {
    "execution": {
     "iopub.execute_input": "2024-08-01T17:47:26.994043Z",
     "iopub.status.busy": "2024-08-01T17:47:26.993042Z",
     "iopub.status.idle": "2024-08-01T17:47:27.032132Z",
     "shell.execute_reply": "2024-08-01T17:47:27.031107Z",
     "shell.execute_reply.started": "2024-08-01T17:47:26.993042Z"
    }
   },
   "outputs": [],
   "source": [
    "config = load_config()\n",
    "port = config.get('PORT')\n",
    "MARGINPERORDER = config.get('MARGINPERORDER')"
   ]
  },
  {
   "cell_type": "markdown",
   "metadata": {},
   "source": [
    "## Handle Raws"
   ]
  },
  {
   "cell_type": "code",
   "execution_count": 4,
   "metadata": {
    "execution": {
     "iopub.execute_input": "2024-08-01T17:47:27.036187Z",
     "iopub.status.busy": "2024-08-01T17:47:27.035179Z",
     "iopub.status.idle": "2024-08-01T17:47:31.347776Z",
     "shell.execute_reply": "2024-08-01T17:47:31.346765Z",
     "shell.execute_reply.started": "2024-08-01T17:47:27.036187Z"
    }
   },
   "outputs": [
    {
     "name": "stderr",
     "output_type": "stream",
     "text": [
      "\u001b[32m2024-08-05 07:43:53.829\u001b[0m | \u001b[1mINFO    \u001b[0m | \u001b[36mutils\u001b[0m:\u001b[36mdelete_files\u001b[0m:\u001b[36m155\u001b[0m - \u001b[1mDeleted: C:\\Users\\kashi\\python\\nse\\data\\raw\\earliest_nakeds1.pkl\u001b[0m\n",
      "\u001b[32m2024-08-05 07:43:53.833\u001b[0m | \u001b[1mINFO    \u001b[0m | \u001b[36mutils\u001b[0m:\u001b[36mremove_raw_nakeds\u001b[0m:\u001b[36m194\u001b[0m - \u001b[1mDeleted files [WindowsPath('C:/Users/kashi/python/nse/data/raw/earliest_nakeds1.pkl')]\u001b[0m\n"
     ]
    }
   ],
   "source": [
    "# Consolidate raw files to df_nakeds.pkl\n",
    "handle_raws()"
   ]
  },
  {
   "cell_type": "code",
   "execution_count": 5,
   "metadata": {
    "execution": {
     "iopub.execute_input": "2024-08-01T17:47:56.012988Z",
     "iopub.status.busy": "2024-08-01T17:47:56.010981Z",
     "iopub.status.idle": "2024-08-01T17:47:56.027436Z",
     "shell.execute_reply": "2024-08-01T17:47:56.026423Z",
     "shell.execute_reply.started": "2024-08-01T17:47:56.011983Z"
    }
   },
   "outputs": [],
   "source": [
    "file_path = ROOT / 'data' / 'df_nakeds.pkl'\n",
    "\n",
    "def how_many_days_old(file_path) -> float:\n",
    "    \"\"\"Gets the file's age in days\"\"\"\n",
    "    file_age = get_file_age(file_path=file_path)\n",
    "    \n",
    "    seconds_in_a_day = 86400\n",
    "    file_age_in_days = file_age.td.total_seconds() / seconds_in_a_day if file_age else 0\n",
    "    \n",
    "    return file_age_in_days"
   ]
  },
  {
   "cell_type": "code",
   "execution_count": 6,
   "metadata": {
    "execution": {
     "iopub.execute_input": "2024-08-01T17:48:00.997401Z",
     "iopub.status.busy": "2024-08-01T17:48:00.997401Z",
     "iopub.status.idle": "2024-08-01T17:48:01.006902Z",
     "shell.execute_reply": "2024-08-01T17:48:01.004871Z",
     "shell.execute_reply.started": "2024-08-01T17:48:00.997401Z"
    }
   },
   "outputs": [],
   "source": [
    "## Check the age of df_pickles, before ordering"
   ]
  },
  {
   "cell_type": "code",
   "execution_count": 7,
   "metadata": {
    "execution": {
     "iopub.execute_input": "2024-08-01T17:49:46.716763Z",
     "iopub.status.busy": "2024-08-01T17:49:46.716763Z",
     "iopub.status.idle": "2024-08-01T17:49:49.353728Z",
     "shell.execute_reply": "2024-08-01T17:49:49.351707Z",
     "shell.execute_reply.started": "2024-08-01T17:49:46.716763Z"
    }
   },
   "outputs": [
    {
     "name": "stdout",
     "output_type": "stream",
     "text": [
      "\n",
      "\n",
      "\n",
      "   ib_symbol  undPrice  safe_strike right  strike    dte    hv    iv   lot  \\\n",
      "0      PIIND   4255.00         4987     C  5000.0  24.43  0.31  0.37   250   \n",
      "1  HINDUNILV   2696.00         2977     C  3000.0  24.44  0.23  0.22   300   \n",
      "2  BAJAJFINS   1622.00         1804     C  1800.0  24.44  0.29  0.24   500   \n",
      "3     CONCOR   1028.75         1205     C  1200.0  24.44  0.46  0.37  1000   \n",
      "4  BALKRISIN   3293.45         3816     C  3800.0  24.44  0.36  0.34   300   \n",
      "\n",
      "   price    sdev  intrinsic  bsPrice  comm   margin  xPrice    rom  \n",
      "0  12.55  406.67        0.0     9.23  20.0  1767.44   12.55  26.52  \n",
      "1   3.70  156.12        0.0     2.53  20.0  3264.98    3.70   5.08  \n",
      "2   3.50  101.44        4.0     2.50  20.0  5366.02    7.50  10.44  \n",
      "3   3.55   98.17        5.0     2.65  20.0  1580.74    8.55  80.79  \n",
      "4  10.40  290.51       16.0     7.71  20.0  5373.20   26.40  22.01  \n"
     ]
    }
   ],
   "source": [
    "txt = f\"df_nakeds.pkl is {how_many_days_old(file_path): 0.2f}. Want to load?\"\n",
    "ans = yes_or_no(txt)\n",
    "\n",
    "if ans:\n",
    "    df_opts = get_pickle(file_path)\n",
    "    print('\\n\\n')\n",
    "    print(df_opts.drop(columns=['nse_symbol', 'instrument', 'contract', 'expiry']).head())\n",
    "else:\n",
    "    print('Bye!!!')"
   ]
  },
  {
   "cell_type": "markdown",
   "metadata": {},
   "source": [
    "## check open orders"
   ]
  },
  {
   "cell_type": "code",
   "execution_count": 8,
   "metadata": {
    "execution": {
     "iopub.execute_input": "2024-08-01T17:49:53.995884Z",
     "iopub.status.busy": "2024-08-01T17:49:53.994882Z",
     "iopub.status.idle": "2024-08-01T17:49:54.686486Z",
     "shell.execute_reply": "2024-08-01T17:49:54.685477Z",
     "shell.execute_reply.started": "2024-08-01T17:49:53.995884Z"
    }
   },
   "outputs": [],
   "source": [
    "# check open orders\n",
    "with IB().connect(port=port, clientId=10) as ib:\n",
    "    dfo = get_open_orders(ib)\n",
    "    dfp = quick_pf(ib)\n",
    "    "
   ]
  },
  {
   "cell_type": "code",
   "execution_count": null,
   "metadata": {
    "execution": {
     "iopub.execute_input": "2024-08-01T17:49:54.696167Z",
     "iopub.status.busy": "2024-08-01T17:49:54.696167Z",
     "iopub.status.idle": "2024-08-01T17:49:54.702200Z",
     "shell.execute_reply": "2024-08-01T17:49:54.701189Z",
     "shell.execute_reply.started": "2024-08-01T17:49:54.696167Z"
    }
   },
   "outputs": [],
   "source": [
    "if not dfo.empty:\n",
    "    remove_opens = set(dfo.symbol.to_list())\n",
    "else:\n",
    "    remove_opens = set()"
   ]
  },
  {
   "cell_type": "code",
   "execution_count": 10,
   "metadata": {
    "execution": {
     "iopub.execute_input": "2024-08-01T17:49:55.225888Z",
     "iopub.status.busy": "2024-08-01T17:49:55.225888Z",
     "iopub.status.idle": "2024-08-01T17:49:55.245421Z",
     "shell.execute_reply": "2024-08-01T17:49:55.242836Z",
     "shell.execute_reply.started": "2024-08-01T17:49:55.225888Z"
    }
   },
   "outputs": [],
   "source": [
    "# make a list of symbols to be removed from df_opts\n",
    "\n",
    "if not dfp.empty:\n",
    "    remove_positions = set(dfp.symbol.to_list())\n",
    "else:\n",
    "    remove_positions = set()\n",
    "\n",
    "remove_ib_syms = remove_opens | remove_positions\n",
    "\n",
    "# get the target options to plant\n",
    "dft = df_opts[~df_opts.ib_symbol.isin(remove_ib_syms)].reset_index(drop=True)"
   ]
  },
  {
   "cell_type": "code",
   "execution_count": 11,
   "metadata": {
    "execution": {
     "iopub.execute_input": "2024-08-01T17:49:55.765182Z",
     "iopub.status.busy": "2024-08-01T17:49:55.764210Z",
     "iopub.status.idle": "2024-08-01T17:49:55.781424Z",
     "shell.execute_reply": "2024-08-01T17:49:55.780395Z",
     "shell.execute_reply.started": "2024-08-01T17:49:55.765182Z"
    }
   },
   "outputs": [
    {
     "data": {
      "text/plain": [
       "1267"
      ]
     },
     "execution_count": 11,
     "metadata": {},
     "output_type": "execute_result"
    }
   ],
   "source": [
    "len(dft)"
   ]
  },
  {
   "cell_type": "markdown",
   "metadata": {},
   "source": [
    "## Arrange and make orders"
   ]
  },
  {
   "cell_type": "code",
   "execution_count": 12,
   "metadata": {},
   "outputs": [],
   "source": [
    "df_nakeds = arrange_orders(dft, maxmargin=MARGINPERORDER)\n",
    "cos = make_ib_orders(df_nakeds)"
   ]
  },
  {
   "cell_type": "markdown",
   "metadata": {},
   "source": [
    "## PLACE THE ORDER"
   ]
  },
  {
   "cell_type": "raw",
   "metadata": {
    "vscode": {
     "languageId": "raw"
    }
   },
   "source": [
    "# place the orders\n",
    "with IB().connect(port=port, clientId=10) as ib:\n",
    "    ordered = place_orders(ib=ib, cos=cos)"
   ]
  },
  {
   "cell_type": "markdown",
   "metadata": {},
   "source": [
    "# Archive the orders into `xn_history`"
   ]
  },
  {
   "cell_type": "code",
   "execution_count": 14,
   "metadata": {},
   "outputs": [],
   "source": [
    "filename = f\"{datetime.now().strftime('%Y%m%d_%I_%M_%p')}_naked_orders.pkl\"\n",
    "pickle_me(ordered, str(ROOT / \"data\" / \"xn_history\" / str(filename)))"
   ]
  },
  {
   "cell_type": "raw",
   "metadata": {},
   "source": [
    "# ----- COPIED TO `ibfnncs.py` ----\n",
    "\n",
    "def order_nakeds(df_opts:pd.DataFrame, port=int) -> list:\n",
    "    \"\"\"Order nakeds\"\"\"\n",
    "    \n",
    "    config = load_config()\n",
    "    MARGINPERORDER = config.get('MARGINPERORDER')\n",
    "\n",
    "    # Check raw foder for remnants and process\n",
    "    handle_raws()\n",
    "\n",
    "    # Check open orders and make removal list\n",
    "    with IB().connect(port=port, clientId=10) as ib:\n",
    "        dfo = get_open_orders(ib)\n",
    "        dfp = quick_pf(ib)\n",
    "\n",
    "    if not dfo.empty:\n",
    "        remove_opens = set(dfo.symbol.to_list())\n",
    "    else:\n",
    "        remove_opens = set()\n",
    "\n",
    "    # make a list of symbols to be removed from df_opts\n",
    "\n",
    "    if not dfp.empty:\n",
    "        remove_positions = set(dfp.symbol.to_list())\n",
    "    else:\n",
    "        remove_positions = set()\n",
    "\n",
    "    remove_ib_syms = remove_opens | remove_positions\n",
    "\n",
    "    # get the target options to plant\n",
    "    dft = df_opts[~df_opts.ib_symbol.isin(remove_ib_syms)].reset_index(drop=True)\n",
    "\n",
    "    df_nakeds = arrange_orders(dft, maxmargin=MARGINPERORDER)\n",
    "    cos = make_ib_orders(df_nakeds)\n",
    "\n",
    "    # place the orders\n",
    "    if cos:\n",
    "        with IB().connect(port=port, clientId=10) as ib:\n",
    "            ordered = place_orders(ib=ib, cos=cos)\n",
    "        pass\n",
    "    else:\n",
    "        logger.info(f\"Nothing to order!\")\n",
    "        ordered = []\n",
    "\n",
    "    # timestamp and archive the orders\n",
    "    if ordered:\n",
    "        filename = f\"{datetime.now().strftime('%Y%m%d_%I_%M_%p')}_naked_orders.pkl\"\n",
    "        pickle_me(ordered, str(ROOT / \"data\" / \"xn_history\" / str(filename)))\n",
    "\n",
    "        logger.info(f\"Successfully placed {len(ordered)} orders\")\n",
    "\n",
    "    return ordered"
   ]
  },
  {
   "cell_type": "code",
   "execution_count": null,
   "metadata": {
    "execution": {
     "iopub.execute_input": "2024-08-01T17:48:35.356110Z",
     "iopub.status.busy": "2024-08-01T17:48:35.355110Z",
     "iopub.status.idle": "2024-08-01T17:48:38.785051Z",
     "shell.execute_reply": "2024-08-01T17:48:38.784045Z",
     "shell.execute_reply.started": "2024-08-01T17:48:35.356110Z"
    }
   },
   "outputs": [],
   "source": [
    "from ibfuncs import order_nakeds\n",
    "order_nakeds(df_opts=df_opts, port=port)"
   ]
  },
  {
   "cell_type": "code",
   "execution_count": null,
   "metadata": {},
   "outputs": [],
   "source": []
  }
 ],
 "metadata": {
  "kernelspec": {
   "display_name": "Python 3 (ipykernel)",
   "language": "python",
   "name": "python3"
  },
  "language_info": {
   "codemirror_mode": {
    "name": "ipython",
    "version": 3
   },
   "file_extension": ".py",
   "mimetype": "text/x-python",
   "name": "python",
   "nbconvert_exporter": "python",
   "pygments_lexer": "ipython3",
   "version": "3.11.5"
  }
 },
 "nbformat": 4,
 "nbformat_minor": 4
}
