{
 "cells": [
  {
   "cell_type": "markdown",
   "metadata": {},
   "source": [
    "# Order Nakeds"
   ]
  },
  {
   "cell_type": "code",
   "execution_count": null,
   "metadata": {},
   "outputs": [],
   "source": [
    "## THIS CELL SHOULD BE IN ALL VSCODE NOTEBOOKS ##\n",
    "\n",
    "MARKET = \"NSE\"\n",
    "\n",
    "# Set the root\n",
    "from from_root import from_root\n",
    "ROOT = from_root()\n",
    "\n",
    "import pandas as pd\n",
    "from loguru import logger\n",
    "\n",
    "pd.options.display.max_columns = None\n",
    "pd.set_option('display.precision', 2)\n",
    "\n",
    "from pathlib import Path\n",
    "import sys\n",
    "\n",
    "# Add `src` and ROOT to _src.pth in .venv to allow imports in VS Code\n",
    "from sysconfig import get_path\n",
    "\n",
    "if \"src\" not in Path.cwd().parts:\n",
    "    src_path = str(Path(get_path(\"purelib\")) / \"_src.pth\")\n",
    "    with open(src_path, \"w\") as f:\n",
    "        f.write(str(ROOT / \"src\\n\"))\n",
    "        f.write(str(ROOT))\n",
    "        if str(ROOT) not in sys.path:\n",
    "            sys.path.insert(1, str(ROOT))\n",
    "\n",
    "# Start the Jupyter loop\n",
    "from ib_async import util\n",
    "\n",
    "util.startLoop()\n",
    "\n",
    "logger.add(sink=ROOT / \"log\" / \"ztest.log\", mode=\"w\")"
   ]
  },
  {
   "cell_type": "markdown",
   "metadata": {},
   "source": [
    "## Imports"
   ]
  },
  {
   "cell_type": "code",
   "execution_count": null,
   "metadata": {},
   "outputs": [],
   "source": [
    "from utils import handle_raws, get_pickle, load_config, arrange_orders, pickle_me, get_file_age, yes_or_no\n",
    "from datetime import datetime\n",
    "from ib_async import IB\n",
    "from ibfuncs import get_open_orders, quick_pf, place_orders, make_ib_orders"
   ]
  },
  {
   "cell_type": "markdown",
   "metadata": {},
   "source": [
    "## Set constants"
   ]
  },
  {
   "cell_type": "code",
   "execution_count": null,
   "metadata": {},
   "outputs": [],
   "source": [
    "config = load_config()\n",
    "port = config.get('PORT')\n",
    "MARGINPERORDER = config.get('MARGINPERORDER')"
   ]
  },
  {
   "cell_type": "markdown",
   "metadata": {},
   "source": [
    "## Handle Raws"
   ]
  },
  {
   "cell_type": "code",
   "execution_count": null,
   "metadata": {},
   "outputs": [],
   "source": [
    "# Consolidate raw files to df_nakeds.pkl\n",
    "handle_raws()"
   ]
  },
  {
   "cell_type": "code",
   "execution_count": null,
   "metadata": {},
   "outputs": [],
   "source": [
    "file_path = ROOT / 'data' / 'df_nakeds.pkl'\n",
    "\n",
    "def how_many_days_old(file_path) -> float:\n",
    "    \"\"\"Gets the file's age in days\"\"\"\n",
    "    file_age = get_file_age(file_path=file_path)\n",
    "    \n",
    "    seconds_in_a_day = 86400\n",
    "    file_age_in_days = file_age.td.total_seconds() / seconds_in_a_day if file_age else 0\n",
    "    \n",
    "    return file_age_in_days"
   ]
  },
  {
   "cell_type": "code",
   "execution_count": null,
   "metadata": {},
   "outputs": [],
   "source": [
    "## Check the age of df_pickles, before ordering"
   ]
  },
  {
   "cell_type": "code",
   "execution_count": null,
   "metadata": {},
   "outputs": [],
   "source": [
    "txt = f\"df_nakeds.pkl is {how_many_days_old(file_path): 0.2f}. Want to load?\"\n",
    "ans = yes_or_no(txt)\n",
    "\n",
    "if ans:\n",
    "    df_opts = get_pickle(file_path)\n",
    "    print('\\n\\n')\n",
    "    print(df_opts.drop(columns=['nse_symbol', 'instrument', 'contract', 'expiry']).head())\n",
    "else:\n",
    "    print('Bye!!!')"
   ]
  },
  {
   "cell_type": "markdown",
   "metadata": {},
   "source": [
    "## check open orders"
   ]
  },
  {
   "cell_type": "raw",
   "metadata": {},
   "source": [
    "# check open orders\n",
    "with IB().connect(port=port, clientId=10) as ib:\n",
    "    dfo = get_open_orders(ib)\n",
    "    dfp = quick_pf(ib)\n",
    "    "
   ]
  },
  {
   "cell_type": "raw",
   "metadata": {},
   "source": [
    "if not dfo.empty:\n",
    "    remove_opens = set(dfo.symbol.to_list())\n",
    "else:\n",
    "    remove_opens = set()"
   ]
  },
  {
   "cell_type": "raw",
   "metadata": {},
   "source": [
    "# make a list of symbols to be removed from df_opts\n",
    "\n",
    "if not dfp.empty:\n",
    "    remove_positions = set(dfp.symbol.to_list())\n",
    "else:\n",
    "    remove_positions = set()\n",
    "\n",
    "remove_ib_syms = remove_opens | remove_positions\n",
    "\n",
    "# get the target options to plant\n",
    "dft = df_opts[~df_opts.ib_symbol.isin(remove_ib_syms)].reset_index(drop=True)"
   ]
  },
  {
   "cell_type": "markdown",
   "metadata": {},
   "source": [
    "## Arrange and make orders"
   ]
  },
  {
   "cell_type": "raw",
   "metadata": {},
   "source": [
    "df_nakeds = arrange_orders(dft, maxmargin=MARGINPERORDER)\n",
    "cos = make_ib_orders(df_nakeds)"
   ]
  },
  {
   "cell_type": "markdown",
   "metadata": {},
   "source": [
    "## PLACE THE ORDER"
   ]
  },
  {
   "cell_type": "raw",
   "metadata": {},
   "source": [
    "# place the orders\n",
    "with IB().connect(port=port, clientId=10) as ib:\n",
    "    ordered = place_orders(ib=ib, cos=cos)"
   ]
  },
  {
   "cell_type": "markdown",
   "metadata": {},
   "source": [
    "# Archive the orders into `xn_history`"
   ]
  },
  {
   "cell_type": "raw",
   "metadata": {},
   "source": [
    "filename = f\"{datetime.now().strftime('%Y%m%d_%I_%M_%p')}_naked_orders.pkl\"\n",
    "pickle_me(ordered, str(ROOT / \"data\" / \"xn_history\" / str(filename)))"
   ]
  },
  {
   "cell_type": "raw",
   "metadata": {},
   "source": [
    "# ----- COPIED TO `ibfnncs.py` ----\n",
    "\n",
    "def order_nakeds(df_opts:pd.DataFrame, port=int) -> list:\n",
    "    \"\"\"Order nakeds\"\"\"\n",
    "    \n",
    "    config = load_config()\n",
    "    MARGINPERORDER = config.get('MARGINPERORDER')\n",
    "\n",
    "    # Check raw foder for remnants and process\n",
    "    handle_raws()\n",
    "\n",
    "    # Check open orders and make removal list\n",
    "    with IB().connect(port=port, clientId=10) as ib:\n",
    "        dfo = get_open_orders(ib)\n",
    "        dfp = quick_pf(ib)\n",
    "\n",
    "    if not dfo.empty:\n",
    "        remove_opens = set(dfo.symbol.to_list())\n",
    "    else:\n",
    "        remove_opens = set()\n",
    "\n",
    "    # make a list of symbols to be removed from df_opts\n",
    "\n",
    "    if not dfp.empty:\n",
    "        remove_positions = set(dfp.symbol.to_list())\n",
    "    else:\n",
    "        remove_positions = set()\n",
    "\n",
    "    remove_ib_syms = remove_opens | remove_positions\n",
    "\n",
    "    # get the target options to plant\n",
    "    dft = df_opts[~df_opts.ib_symbol.isin(remove_ib_syms)].reset_index(drop=True)\n",
    "\n",
    "    df_nakeds = arrange_orders(dft, maxmargin=MARGINPERORDER)\n",
    "    cos = make_ib_orders(df_nakeds)\n",
    "\n",
    "    # place the orders\n",
    "    if cos:\n",
    "        with IB().connect(port=port, clientId=10) as ib:\n",
    "            ordered = place_orders(ib=ib, cos=cos)\n",
    "        pass\n",
    "    else:\n",
    "        logger.info(f\"Nothing to order!\")\n",
    "        ordered = []\n",
    "\n",
    "    # timestamp and archive the orders\n",
    "    if ordered:\n",
    "        filename = f\"{datetime.now().strftime('%Y%m%d_%I_%M_%p')}_naked_orders.pkl\"\n",
    "        pickle_me(ordered, str(ROOT / \"data\" / \"xn_history\" / str(filename)))\n",
    "\n",
    "        logger.info(f\"Successfully placed {len(ordered)} orders\")\n",
    "\n",
    "    return ordered"
   ]
  },
  {
   "cell_type": "code",
   "execution_count": null,
   "metadata": {},
   "outputs": [],
   "source": [
    "from ibfuncs import order_nakeds\n",
    "order_nakeds(df_opts=df_opts, port=port)"
   ]
  },
  {
   "cell_type": "code",
   "execution_count": null,
   "metadata": {},
   "outputs": [],
   "source": []
  }
 ],
 "metadata": {
  "kernelspec": {
   "display_name": "Python 3 (ipykernel)",
   "language": "python",
   "name": "python3"
  },
  "language_info": {
   "codemirror_mode": {
    "name": "ipython",
    "version": 3
   },
   "file_extension": ".py",
   "mimetype": "text/x-python",
   "name": "python",
   "nbconvert_exporter": "python",
   "pygments_lexer": "ipython3",
   "version": "3.11.5"
  }
 },
 "nbformat": 4,
 "nbformat_minor": 4
}
