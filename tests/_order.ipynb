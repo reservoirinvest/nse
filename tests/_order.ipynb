{
 "cells": [
  {
   "cell_type": "markdown",
   "metadata": {},
   "source": [
    "# Order Nakeds"
   ]
  },
  {
   "cell_type": "code",
   "execution_count": 1,
   "metadata": {
    "execution": {
     "iopub.execute_input": "2024-08-01T17:47:21.353851Z",
     "iopub.status.busy": "2024-08-01T17:47:21.352835Z",
     "iopub.status.idle": "2024-08-01T17:47:23.918900Z",
     "shell.execute_reply": "2024-08-01T17:47:23.917882Z",
     "shell.execute_reply.started": "2024-08-01T17:47:21.353851Z"
    }
   },
   "outputs": [
    {
     "data": {
      "text/plain": [
       "1"
      ]
     },
     "execution_count": 1,
     "metadata": {},
     "output_type": "execute_result"
    }
   ],
   "source": [
    "## THIS CELL SHOULD BE IN ALL VSCODE NOTEBOOKS ##\n",
    "\n",
    "MARKET = \"NSE\"\n",
    "\n",
    "# Set the root\n",
    "from from_root import from_root\n",
    "ROOT = from_root()\n",
    "\n",
    "import pandas as pd\n",
    "from loguru import logger\n",
    "\n",
    "pd.options.display.max_columns = None\n",
    "pd.set_option('display.precision', 2)\n",
    "\n",
    "from pathlib import Path\n",
    "import sys\n",
    "\n",
    "# Add `src` and ROOT to _src.pth in .venv to allow imports in VS Code\n",
    "from sysconfig import get_path\n",
    "\n",
    "if \"src\" not in Path.cwd().parts:\n",
    "    src_path = str(Path(get_path(\"purelib\")) / \"_src.pth\")\n",
    "    with open(src_path, \"w\") as f:\n",
    "        f.write(str(ROOT / \"src\\n\"))\n",
    "        f.write(str(ROOT))\n",
    "        if str(ROOT) not in sys.path:\n",
    "            sys.path.insert(1, str(ROOT))\n",
    "\n",
    "# Start the Jupyter loop\n",
    "from ib_async import util\n",
    "\n",
    "util.startLoop()\n",
    "\n",
    "logger.add(sink=ROOT / \"log\" / \"ztest.log\", mode=\"w\")"
   ]
  },
  {
   "cell_type": "markdown",
   "metadata": {},
   "source": [
    "## Imports"
   ]
  },
  {
   "cell_type": "code",
   "execution_count": 2,
   "metadata": {
    "execution": {
     "iopub.execute_input": "2024-08-01T17:47:23.922907Z",
     "iopub.status.busy": "2024-08-01T17:47:23.922907Z",
     "iopub.status.idle": "2024-08-01T17:47:26.989046Z",
     "shell.execute_reply": "2024-08-01T17:47:26.988024Z",
     "shell.execute_reply.started": "2024-08-01T17:47:23.922907Z"
    }
   },
   "outputs": [],
   "source": [
    "from utils import handle_raws, get_pickle, load_config, arrange_orders, pickle_me, get_file_age, yes_or_no\n",
    "from datetime import datetime\n",
    "from ib_async import IB\n",
    "from ibfuncs import get_open_orders, quick_pf, place_orders, make_ib_orders"
   ]
  },
  {
   "cell_type": "markdown",
   "metadata": {},
   "source": [
    "## Set constants"
   ]
  },
  {
   "cell_type": "code",
   "execution_count": 3,
   "metadata": {
    "execution": {
     "iopub.execute_input": "2024-08-01T17:47:26.994043Z",
     "iopub.status.busy": "2024-08-01T17:47:26.993042Z",
     "iopub.status.idle": "2024-08-01T17:47:27.032132Z",
     "shell.execute_reply": "2024-08-01T17:47:27.031107Z",
     "shell.execute_reply.started": "2024-08-01T17:47:26.993042Z"
    }
   },
   "outputs": [],
   "source": [
    "config = load_config()\n",
    "port = config.get('PORT')\n",
    "MARGINPERORDER = config.get('MARGINPERORDER')"
   ]
  },
  {
   "cell_type": "markdown",
   "metadata": {},
   "source": [
    "## Handle Raws"
   ]
  },
  {
   "cell_type": "code",
   "execution_count": 4,
   "metadata": {
    "execution": {
     "iopub.execute_input": "2024-08-01T17:47:27.036187Z",
     "iopub.status.busy": "2024-08-01T17:47:27.035179Z",
     "iopub.status.idle": "2024-08-01T17:47:31.347776Z",
     "shell.execute_reply": "2024-08-01T17:47:31.346765Z",
     "shell.execute_reply.started": "2024-08-01T17:47:27.036187Z"
    }
   },
   "outputs": [
    {
     "name": "stdin",
     "output_type": "stream",
     "text": [
      "Do you want to archive raw nakeds? (y/n):  y\n"
     ]
    },
    {
     "name": "stderr",
     "output_type": "stream",
     "text": [
      "\u001b[32m2024-08-02 01:47:31.322\u001b[0m | \u001b[1mINFO    \u001b[0m | \u001b[36mutils\u001b[0m:\u001b[36mdelete_files\u001b[0m:\u001b[36m155\u001b[0m - \u001b[1mDeleted: C:\\Users\\kashi\\python\\nse\\data\\raw\\earliest_nakeds1.pkl\u001b[0m\n",
      "\u001b[32m2024-08-02 01:47:31.324\u001b[0m | \u001b[1mINFO    \u001b[0m | \u001b[36mutils\u001b[0m:\u001b[36mdelete_files\u001b[0m:\u001b[36m155\u001b[0m - \u001b[1mDeleted: C:\\Users\\kashi\\python\\nse\\data\\raw\\earliest_nakeds10.pkl\u001b[0m\n",
      "\u001b[32m2024-08-02 01:47:31.325\u001b[0m | \u001b[1mINFO    \u001b[0m | \u001b[36mutils\u001b[0m:\u001b[36mdelete_files\u001b[0m:\u001b[36m155\u001b[0m - \u001b[1mDeleted: C:\\Users\\kashi\\python\\nse\\data\\raw\\earliest_nakeds2.pkl\u001b[0m\n",
      "\u001b[32m2024-08-02 01:47:31.328\u001b[0m | \u001b[1mINFO    \u001b[0m | \u001b[36mutils\u001b[0m:\u001b[36mdelete_files\u001b[0m:\u001b[36m155\u001b[0m - \u001b[1mDeleted: C:\\Users\\kashi\\python\\nse\\data\\raw\\earliest_nakeds3.pkl\u001b[0m\n",
      "\u001b[32m2024-08-02 01:47:31.330\u001b[0m | \u001b[1mINFO    \u001b[0m | \u001b[36mutils\u001b[0m:\u001b[36mdelete_files\u001b[0m:\u001b[36m155\u001b[0m - \u001b[1mDeleted: C:\\Users\\kashi\\python\\nse\\data\\raw\\earliest_nakeds4.pkl\u001b[0m\n",
      "\u001b[32m2024-08-02 01:47:31.333\u001b[0m | \u001b[1mINFO    \u001b[0m | \u001b[36mutils\u001b[0m:\u001b[36mdelete_files\u001b[0m:\u001b[36m155\u001b[0m - \u001b[1mDeleted: C:\\Users\\kashi\\python\\nse\\data\\raw\\earliest_nakeds5.pkl\u001b[0m\n",
      "\u001b[32m2024-08-02 01:47:31.335\u001b[0m | \u001b[1mINFO    \u001b[0m | \u001b[36mutils\u001b[0m:\u001b[36mdelete_files\u001b[0m:\u001b[36m155\u001b[0m - \u001b[1mDeleted: C:\\Users\\kashi\\python\\nse\\data\\raw\\earliest_nakeds6.pkl\u001b[0m\n",
      "\u001b[32m2024-08-02 01:47:31.336\u001b[0m | \u001b[1mINFO    \u001b[0m | \u001b[36mutils\u001b[0m:\u001b[36mdelete_files\u001b[0m:\u001b[36m155\u001b[0m - \u001b[1mDeleted: C:\\Users\\kashi\\python\\nse\\data\\raw\\earliest_nakeds7.pkl\u001b[0m\n",
      "\u001b[32m2024-08-02 01:47:31.338\u001b[0m | \u001b[1mINFO    \u001b[0m | \u001b[36mutils\u001b[0m:\u001b[36mdelete_files\u001b[0m:\u001b[36m155\u001b[0m - \u001b[1mDeleted: C:\\Users\\kashi\\python\\nse\\data\\raw\\earliest_nakeds8.pkl\u001b[0m\n",
      "\u001b[32m2024-08-02 01:47:31.340\u001b[0m | \u001b[1mINFO    \u001b[0m | \u001b[36mutils\u001b[0m:\u001b[36mdelete_files\u001b[0m:\u001b[36m155\u001b[0m - \u001b[1mDeleted: C:\\Users\\kashi\\python\\nse\\data\\raw\\earliest_nakeds9.pkl\u001b[0m\n",
      "\u001b[32m2024-08-02 01:47:31.342\u001b[0m | \u001b[1mINFO    \u001b[0m | \u001b[36mutils\u001b[0m:\u001b[36mremove_raw_nakeds\u001b[0m:\u001b[36m194\u001b[0m - \u001b[1mDeleted files [WindowsPath('C:/Users/kashi/python/nse/data/raw/earliest_nakeds1.pkl'), WindowsPath('C:/Users/kashi/python/nse/data/raw/earliest_nakeds10.pkl'), WindowsPath('C:/Users/kashi/python/nse/data/raw/earliest_nakeds2.pkl'), WindowsPath('C:/Users/kashi/python/nse/data/raw/earliest_nakeds3.pkl'), WindowsPath('C:/Users/kashi/python/nse/data/raw/earliest_nakeds4.pkl'), WindowsPath('C:/Users/kashi/python/nse/data/raw/earliest_nakeds5.pkl'), WindowsPath('C:/Users/kashi/python/nse/data/raw/earliest_nakeds6.pkl'), WindowsPath('C:/Users/kashi/python/nse/data/raw/earliest_nakeds7.pkl'), WindowsPath('C:/Users/kashi/python/nse/data/raw/earliest_nakeds8.pkl'), WindowsPath('C:/Users/kashi/python/nse/data/raw/earliest_nakeds9.pkl')]\u001b[0m\n"
     ]
    }
   ],
   "source": [
    "# Consolidate raw files to df_nakeds.pkl\n",
    "handle_raws()"
   ]
  },
  {
   "cell_type": "code",
   "execution_count": 5,
   "metadata": {
    "execution": {
     "iopub.execute_input": "2024-08-01T17:47:56.012988Z",
     "iopub.status.busy": "2024-08-01T17:47:56.010981Z",
     "iopub.status.idle": "2024-08-01T17:47:56.027436Z",
     "shell.execute_reply": "2024-08-01T17:47:56.026423Z",
     "shell.execute_reply.started": "2024-08-01T17:47:56.011983Z"
    }
   },
   "outputs": [],
   "source": [
    "file_path = ROOT / 'data' / 'df_nakeds.pkl'\n",
    "\n",
    "def how_many_days_old(file_path) -> float:\n",
    "    \"\"\"Gets the file's age in days\"\"\"\n",
    "    file_age = get_file_age(file_path=file_path)\n",
    "    \n",
    "    seconds_in_a_day = 86400\n",
    "    file_age_in_days = file_age.td.total_seconds() / seconds_in_a_day if file_age else 0\n",
    "    \n",
    "    return file_age_in_days"
   ]
  },
  {
   "cell_type": "code",
   "execution_count": 6,
   "metadata": {
    "execution": {
     "iopub.execute_input": "2024-08-01T17:48:00.997401Z",
     "iopub.status.busy": "2024-08-01T17:48:00.997401Z",
     "iopub.status.idle": "2024-08-01T17:48:01.006902Z",
     "shell.execute_reply": "2024-08-01T17:48:01.004871Z",
     "shell.execute_reply.started": "2024-08-01T17:48:00.997401Z"
    }
   },
   "outputs": [],
   "source": [
    "## Check the age of df_pickles, before ordering"
   ]
  },
  {
   "cell_type": "code",
   "execution_count": 9,
   "metadata": {
    "execution": {
     "iopub.execute_input": "2024-08-01T17:49:46.716763Z",
     "iopub.status.busy": "2024-08-01T17:49:46.716763Z",
     "iopub.status.idle": "2024-08-01T17:49:49.353728Z",
     "shell.execute_reply": "2024-08-01T17:49:49.351707Z",
     "shell.execute_reply.started": "2024-08-01T17:49:46.716763Z"
    }
   },
   "outputs": [
    {
     "name": "stdin",
     "output_type": "stream",
     "text": [
      "df_nakeds.pkl is  0.00. Want to load? (y/n):  y\n"
     ]
    },
    {
     "name": "stdout",
     "output_type": "stream",
     "text": [
      "\n",
      "\n",
      "\n",
      "  ib_symbol  undPrice  safe_strike right  strike    dte    hv    iv   lot  \\\n",
      "0  AARTIIND    741.65          856     C   740.0  27.73  0.41  0.31  1000   \n",
      "1  AARTIIND    741.65          619     P   750.0  27.73  0.41  0.36  1000   \n",
      "2  AARTIIND    741.65          859     C   750.0  27.73  0.41  0.32  1000   \n",
      "3  AARTIIND    741.65          625     P   740.0  27.73  0.41  0.35  1000   \n",
      "4  AARTIIND    741.65          860     C   760.0  27.73  0.41  0.32  1000   \n",
      "\n",
      "   price   sdev  intrinsic  bsPrice  comm    margin  xPrice    rom  \n",
      "0  29.35  64.02      116.0    28.18  20.0  47115.57  145.35  40.61  \n",
      "1  31.10  74.16      131.0    32.05  20.0  46340.68  163.05  46.32  \n",
      "2  25.10  65.74      109.0    24.04  20.0  42180.56  134.10  41.85  \n",
      "3  24.65  70.60      115.0    25.49  20.0  41912.95  140.50  44.13  \n",
      "4  20.90  66.06      100.0    19.94  20.0  37041.30  120.90  42.97  \n"
     ]
    }
   ],
   "source": [
    "txt = f\"df_nakeds.pkl is {how_many_days_old(file_path): 0.2f}. Want to load?\"\n",
    "ans = yes_or_no(txt)\n",
    "\n",
    "if ans:\n",
    "    df_opts = get_pickle(file_path)\n",
    "    print('\\n\\n')\n",
    "    print(df_opts.drop(columns=['nse_symbol', 'instrument', 'contract', 'expiry']).head())\n",
    "else:\n",
    "    print('Bye!!!')"
   ]
  },
  {
   "cell_type": "markdown",
   "metadata": {},
   "source": [
    "## check open orders"
   ]
  },
  {
   "cell_type": "code",
   "execution_count": 10,
   "metadata": {
    "execution": {
     "iopub.execute_input": "2024-08-01T17:49:53.995884Z",
     "iopub.status.busy": "2024-08-01T17:49:53.994882Z",
     "iopub.status.idle": "2024-08-01T17:49:54.686486Z",
     "shell.execute_reply": "2024-08-01T17:49:54.685477Z",
     "shell.execute_reply.started": "2024-08-01T17:49:53.995884Z"
    }
   },
   "outputs": [],
   "source": [
    "# check open orders\n",
    "with IB().connect(port=port, clientId=10) as ib:\n",
    "    dfo = get_open_orders(ib)\n",
    "    dfp = quick_pf(ib)\n",
    "    "
   ]
  },
  {
   "cell_type": "code",
   "execution_count": 11,
   "metadata": {
    "execution": {
     "iopub.execute_input": "2024-08-01T17:49:54.696167Z",
     "iopub.status.busy": "2024-08-01T17:49:54.696167Z",
     "iopub.status.idle": "2024-08-01T17:49:54.702200Z",
     "shell.execute_reply": "2024-08-01T17:49:54.701189Z",
     "shell.execute_reply.started": "2024-08-01T17:49:54.696167Z"
    }
   },
   "outputs": [],
   "source": [
    "if not dfo.empty:\n",
    "    remove_opens = set(dfo.symbol.to_list())\n",
    "else:\n",
    "    remove_opens = set()"
   ]
  },
  {
   "cell_type": "code",
   "execution_count": 12,
   "metadata": {
    "execution": {
     "iopub.execute_input": "2024-08-01T17:49:55.225888Z",
     "iopub.status.busy": "2024-08-01T17:49:55.225888Z",
     "iopub.status.idle": "2024-08-01T17:49:55.245421Z",
     "shell.execute_reply": "2024-08-01T17:49:55.242836Z",
     "shell.execute_reply.started": "2024-08-01T17:49:55.225888Z"
    }
   },
   "outputs": [],
   "source": [
    "# make a list of symbols to be removed from df_opts\n",
    "\n",
    "if not dfp.empty:\n",
    "    remove_positions = set(dfp.symbol.to_list())\n",
    "else:\n",
    "    remove_positions = set()\n",
    "\n",
    "remove_ib_syms = remove_opens | remove_positions\n",
    "\n",
    "# get the target options to plant\n",
    "dft = df_opts[~df_opts.ib_symbol.isin(remove_ib_syms)].reset_index(drop=True)"
   ]
  },
  {
   "cell_type": "code",
   "execution_count": 13,
   "metadata": {
    "execution": {
     "iopub.execute_input": "2024-08-01T17:49:55.765182Z",
     "iopub.status.busy": "2024-08-01T17:49:55.764210Z",
     "iopub.status.idle": "2024-08-01T17:49:55.781424Z",
     "shell.execute_reply": "2024-08-01T17:49:55.780395Z",
     "shell.execute_reply.started": "2024-08-01T17:49:55.765182Z"
    }
   },
   "outputs": [
    {
     "data": {
      "text/plain": [
       "0"
      ]
     },
     "execution_count": 13,
     "metadata": {},
     "output_type": "execute_result"
    }
   ],
   "source": [
    "len(dft)"
   ]
  },
  {
   "cell_type": "markdown",
   "metadata": {},
   "source": [
    "## Arrange and make orders"
   ]
  },
  {
   "cell_type": "raw",
   "metadata": {},
   "source": [
    "df_nakeds = arrange_orders(dft, maxmargin=MARGINPERORDER)\n",
    "cos = make_ib_orders(df_nakeds)"
   ]
  },
  {
   "cell_type": "markdown",
   "metadata": {},
   "source": [
    "## PLACE THE ORDER"
   ]
  },
  {
   "cell_type": "raw",
   "metadata": {},
   "source": [
    "# place the orders\n",
    "with IB().connect(port=port, clientId=10) as ib:\n",
    "    ordered = place_orders(ib=ib, cos=cos)"
   ]
  },
  {
   "cell_type": "markdown",
   "metadata": {},
   "source": [
    "# Archive the orders into `xn_history`"
   ]
  },
  {
   "cell_type": "raw",
   "metadata": {},
   "source": [
    "filename = f\"{datetime.now().strftime('%Y%m%d_%I_%M_%p')}_naked_orders.pkl\"\n",
    "pickle_me(ordered, str(ROOT / \"data\" / \"xn_history\" / str(filename)))"
   ]
  },
  {
   "cell_type": "raw",
   "metadata": {},
   "source": [
    "# ----- COPIED TO `ibfnncs.py` ----\n",
    "\n",
    "def order_nakeds(df_opts:pd.DataFrame, port=int) -> list:\n",
    "    \"\"\"Order nakeds\"\"\"\n",
    "    \n",
    "    config = load_config()\n",
    "    MARGINPERORDER = config.get('MARGINPERORDER')\n",
    "\n",
    "    # Check raw foder for remnants and process\n",
    "    handle_raws()\n",
    "\n",
    "    # Check open orders and make removal list\n",
    "    with IB().connect(port=port, clientId=10) as ib:\n",
    "        dfo = get_open_orders(ib)\n",
    "        dfp = quick_pf(ib)\n",
    "\n",
    "    if not dfo.empty:\n",
    "        remove_opens = set(dfo.symbol.to_list())\n",
    "    else:\n",
    "        remove_opens = set()\n",
    "\n",
    "    # make a list of symbols to be removed from df_opts\n",
    "\n",
    "    if not dfp.empty:\n",
    "        remove_positions = set(dfp.symbol.to_list())\n",
    "    else:\n",
    "        remove_positions = set()\n",
    "\n",
    "    remove_ib_syms = remove_opens | remove_positions\n",
    "\n",
    "    # get the target options to plant\n",
    "    dft = df_opts[~df_opts.ib_symbol.isin(remove_ib_syms)].reset_index(drop=True)\n",
    "\n",
    "    df_nakeds = arrange_orders(dft, maxmargin=MARGINPERORDER)\n",
    "    cos = make_ib_orders(df_nakeds)\n",
    "\n",
    "    # place the orders\n",
    "    if cos:\n",
    "        with IB().connect(port=port, clientId=10) as ib:\n",
    "            ordered = place_orders(ib=ib, cos=cos)\n",
    "        pass\n",
    "    else:\n",
    "        logger.info(f\"Nothing to order!\")\n",
    "        ordered = []\n",
    "\n",
    "    # timestamp and archive the orders\n",
    "    if ordered:\n",
    "        filename = f\"{datetime.now().strftime('%Y%m%d_%I_%M_%p')}_naked_orders.pkl\"\n",
    "        pickle_me(ordered, str(ROOT / \"data\" / \"xn_history\" / str(filename)))\n",
    "\n",
    "        logger.info(f\"Successfully placed {len(ordered)} orders\")\n",
    "\n",
    "    return ordered"
   ]
  },
  {
   "cell_type": "code",
   "execution_count": 8,
   "metadata": {
    "execution": {
     "iopub.execute_input": "2024-08-01T17:48:35.356110Z",
     "iopub.status.busy": "2024-08-01T17:48:35.355110Z",
     "iopub.status.idle": "2024-08-01T17:48:38.785051Z",
     "shell.execute_reply": "2024-08-01T17:48:38.784045Z",
     "shell.execute_reply.started": "2024-08-01T17:48:35.356110Z"
    }
   },
   "outputs": [
    {
     "name": "stdout",
     "output_type": "stream",
     "text": [
      "No raw files to archive\n"
     ]
    },
    {
     "name": "stderr",
     "output_type": "stream",
     "text": [
      "100%|████████████████████████████████████████████████████████████████████████████████████| 4/4 [00:03<00:00,  1.31it/s]\n",
      "\u001b[32m2024-08-02 01:48:38.754\u001b[0m | \u001b[1mINFO    \u001b[0m | \u001b[36mibfuncs\u001b[0m:\u001b[36morder_nakeds\u001b[0m:\u001b[36m294\u001b[0m - \u001b[1mSuccessfully placed 88 orders\u001b[0m\n"
     ]
    },
    {
     "data": {
      "text/plain": [
       "[Trade(contract=Option(conId=712949612, symbol='ULTRACEMC', lastTradeDateOrContractMonth='20240829', strike=11500.0, right='P', multiplier='1', exchange='NSE', currency='INR', localSymbol='ULTRACEMCO24AUG11500PE', tradingClass='ULTRACEMCO'), order=LimitOrder(orderId=92578, clientId=10, permId=1654946750, action='SELL', totalQuantity=100.0, lmtPrice=818.25, auxPrice=0.0), orderStatus=OrderStatus(orderId=92578, status='PreSubmitted', filled=0.0, remaining=100.0, avgFillPrice=0.0, permId=1654946750, parentId=0, lastFillPrice=0.0, clientId=10, whyHeld='', mktCapPrice=0.0), fills=[], log=[TradeLogEntry(time=datetime.datetime(2024, 8, 1, 17, 48, 35, 705791, tzinfo=datetime.timezone.utc), status='PendingSubmit', message='', errorCode=0), TradeLogEntry(time=datetime.datetime(2024, 8, 1, 17, 48, 36, 582250, tzinfo=datetime.timezone.utc), status='PreSubmitted', message='', errorCode=0)], advancedError=''),\n",
       " Trade(contract=Option(conId=707140319, symbol='VOLTAS', lastTradeDateOrContractMonth='20240829', strike=1440.0, right='P', multiplier='1', exchange='NSE', currency='INR', localSymbol='VOLTAS24AUG1440PE', tradingClass='VOLTAS'), order=LimitOrder(orderId=92579, clientId=10, permId=1654946751, action='SELL', totalQuantity=600.0, lmtPrice=133.5, auxPrice=0.0), orderStatus=OrderStatus(orderId=92579, status='PreSubmitted', filled=0.0, remaining=600.0, avgFillPrice=0.0, permId=1654946751, parentId=0, lastFillPrice=0.0, clientId=10, whyHeld='', mktCapPrice=0.0), fills=[], log=[TradeLogEntry(time=datetime.datetime(2024, 8, 1, 17, 48, 35, 706817, tzinfo=datetime.timezone.utc), status='PendingSubmit', message='', errorCode=0), TradeLogEntry(time=datetime.datetime(2024, 8, 1, 17, 48, 36, 594264, tzinfo=datetime.timezone.utc), status='PreSubmitted', message='', errorCode=0)], advancedError=''),\n",
       " Trade(contract=Option(conId=712861503, symbol='ADANIPORT', lastTradeDateOrContractMonth='20240829', strike=1500.0, right='P', multiplier='1', exchange='NSE', currency='INR', localSymbol='ADANIPORTS24AUG1500PE', tradingClass='ADANIPORTS'), order=LimitOrder(orderId=92580, clientId=10, permId=1654946752, action='SELL', totalQuantity=400.0, lmtPrice=121.0, auxPrice=0.0), orderStatus=OrderStatus(orderId=92580, status='PreSubmitted', filled=0.0, remaining=400.0, avgFillPrice=0.0, permId=1654946752, parentId=0, lastFillPrice=0.0, clientId=10, whyHeld='', mktCapPrice=0.0), fills=[], log=[TradeLogEntry(time=datetime.datetime(2024, 8, 1, 17, 48, 35, 707794, tzinfo=datetime.timezone.utc), status='PendingSubmit', message='', errorCode=0), TradeLogEntry(time=datetime.datetime(2024, 8, 1, 17, 48, 36, 629428, tzinfo=datetime.timezone.utc), status='PreSubmitted', message='', errorCode=0)], advancedError=''),\n",
       " Trade(contract=Option(conId=712861503, symbol='ADANIPORT', lastTradeDateOrContractMonth='20240829', strike=1500.0, right='P', multiplier='1', exchange='NSE', currency='INR', localSymbol='ADANIPORTS24AUG1500PE', tradingClass='ADANIPORTS'), order=LimitOrder(orderId=92581, clientId=10, permId=1654946753, action='SELL', totalQuantity=400.0, lmtPrice=121.0, auxPrice=0.0), orderStatus=OrderStatus(orderId=92581, status='PreSubmitted', filled=0.0, remaining=400.0, avgFillPrice=0.0, permId=1654946753, parentId=0, lastFillPrice=0.0, clientId=10, whyHeld='', mktCapPrice=0.0), fills=[], log=[TradeLogEntry(time=datetime.datetime(2024, 8, 1, 17, 48, 35, 708813, tzinfo=datetime.timezone.utc), status='PendingSubmit', message='', errorCode=0), TradeLogEntry(time=datetime.datetime(2024, 8, 1, 17, 48, 36, 669551, tzinfo=datetime.timezone.utc), status='PreSubmitted', message='', errorCode=0)], advancedError=''),\n",
       " Trade(contract=Option(conId=707042679, symbol='ABFRL', lastTradeDateOrContractMonth='20240829', strike=310.0, right='P', multiplier='1', exchange='NSE', currency='INR', localSymbol='ABFRL24AUG310PE', tradingClass='ABFRL'), order=LimitOrder(orderId=92582, clientId=10, permId=1654946754, action='SELL', totalQuantity=2600.0, lmtPrice=28.8, auxPrice=0.0), orderStatus=OrderStatus(orderId=92582, status='PreSubmitted', filled=0.0, remaining=2600.0, avgFillPrice=0.0, permId=1654946754, parentId=0, lastFillPrice=0.0, clientId=10, whyHeld='', mktCapPrice=0.0), fills=[], log=[TradeLogEntry(time=datetime.datetime(2024, 8, 1, 17, 48, 35, 709803, tzinfo=datetime.timezone.utc), status='PendingSubmit', message='', errorCode=0), TradeLogEntry(time=datetime.datetime(2024, 8, 1, 17, 48, 36, 803423, tzinfo=datetime.timezone.utc), status='PreSubmitted', message='', errorCode=0)], advancedError=''),\n",
       " Trade(contract=Option(conId=707042679, symbol='ABFRL', lastTradeDateOrContractMonth='20240829', strike=310.0, right='P', multiplier='1', exchange='NSE', currency='INR', localSymbol='ABFRL24AUG310PE', tradingClass='ABFRL'), order=LimitOrder(orderId=92583, clientId=10, permId=1654946755, action='SELL', totalQuantity=2600.0, lmtPrice=28.8, auxPrice=0.0), orderStatus=OrderStatus(orderId=92583, status='PreSubmitted', filled=0.0, remaining=2600.0, avgFillPrice=0.0, permId=1654946755, parentId=0, lastFillPrice=0.0, clientId=10, whyHeld='', mktCapPrice=0.0), fills=[], log=[TradeLogEntry(time=datetime.datetime(2024, 8, 1, 17, 48, 35, 710797, tzinfo=datetime.timezone.utc), status='PendingSubmit', message='', errorCode=0), TradeLogEntry(time=datetime.datetime(2024, 8, 1, 17, 48, 36, 870751, tzinfo=datetime.timezone.utc), status='PreSubmitted', message='', errorCode=0)], advancedError=''),\n",
       " Trade(contract=Option(conId=707134253, symbol='TCS', lastTradeDateOrContractMonth='20240829', strike=4200.0, right='P', multiplier='1', exchange='NSE', currency='INR', localSymbol='TCS24AUG4200PE', tradingClass='TCS'), order=LimitOrder(orderId=92584, clientId=10, permId=1654946756, action='SELL', totalQuantity=175.0, lmtPrice=219.2, auxPrice=0.0), orderStatus=OrderStatus(orderId=92584, status='PreSubmitted', filled=0.0, remaining=175.0, avgFillPrice=0.0, permId=1654946756, parentId=0, lastFillPrice=0.0, clientId=10, whyHeld='', mktCapPrice=0.0), fills=[], log=[TradeLogEntry(time=datetime.datetime(2024, 8, 1, 17, 48, 35, 711318, tzinfo=datetime.timezone.utc), status='PendingSubmit', message='', errorCode=0), TradeLogEntry(time=datetime.datetime(2024, 8, 1, 17, 48, 36, 873723, tzinfo=datetime.timezone.utc), status='PreSubmitted', message='', errorCode=0)], advancedError=''),\n",
       " Trade(contract=Option(conId=707040908, symbol='ABB', lastTradeDateOrContractMonth='20240829', strike=7000.0, right='P', multiplier='1', exchange='NSE', currency='INR', localSymbol='ABB24AUG7000PE', tradingClass='ABB'), order=LimitOrder(orderId=92585, clientId=10, permId=1654946757, action='SELL', totalQuantity=125.0, lmtPrice=545.5, auxPrice=0.0), orderStatus=OrderStatus(orderId=92585, status='PreSubmitted', filled=0.0, remaining=125.0, avgFillPrice=0.0, permId=1654946757, parentId=0, lastFillPrice=0.0, clientId=10, whyHeld='', mktCapPrice=0.0), fills=[], log=[TradeLogEntry(time=datetime.datetime(2024, 8, 1, 17, 48, 35, 712343, tzinfo=datetime.timezone.utc), status='PendingSubmit', message='', errorCode=0), TradeLogEntry(time=datetime.datetime(2024, 8, 1, 17, 48, 37, 128379, tzinfo=datetime.timezone.utc), status='PreSubmitted', message='', errorCode=0)], advancedError=''),\n",
       " Trade(contract=Option(conId=707040908, symbol='ABB', lastTradeDateOrContractMonth='20240829', strike=7000.0, right='P', multiplier='1', exchange='NSE', currency='INR', localSymbol='ABB24AUG7000PE', tradingClass='ABB'), order=LimitOrder(orderId=92586, clientId=10, permId=1654946758, action='SELL', totalQuantity=125.0, lmtPrice=545.5, auxPrice=0.0), orderStatus=OrderStatus(orderId=92586, status='PreSubmitted', filled=0.0, remaining=125.0, avgFillPrice=0.0, permId=1654946758, parentId=0, lastFillPrice=0.0, clientId=10, whyHeld='', mktCapPrice=0.0), fills=[], log=[TradeLogEntry(time=datetime.datetime(2024, 8, 1, 17, 48, 35, 712343, tzinfo=datetime.timezone.utc), status='PendingSubmit', message='', errorCode=0), TradeLogEntry(time=datetime.datetime(2024, 8, 1, 17, 48, 37, 159411, tzinfo=datetime.timezone.utc), status='PreSubmitted', message='', errorCode=0)], advancedError=''),\n",
       " Trade(contract=Option(conId=711478526, symbol='TATASTEEL', lastTradeDateOrContractMonth='20240829', strike=150.0, right='P', multiplier='1', exchange='NSE', currency='INR', localSymbol='TATASTEEL24AUG150PE', tradingClass='TATASTEEL'), order=LimitOrder(orderId=92587, clientId=10, permId=1654946759, action='SELL', totalQuantity=5500.0, lmtPrice=9.9, auxPrice=0.0), orderStatus=OrderStatus(orderId=92587, status='PreSubmitted', filled=0.0, remaining=5500.0, avgFillPrice=0.0, permId=1654946759, parentId=0, lastFillPrice=0.0, clientId=10, whyHeld='', mktCapPrice=0.0), fills=[], log=[TradeLogEntry(time=datetime.datetime(2024, 8, 1, 17, 48, 35, 713366, tzinfo=datetime.timezone.utc), status='PendingSubmit', message='', errorCode=0), TradeLogEntry(time=datetime.datetime(2024, 8, 1, 17, 48, 37, 251051, tzinfo=datetime.timezone.utc), status='PreSubmitted', message='', errorCode=0)], advancedError=''),\n",
       " Trade(contract=Option(conId=707140302, symbol='VOLTAS', lastTradeDateOrContractMonth='20240829', strike=1400.0, right='P', multiplier='1', exchange='NSE', currency='INR', localSymbol='VOLTAS24AUG1400PE', tradingClass='VOLTAS'), order=LimitOrder(orderId=92588, clientId=10, permId=1654946760, action='SELL', totalQuantity=600.0, lmtPrice=91.15, auxPrice=0.0), orderStatus=OrderStatus(orderId=92588, status='PreSubmitted', filled=0.0, remaining=600.0, avgFillPrice=0.0, permId=1654946760, parentId=0, lastFillPrice=0.0, clientId=10, whyHeld='', mktCapPrice=0.0), fills=[], log=[TradeLogEntry(time=datetime.datetime(2024, 8, 1, 17, 48, 35, 714361, tzinfo=datetime.timezone.utc), status='PendingSubmit', message='', errorCode=0), TradeLogEntry(time=datetime.datetime(2024, 8, 1, 17, 48, 37, 301714, tzinfo=datetime.timezone.utc), status='PreSubmitted', message='', errorCode=0)], advancedError=''),\n",
       " Trade(contract=Option(conId=707138213, symbol='UBL', lastTradeDateOrContractMonth='20240829', strike=1800.0, right='P', multiplier='1', exchange='NSE', currency='INR', localSymbol='UBL24AUG1800PE', tradingClass='UBL'), order=LimitOrder(orderId=92589, clientId=10, permId=1654946761, action='SELL', totalQuantity=400.0, lmtPrice=92.7, auxPrice=0.0), orderStatus=OrderStatus(orderId=92589, status='PreSubmitted', filled=0.0, remaining=400.0, avgFillPrice=0.0, permId=1654946761, parentId=0, lastFillPrice=0.0, clientId=10, whyHeld='', mktCapPrice=0.0), fills=[], log=[TradeLogEntry(time=datetime.datetime(2024, 8, 1, 17, 48, 35, 715572, tzinfo=datetime.timezone.utc), status='PendingSubmit', message='', errorCode=0), TradeLogEntry(time=datetime.datetime(2024, 8, 1, 17, 48, 37, 306742, tzinfo=datetime.timezone.utc), status='PreSubmitted', message='', errorCode=0)], advancedError=''),\n",
       " Trade(contract=Option(conId=707104900, symbol='UNITDSPR', lastTradeDateOrContractMonth='20240829', strike=1300.0, right='P', multiplier='1', exchange='NSE', currency='INR', localSymbol='UNITDSPR24AUG1300PE', tradingClass='UNITDSPR'), order=LimitOrder(orderId=92590, clientId=10, permId=1654946762, action='SELL', totalQuantity=700.0, lmtPrice=47.95, auxPrice=0.0), orderStatus=OrderStatus(orderId=92590, status='PreSubmitted', filled=0.0, remaining=700.0, avgFillPrice=0.0, permId=1654946762, parentId=0, lastFillPrice=0.0, clientId=10, whyHeld='', mktCapPrice=0.0), fills=[], log=[TradeLogEntry(time=datetime.datetime(2024, 8, 1, 17, 48, 35, 715572, tzinfo=datetime.timezone.utc), status='PendingSubmit', message='', errorCode=0), TradeLogEntry(time=datetime.datetime(2024, 8, 1, 17, 48, 37, 308710, tzinfo=datetime.timezone.utc), status='PreSubmitted', message='', errorCode=0)], advancedError=''),\n",
       " Trade(contract=Option(conId=712942898, symbol='TATACONSU', lastTradeDateOrContractMonth='20240829', strike=1214.9, right='C', multiplier='1', exchange='NSE', currency='INR', localSymbol='TATACONSUM24AUG1214.9CE', tradingClass='TATACONSUM'), order=LimitOrder(orderId=92591, clientId=10, permId=1654946763, action='SELL', totalQuantity=456.0, lmtPrice=138.05, auxPrice=0.0), orderStatus=OrderStatus(orderId=92591, status='PreSubmitted', filled=0.0, remaining=456.0, avgFillPrice=0.0, permId=1654946763, parentId=0, lastFillPrice=0.0, clientId=10, whyHeld='', mktCapPrice=0.0), fills=[], log=[TradeLogEntry(time=datetime.datetime(2024, 8, 1, 17, 48, 36, 479582, tzinfo=datetime.timezone.utc), status='PendingSubmit', message='', errorCode=0), TradeLogEntry(time=datetime.datetime(2024, 8, 1, 17, 48, 37, 368088, tzinfo=datetime.timezone.utc), status='PreSubmitted', message='', errorCode=0)], advancedError=''),\n",
       " Trade(contract=Option(conId=718972647, symbol='TATACONSU', lastTradeDateOrContractMonth='20240829', strike=1220.0, right='C', multiplier='1', exchange='NSE', currency='INR', localSymbol='TATACONSUM24AUG1220CE', tradingClass='TATACONSUM'), order=LimitOrder(orderId=92592, clientId=10, permId=1654946764, action='SELL', totalQuantity=456.0, lmtPrice=134.15, auxPrice=0.0), orderStatus=OrderStatus(orderId=92592, status='PreSubmitted', filled=0.0, remaining=456.0, avgFillPrice=0.0, permId=1654946764, parentId=0, lastFillPrice=0.0, clientId=10, whyHeld='', mktCapPrice=0.0), fills=[], log=[TradeLogEntry(time=datetime.datetime(2024, 8, 1, 17, 48, 36, 480598, tzinfo=datetime.timezone.utc), status='PendingSubmit', message='', errorCode=0), TradeLogEntry(time=datetime.datetime(2024, 8, 1, 17, 48, 37, 373580, tzinfo=datetime.timezone.utc), status='PreSubmitted', message='', errorCode=0)], advancedError=''),\n",
       " Trade(contract=Option(conId=707137703, symbol='TVSMOTOR', lastTradeDateOrContractMonth='20240829', strike=2600.0, right='P', multiplier='1', exchange='NSE', currency='INR', localSymbol='TVSMOTOR24AUG2600PE', tradingClass='TVSMOTOR'), order=LimitOrder(orderId=92593, clientId=10, permId=1654946765, action='SELL', totalQuantity=350.0, lmtPrice=534.2, auxPrice=0.0), orderStatus=OrderStatus(orderId=92593, status='PreSubmitted', filled=0.0, remaining=350.0, avgFillPrice=0.0, permId=1654946765, parentId=0, lastFillPrice=0.0, clientId=10, whyHeld='', mktCapPrice=0.0), fills=[], log=[TradeLogEntry(time=datetime.datetime(2024, 8, 1, 17, 48, 36, 480598, tzinfo=datetime.timezone.utc), status='PendingSubmit', message='', errorCode=0), TradeLogEntry(time=datetime.datetime(2024, 8, 1, 17, 48, 37, 380406, tzinfo=datetime.timezone.utc), status='PreSubmitted', message='', errorCode=0)], advancedError=''),\n",
       " Trade(contract=Option(conId=707132954, symbol='TATAPOWER', lastTradeDateOrContractMonth='20240829', strike=470.0, right='C', multiplier='1', exchange='NSE', currency='INR', localSymbol='TATAPOWER24AUG470CE', tradingClass='TATAPOWER'), order=LimitOrder(orderId=92594, clientId=10, permId=1654946766, action='SELL', totalQuantity=1350.0, lmtPrice=92.4, auxPrice=0.0), orderStatus=OrderStatus(orderId=92594, status='PreSubmitted', filled=0.0, remaining=1350.0, avgFillPrice=0.0, permId=1654946766, parentId=0, lastFillPrice=0.0, clientId=10, whyHeld='', mktCapPrice=0.0), fills=[], log=[TradeLogEntry(time=datetime.datetime(2024, 8, 1, 17, 48, 36, 481596, tzinfo=datetime.timezone.utc), status='PendingSubmit', message='', errorCode=0), TradeLogEntry(time=datetime.datetime(2024, 8, 1, 17, 48, 37, 442612, tzinfo=datetime.timezone.utc), status='PreSubmitted', message='', errorCode=0)], advancedError=''),\n",
       " Trade(contract=Option(conId=707137151, symbol='TRENT', lastTradeDateOrContractMonth='20240829', strike=5800.0, right='P', multiplier='1', exchange='NSE', currency='INR', localSymbol='TRENT24AUG5800PE', tradingClass='TRENT'), order=LimitOrder(orderId=92595, clientId=10, permId=1654946767, action='SELL', totalQuantity=200.0, lmtPrice=1286.55, auxPrice=0.0), orderStatus=OrderStatus(orderId=92595, status='PreSubmitted', filled=0.0, remaining=200.0, avgFillPrice=0.0, permId=1654946767, parentId=0, lastFillPrice=0.0, clientId=10, whyHeld='', mktCapPrice=0.0), fills=[], log=[TradeLogEntry(time=datetime.datetime(2024, 8, 1, 17, 48, 36, 482595, tzinfo=datetime.timezone.utc), status='PendingSubmit', message='', errorCode=0), TradeLogEntry(time=datetime.datetime(2024, 8, 1, 17, 48, 37, 450169, tzinfo=datetime.timezone.utc), status='PreSubmitted', message='', errorCode=0)], advancedError=''),\n",
       " Trade(contract=Option(conId=707135761, symbol='TITAN', lastTradeDateOrContractMonth='20240829', strike=3520.0, right='C', multiplier='1', exchange='NSE', currency='INR', localSymbol='TITAN24AUG3520CE', tradingClass='TITAN'), order=LimitOrder(orderId=92596, clientId=10, permId=1654946768, action='SELL', totalQuantity=175.0, lmtPrice=520.8, auxPrice=0.0), orderStatus=OrderStatus(orderId=92596, status='PreSubmitted', filled=0.0, remaining=175.0, avgFillPrice=0.0, permId=1654946768, parentId=0, lastFillPrice=0.0, clientId=10, whyHeld='', mktCapPrice=0.0), fills=[], log=[TradeLogEntry(time=datetime.datetime(2024, 8, 1, 17, 48, 36, 482595, tzinfo=datetime.timezone.utc), status='PendingSubmit', message='', errorCode=0), TradeLogEntry(time=datetime.datetime(2024, 8, 1, 17, 48, 37, 536691, tzinfo=datetime.timezone.utc), status='PreSubmitted', message='', errorCode=0)], advancedError=''),\n",
       " Trade(contract=Option(conId=707132487, symbol='TATAMOTOR', lastTradeDateOrContractMonth='20240829', strike=1140.0, right='P', multiplier='1', exchange='NSE', currency='INR', localSymbol='TATAMOTORS24AUG1140PE', tradingClass='TATAMOTORS'), order=LimitOrder(orderId=92597, clientId=10, permId=1654946769, action='SELL', totalQuantity=550.0, lmtPrice=203.8, auxPrice=0.0), orderStatus=OrderStatus(orderId=92597, status='PreSubmitted', filled=0.0, remaining=550.0, avgFillPrice=0.0, permId=1654946769, parentId=0, lastFillPrice=0.0, clientId=10, whyHeld='', mktCapPrice=0.0), fills=[], log=[TradeLogEntry(time=datetime.datetime(2024, 8, 1, 17, 48, 36, 483594, tzinfo=datetime.timezone.utc), status='PendingSubmit', message='', errorCode=0), TradeLogEntry(time=datetime.datetime(2024, 8, 1, 17, 48, 37, 553999, tzinfo=datetime.timezone.utc), status='PreSubmitted', message='', errorCode=0)], advancedError=''),\n",
       " Trade(contract=Option(conId=707138875, symbol='ULTRACEMC', lastTradeDateOrContractMonth='20240829', strike=12200.0, right='C', multiplier='1', exchange='NSE', currency='INR', localSymbol='ULTRACEMCO24AUG12200CE', tradingClass='ULTRACEMCO'), order=LimitOrder(orderId=92598, clientId=10, permId=1654946770, action='SELL', totalQuantity=100.0, lmtPrice=983.0, auxPrice=0.0), orderStatus=OrderStatus(orderId=92598, status='PreSubmitted', filled=0.0, remaining=100.0, avgFillPrice=0.0, permId=1654946770, parentId=0, lastFillPrice=0.0, clientId=10, whyHeld='', mktCapPrice=0.0), fills=[], log=[TradeLogEntry(time=datetime.datetime(2024, 8, 1, 17, 48, 36, 483594, tzinfo=datetime.timezone.utc), status='PendingSubmit', message='', errorCode=0), TradeLogEntry(time=datetime.datetime(2024, 8, 1, 17, 48, 37, 555999, tzinfo=datetime.timezone.utc), status='PreSubmitted', message='', errorCode=0)], advancedError=''),\n",
       " Trade(contract=Option(conId=712946309, symbol='TITAN', lastTradeDateOrContractMonth='20240829', strike=3460.0, right='P', multiplier='1', exchange='NSE', currency='INR', localSymbol='TITAN24AUG3460PE', tradingClass='TITAN'), order=LimitOrder(orderId=92599, clientId=10, permId=1654946771, action='SELL', totalQuantity=175.0, lmtPrice=522.1, auxPrice=0.0), orderStatus=OrderStatus(orderId=92599, status='PreSubmitted', filled=0.0, remaining=175.0, avgFillPrice=0.0, permId=1654946771, parentId=0, lastFillPrice=0.0, clientId=10, whyHeld='', mktCapPrice=0.0), fills=[], log=[TradeLogEntry(time=datetime.datetime(2024, 8, 1, 17, 48, 36, 483594, tzinfo=datetime.timezone.utc), status='PendingSubmit', message='', errorCode=0), TradeLogEntry(time=datetime.datetime(2024, 8, 1, 17, 48, 37, 563760, tzinfo=datetime.timezone.utc), status='PreSubmitted', message='', errorCode=0)], advancedError=''),\n",
       " Trade(contract=Option(conId=707132963, symbol='TATAPOWER', lastTradeDateOrContractMonth='20240829', strike=480.0, right='C', multiplier='1', exchange='NSE', currency='INR', localSymbol='TATAPOWER24AUG480CE', tradingClass='TATAPOWER'), order=LimitOrder(orderId=92600, clientId=10, permId=1654946772, action='SELL', totalQuantity=1350.0, lmtPrice=79.4, auxPrice=0.0), orderStatus=OrderStatus(orderId=92600, status='PreSubmitted', filled=0.0, remaining=1350.0, avgFillPrice=0.0, permId=1654946772, parentId=0, lastFillPrice=0.0, clientId=10, whyHeld='', mktCapPrice=0.0), fills=[], log=[TradeLogEntry(time=datetime.datetime(2024, 8, 1, 17, 48, 36, 483594, tzinfo=datetime.timezone.utc), status='PendingSubmit', message='', errorCode=0), TradeLogEntry(time=datetime.datetime(2024, 8, 1, 17, 48, 37, 610734, tzinfo=datetime.timezone.utc), status='PreSubmitted', message='', errorCode=0)], advancedError=''),\n",
       " Trade(contract=Option(conId=707137141, symbol='TRENT', lastTradeDateOrContractMonth='20240829', strike=5700.0, right='P', multiplier='1', exchange='NSE', currency='INR', localSymbol='TRENT24AUG5700PE', tradingClass='TRENT'), order=LimitOrder(orderId=92601, clientId=10, permId=1654946773, action='SELL', totalQuantity=200.0, lmtPrice=1113.2, auxPrice=0.0), orderStatus=OrderStatus(orderId=92601, status='PreSubmitted', filled=0.0, remaining=200.0, avgFillPrice=0.0, permId=1654946773, parentId=0, lastFillPrice=0.0, clientId=10, whyHeld='', mktCapPrice=0.0), fills=[], log=[TradeLogEntry(time=datetime.datetime(2024, 8, 1, 17, 48, 36, 484595, tzinfo=datetime.timezone.utc), status='PendingSubmit', message='', errorCode=0), TradeLogEntry(time=datetime.datetime(2024, 8, 1, 17, 48, 37, 613280, tzinfo=datetime.timezone.utc), status='PreSubmitted', message='', errorCode=0)], advancedError=''),\n",
       " Trade(contract=Option(conId=707141020, symbol='WIPRO', lastTradeDateOrContractMonth='20240829', strike=520.0, right='P', multiplier='1', exchange='NSE', currency='INR', localSymbol='WIPRO24AUG520PE', tradingClass='WIPRO'), order=LimitOrder(orderId=92602, clientId=10, permId=1654946774, action='SELL', totalQuantity=1500.0, lmtPrice=65.4, auxPrice=0.0), orderStatus=OrderStatus(orderId=92602, status='PreSubmitted', filled=0.0, remaining=1500.0, avgFillPrice=0.0, permId=1654946774, parentId=0, lastFillPrice=0.0, clientId=10, whyHeld='', mktCapPrice=0.0), fills=[], log=[TradeLogEntry(time=datetime.datetime(2024, 8, 1, 17, 48, 36, 484595, tzinfo=datetime.timezone.utc), status='PendingSubmit', message='', errorCode=0), TradeLogEntry(time=datetime.datetime(2024, 8, 1, 17, 48, 37, 650398, tzinfo=datetime.timezone.utc), status='PreSubmitted', message='', errorCode=0)], advancedError=''),\n",
       " Trade(contract=Option(conId=717313200, symbol='TECHM', lastTradeDateOrContractMonth='20240829', strike=1580.0, right='C', multiplier='1', exchange='NSE', currency='INR', localSymbol='TECHM24AUG1580CE', tradingClass='TECHM'), order=LimitOrder(orderId=92603, clientId=10, permId=1654946775, action='SELL', totalQuantity=600.0, lmtPrice=160.5, auxPrice=0.0), orderStatus=OrderStatus(orderId=92603, status='PreSubmitted', filled=0.0, remaining=600.0, avgFillPrice=0.0, permId=1654946775, parentId=0, lastFillPrice=0.0, clientId=10, whyHeld='', mktCapPrice=0.0), fills=[], log=[TradeLogEntry(time=datetime.datetime(2024, 8, 1, 17, 48, 36, 484595, tzinfo=datetime.timezone.utc), status='PendingSubmit', message='', errorCode=0), TradeLogEntry(time=datetime.datetime(2024, 8, 1, 17, 48, 37, 684754, tzinfo=datetime.timezone.utc), status='PreSubmitted', message='', errorCode=0)], advancedError=''),\n",
       " Trade(contract=Option(conId=707132949, symbol='TATAPOWER', lastTradeDateOrContractMonth='20240829', strike=460.0, right='P', multiplier='1', exchange='NSE', currency='INR', localSymbol='TATAPOWER24AUG460PE', tradingClass='TATAPOWER'), order=LimitOrder(orderId=92604, clientId=10, permId=1654946776, action='SELL', totalQuantity=1350.0, lmtPrice=81.85, auxPrice=0.0), orderStatus=OrderStatus(orderId=92604, status='PreSubmitted', filled=0.0, remaining=1350.0, avgFillPrice=0.0, permId=1654946776, parentId=0, lastFillPrice=0.0, clientId=10, whyHeld='', mktCapPrice=0.0), fills=[], log=[TradeLogEntry(time=datetime.datetime(2024, 8, 1, 17, 48, 36, 485594, tzinfo=datetime.timezone.utc), status='PendingSubmit', message='', errorCode=0), TradeLogEntry(time=datetime.datetime(2024, 8, 1, 17, 48, 37, 725097, tzinfo=datetime.timezone.utc), status='PreSubmitted', message='', errorCode=0)], advancedError=''),\n",
       " Trade(contract=Option(conId=707132499, symbol='TATAMOTOR', lastTradeDateOrContractMonth='20240829', strike=1180.0, right='C', multiplier='1', exchange='NSE', currency='INR', localSymbol='TATAMOTORS24AUG1180CE', tradingClass='TATAMOTORS'), order=LimitOrder(orderId=92605, clientId=10, permId=1654946777, action='SELL', totalQuantity=550.0, lmtPrice=153.0, auxPrice=0.0), orderStatus=OrderStatus(orderId=92605, status='PreSubmitted', filled=0.0, remaining=550.0, avgFillPrice=0.0, permId=1654946777, parentId=0, lastFillPrice=0.0, clientId=10, whyHeld='', mktCapPrice=0.0), fills=[], log=[TradeLogEntry(time=datetime.datetime(2024, 8, 1, 17, 48, 36, 485594, tzinfo=datetime.timezone.utc), status='PendingSubmit', message='', errorCode=0), TradeLogEntry(time=datetime.datetime(2024, 8, 1, 17, 48, 37, 785433, tzinfo=datetime.timezone.utc), status='PreSubmitted', message='', errorCode=0)], advancedError=''),\n",
       " Trade(contract=Option(conId=707139740, symbol='VEDL', lastTradeDateOrContractMonth='20240829', strike=440.0, right='P', multiplier='1', exchange='NSE', currency='INR', localSymbol='VEDL24AUG440PE', tradingClass='VEDL'), order=LimitOrder(orderId=92606, clientId=10, permId=1654946778, action='SELL', totalQuantity=2300.0, lmtPrice=81.35, auxPrice=0.0), orderStatus=OrderStatus(orderId=92606, status='PreSubmitted', filled=0.0, remaining=2300.0, avgFillPrice=0.0, permId=1654946778, parentId=0, lastFillPrice=0.0, clientId=10, whyHeld='', mktCapPrice=0.0), fills=[], log=[TradeLogEntry(time=datetime.datetime(2024, 8, 1, 17, 48, 36, 485594, tzinfo=datetime.timezone.utc), status='PendingSubmit', message='', errorCode=0), TradeLogEntry(time=datetime.datetime(2024, 8, 1, 17, 48, 37, 787436, tzinfo=datetime.timezone.utc), status='PreSubmitted', message='', errorCode=0)], advancedError=''),\n",
       " Trade(contract=Option(conId=707140376, symbol='VOLTAS', lastTradeDateOrContractMonth='20240829', strike=1600.0, right='C', multiplier='1', exchange='NSE', currency='INR', localSymbol='VOLTAS24AUG1600CE', tradingClass='VOLTAS'), order=LimitOrder(orderId=92607, clientId=10, permId=1654946779, action='SELL', totalQuantity=600.0, lmtPrice=203.6, auxPrice=0.0), orderStatus=OrderStatus(orderId=92607, status='PreSubmitted', filled=0.0, remaining=600.0, avgFillPrice=0.0, permId=1654946779, parentId=0, lastFillPrice=0.0, clientId=10, whyHeld='', mktCapPrice=0.0), fills=[], log=[TradeLogEntry(time=datetime.datetime(2024, 8, 1, 17, 48, 36, 486595, tzinfo=datetime.timezone.utc), status='PendingSubmit', message='', errorCode=0), TradeLogEntry(time=datetime.datetime(2024, 8, 1, 17, 48, 37, 798976, tzinfo=datetime.timezone.utc), status='PreSubmitted', message='', errorCode=0)], advancedError=''),\n",
       " Trade(contract=Option(conId=707135778, symbol='TITAN', lastTradeDateOrContractMonth='20240829', strike=3600.0, right='C', multiplier='1', exchange='NSE', currency='INR', localSymbol='TITAN24AUG3600CE', tradingClass='TITAN'), order=LimitOrder(orderId=92608, clientId=10, permId=1654946780, action='SELL', totalQuantity=175.0, lmtPrice=407.85, auxPrice=0.0), orderStatus=OrderStatus(orderId=92608, status='PreSubmitted', filled=0.0, remaining=175.0, avgFillPrice=0.0, permId=1654946780, parentId=0, lastFillPrice=0.0, clientId=10, whyHeld='', mktCapPrice=0.0), fills=[], log=[TradeLogEntry(time=datetime.datetime(2024, 8, 1, 17, 48, 36, 486595, tzinfo=datetime.timezone.utc), status='PendingSubmit', message='', errorCode=0), TradeLogEntry(time=datetime.datetime(2024, 8, 1, 17, 48, 37, 813069, tzinfo=datetime.timezone.utc), status='PreSubmitted', message='', errorCode=0)], advancedError=''),\n",
       " Trade(contract=Option(conId=707139413, symbol='UPL', lastTradeDateOrContractMonth='20240829', strike=550.0, right='P', multiplier='1', exchange='NSE', currency='INR', localSymbol='UPL24AUG550PE', tradingClass='UPL'), order=LimitOrder(orderId=92609, clientId=10, permId=1654946781, action='SELL', totalQuantity=1300.0, lmtPrice=81.95, auxPrice=0.0), orderStatus=OrderStatus(orderId=92609, status='PreSubmitted', filled=0.0, remaining=1300.0, avgFillPrice=0.0, permId=1654946781, parentId=0, lastFillPrice=0.0, clientId=10, whyHeld='', mktCapPrice=0.0), fills=[], log=[TradeLogEntry(time=datetime.datetime(2024, 8, 1, 17, 48, 36, 487594, tzinfo=datetime.timezone.utc), status='PendingSubmit', message='', errorCode=0), TradeLogEntry(time=datetime.datetime(2024, 8, 1, 17, 48, 37, 832696, tzinfo=datetime.timezone.utc), status='PreSubmitted', message='', errorCode=0)], advancedError=''),\n",
       " Trade(contract=Option(conId=707134288, symbol='TCS', lastTradeDateOrContractMonth='20240829', strike=4700.0, right='C', multiplier='1', exchange='NSE', currency='INR', localSymbol='TCS24AUG4700CE', tradingClass='TCS'), order=LimitOrder(orderId=92610, clientId=10, permId=1654946782, action='SELL', totalQuantity=175.0, lmtPrice=62.35, auxPrice=0.0), orderStatus=OrderStatus(orderId=92610, status='PreSubmitted', filled=0.0, remaining=175.0, avgFillPrice=0.0, permId=1654946782, parentId=0, lastFillPrice=0.0, clientId=10, whyHeld='', mktCapPrice=0.0), fills=[], log=[TradeLogEntry(time=datetime.datetime(2024, 8, 1, 17, 48, 36, 487594, tzinfo=datetime.timezone.utc), status='PendingSubmit', message='', errorCode=0), TradeLogEntry(time=datetime.datetime(2024, 8, 1, 17, 48, 37, 835697, tzinfo=datetime.timezone.utc), status='PreSubmitted', message='', errorCode=0)], advancedError=''),\n",
       " Trade(contract=Option(conId=717313181, symbol='TECHM', lastTradeDateOrContractMonth='20240829', strike=1520.0, right='P', multiplier='1', exchange='NSE', currency='INR', localSymbol='TECHM24AUG1520PE', tradingClass='TECHM'), order=LimitOrder(orderId=92611, clientId=10, permId=1654946783, action='SELL', totalQuantity=600.0, lmtPrice=166.35, auxPrice=0.0), orderStatus=OrderStatus(orderId=92611, status='PreSubmitted', filled=0.0, remaining=600.0, avgFillPrice=0.0, permId=1654946783, parentId=0, lastFillPrice=0.0, clientId=10, whyHeld='', mktCapPrice=0.0), fills=[], log=[TradeLogEntry(time=datetime.datetime(2024, 8, 1, 17, 48, 36, 487594, tzinfo=datetime.timezone.utc), status='PendingSubmit', message='', errorCode=0), TradeLogEntry(time=datetime.datetime(2024, 8, 1, 17, 48, 37, 861788, tzinfo=datetime.timezone.utc), status='PreSubmitted', message='', errorCode=0)], advancedError=''),\n",
       " Trade(contract=Option(conId=707135744, symbol='TITAN', lastTradeDateOrContractMonth='20240829', strike=3400.0, right='P', multiplier='1', exchange='NSE', currency='INR', localSymbol='TITAN24AUG3400PE', tradingClass='TITAN'), order=LimitOrder(orderId=92612, clientId=10, permId=1654946784, action='SELL', totalQuantity=175.0, lmtPrice=439.55, auxPrice=0.0), orderStatus=OrderStatus(orderId=92612, status='PreSubmitted', filled=0.0, remaining=175.0, avgFillPrice=0.0, permId=1654946784, parentId=0, lastFillPrice=0.0, clientId=10, whyHeld='', mktCapPrice=0.0), fills=[], log=[TradeLogEntry(time=datetime.datetime(2024, 8, 1, 17, 48, 36, 488593, tzinfo=datetime.timezone.utc), status='PendingSubmit', message='', errorCode=0), TradeLogEntry(time=datetime.datetime(2024, 8, 1, 17, 48, 37, 872796, tzinfo=datetime.timezone.utc), status='PreSubmitted', message='', errorCode=0)], advancedError=''),\n",
       " Trade(contract=Option(conId=717313210, symbol='TECHM', lastTradeDateOrContractMonth='20240829', strike=1600.0, right='C', multiplier='1', exchange='NSE', currency='INR', localSymbol='TECHM24AUG1600CE', tradingClass='TECHM'), order=LimitOrder(orderId=92613, clientId=10, permId=1654946785, action='SELL', totalQuantity=600.0, lmtPrice=133.85, auxPrice=0.0), orderStatus=OrderStatus(orderId=92613, status='PreSubmitted', filled=0.0, remaining=600.0, avgFillPrice=0.0, permId=1654946785, parentId=0, lastFillPrice=0.0, clientId=10, whyHeld='', mktCapPrice=0.0), fills=[], log=[TradeLogEntry(time=datetime.datetime(2024, 8, 1, 17, 48, 36, 488593, tzinfo=datetime.timezone.utc), status='PendingSubmit', message='', errorCode=0), TradeLogEntry(time=datetime.datetime(2024, 8, 1, 17, 48, 37, 949119, tzinfo=datetime.timezone.utc), status='PreSubmitted', message='', errorCode=0)], advancedError=''),\n",
       " Trade(contract=Option(conId=707138863, symbol='ULTRACEMC', lastTradeDateOrContractMonth='20240829', strike=11800.0, right='P', multiplier='1', exchange='NSE', currency='INR', localSymbol='ULTRACEMCO24AUG11800PE', tradingClass='ULTRACEMCO'), order=LimitOrder(orderId=92614, clientId=10, permId=1654946786, action='SELL', totalQuantity=100.0, lmtPrice=1265.85, auxPrice=0.0), orderStatus=OrderStatus(orderId=92614, status='PreSubmitted', filled=0.0, remaining=100.0, avgFillPrice=0.0, permId=1654946786, parentId=0, lastFillPrice=0.0, clientId=10, whyHeld='', mktCapPrice=0.0), fills=[], log=[TradeLogEntry(time=datetime.datetime(2024, 8, 1, 17, 48, 36, 488593, tzinfo=datetime.timezone.utc), status='PendingSubmit', message='', errorCode=0), TradeLogEntry(time=datetime.datetime(2024, 8, 1, 17, 48, 37, 966654, tzinfo=datetime.timezone.utc), status='PreSubmitted', message='', errorCode=0)], advancedError=''),\n",
       " Trade(contract=Option(conId=707132508, symbol='TATAMOTOR', lastTradeDateOrContractMonth='20240829', strike=1200.0, right='C', multiplier='1', exchange='NSE', currency='INR', localSymbol='TATAMOTORS24AUG1200CE', tradingClass='TATAMOTORS'), order=LimitOrder(orderId=92615, clientId=10, permId=1654946787, action='SELL', totalQuantity=550.0, lmtPrice=130.05, auxPrice=0.0), orderStatus=OrderStatus(orderId=92615, status='PreSubmitted', filled=0.0, remaining=550.0, avgFillPrice=0.0, permId=1654946787, parentId=0, lastFillPrice=0.0, clientId=10, whyHeld='', mktCapPrice=0.0), fills=[], log=[TradeLogEntry(time=datetime.datetime(2024, 8, 1, 17, 48, 36, 488593, tzinfo=datetime.timezone.utc), status='PendingSubmit', message='', errorCode=0), TradeLogEntry(time=datetime.datetime(2024, 8, 1, 17, 48, 37, 997452, tzinfo=datetime.timezone.utc), status='PreSubmitted', message='', errorCode=0)], advancedError=''),\n",
       " Trade(contract=Option(conId=707043764, symbol='ADANIENT', lastTradeDateOrContractMonth='20240829', strike=3100.0, right='P', multiplier='1', exchange='NSE', currency='INR', localSymbol='ADANIENT24AUG3100PE', tradingClass='ADANIENT'), order=LimitOrder(orderId=92616, clientId=10, permId=1654946788, action='SELL', totalQuantity=300.0, lmtPrice=331.05, auxPrice=0.0), orderStatus=OrderStatus(orderId=92616, status='PreSubmitted', filled=0.0, remaining=300.0, avgFillPrice=0.0, permId=1654946788, parentId=0, lastFillPrice=0.0, clientId=10, whyHeld='', mktCapPrice=0.0), fills=[], log=[TradeLogEntry(time=datetime.datetime(2024, 8, 1, 17, 48, 37, 236219, tzinfo=datetime.timezone.utc), status='PendingSubmit', message='', errorCode=0), TradeLogEntry(time=datetime.datetime(2024, 8, 1, 17, 48, 38, 103536, tzinfo=datetime.timezone.utc), status='PreSubmitted', message='', errorCode=0)], advancedError=''),\n",
       " Trade(contract=Option(conId=707043764, symbol='ADANIENT', lastTradeDateOrContractMonth='20240829', strike=3100.0, right='P', multiplier='1', exchange='NSE', currency='INR', localSymbol='ADANIENT24AUG3100PE', tradingClass='ADANIENT'), order=LimitOrder(orderId=92617, clientId=10, permId=1654946789, action='SELL', totalQuantity=300.0, lmtPrice=331.05, auxPrice=0.0), orderStatus=OrderStatus(orderId=92617, status='PreSubmitted', filled=0.0, remaining=300.0, avgFillPrice=0.0, permId=1654946789, parentId=0, lastFillPrice=0.0, clientId=10, whyHeld='', mktCapPrice=0.0), fills=[], log=[TradeLogEntry(time=datetime.datetime(2024, 8, 1, 17, 48, 37, 237222, tzinfo=datetime.timezone.utc), status='PendingSubmit', message='', errorCode=0), TradeLogEntry(time=datetime.datetime(2024, 8, 1, 17, 48, 38, 175014, tzinfo=datetime.timezone.utc), status='PreSubmitted', message='', errorCode=0)], advancedError=''),\n",
       " Trade(contract=Option(conId=707104987, symbol='UNITDSPR', lastTradeDateOrContractMonth='20240829', strike=1520.0, right='C', multiplier='1', exchange='NSE', currency='INR', localSymbol='UNITDSPR24AUG1520CE', tradingClass='UNITDSPR'), order=LimitOrder(orderId=92618, clientId=10, permId=1654946790, action='SELL', totalQuantity=700.0, lmtPrice=78.7, auxPrice=0.0), orderStatus=OrderStatus(orderId=92618, status='PreSubmitted', filled=0.0, remaining=700.0, avgFillPrice=0.0, permId=1654946790, parentId=0, lastFillPrice=0.0, clientId=10, whyHeld='', mktCapPrice=0.0), fills=[], log=[TradeLogEntry(time=datetime.datetime(2024, 8, 1, 17, 48, 37, 238218, tzinfo=datetime.timezone.utc), status='PendingSubmit', message='', errorCode=0), TradeLogEntry(time=datetime.datetime(2024, 8, 1, 17, 48, 38, 212652, tzinfo=datetime.timezone.utc), status='PreSubmitted', message='', errorCode=0)], advancedError=''),\n",
       " Trade(contract=Option(conId=712951178, symbol='VEDL', lastTradeDateOrContractMonth='20240829', strike=490.0, right='C', multiplier='1', exchange='NSE', currency='INR', localSymbol='VEDL24AUG490CE', tradingClass='VEDL'), order=LimitOrder(orderId=92619, clientId=10, permId=1654946791, action='SELL', totalQuantity=2300.0, lmtPrice=35.35, auxPrice=0.0), orderStatus=OrderStatus(orderId=92619, status='PreSubmitted', filled=0.0, remaining=2300.0, avgFillPrice=0.0, permId=1654946791, parentId=0, lastFillPrice=0.0, clientId=10, whyHeld='', mktCapPrice=0.0), fills=[], log=[TradeLogEntry(time=datetime.datetime(2024, 8, 1, 17, 48, 37, 239219, tzinfo=datetime.timezone.utc), status='PendingSubmit', message='', errorCode=0), TradeLogEntry(time=datetime.datetime(2024, 8, 1, 17, 48, 38, 251366, tzinfo=datetime.timezone.utc), status='PreSubmitted', message='', errorCode=0)], advancedError=''),\n",
       " Trade(contract=Option(conId=707041024, symbol='ABB', lastTradeDateOrContractMonth='20240829', strike=8500.0, right='C', multiplier='1', exchange='NSE', currency='INR', localSymbol='ABB24AUG8500CE', tradingClass='ABB'), order=LimitOrder(orderId=92620, clientId=10, permId=1654946792, action='SELL', totalQuantity=125.0, lmtPrice=703.05, auxPrice=0.0), orderStatus=OrderStatus(orderId=92620, status='PreSubmitted', filled=0.0, remaining=125.0, avgFillPrice=0.0, permId=1654946792, parentId=0, lastFillPrice=0.0, clientId=10, whyHeld='', mktCapPrice=0.0), fills=[], log=[TradeLogEntry(time=datetime.datetime(2024, 8, 1, 17, 48, 37, 240218, tzinfo=datetime.timezone.utc), status='PendingSubmit', message='', errorCode=0), TradeLogEntry(time=datetime.datetime(2024, 8, 1, 17, 48, 38, 321227, tzinfo=datetime.timezone.utc), status='PreSubmitted', message='', errorCode=0)], advancedError=''),\n",
       " Trade(contract=Option(conId=707041024, symbol='ABB', lastTradeDateOrContractMonth='20240829', strike=8500.0, right='C', multiplier='1', exchange='NSE', currency='INR', localSymbol='ABB24AUG8500CE', tradingClass='ABB'), order=LimitOrder(orderId=92621, clientId=10, permId=1654946793, action='SELL', totalQuantity=125.0, lmtPrice=703.05, auxPrice=0.0), orderStatus=OrderStatus(orderId=92621, status='PreSubmitted', filled=0.0, remaining=125.0, avgFillPrice=0.0, permId=1654946793, parentId=0, lastFillPrice=0.0, clientId=10, whyHeld='', mktCapPrice=0.0), fills=[], log=[TradeLogEntry(time=datetime.datetime(2024, 8, 1, 17, 48, 37, 240218, tzinfo=datetime.timezone.utc), status='PendingSubmit', message='', errorCode=0), TradeLogEntry(time=datetime.datetime(2024, 8, 1, 17, 48, 38, 323215, tzinfo=datetime.timezone.utc), status='PreSubmitted', message='', errorCode=0)], advancedError=''),\n",
       " Trade(contract=Option(conId=707044203, symbol='ADANIPORT', lastTradeDateOrContractMonth='20240829', strike=1720.0, right='C', multiplier='1', exchange='NSE', currency='INR', localSymbol='ADANIPORTS24AUG1720CE', tradingClass='ADANIPORTS'), order=LimitOrder(orderId=92622, clientId=10, permId=1654946795, action='SELL', totalQuantity=400.0, lmtPrice=111.6, auxPrice=0.0), orderStatus=OrderStatus(orderId=92622, status='PreSubmitted', filled=0.0, remaining=400.0, avgFillPrice=0.0, permId=1654946795, parentId=0, lastFillPrice=0.0, clientId=10, whyHeld='', mktCapPrice=0.0), fills=[], log=[TradeLogEntry(time=datetime.datetime(2024, 8, 1, 17, 48, 37, 241460, tzinfo=datetime.timezone.utc), status='PendingSubmit', message='', errorCode=0), TradeLogEntry(time=datetime.datetime(2024, 8, 1, 17, 48, 38, 419549, tzinfo=datetime.timezone.utc), status='PreSubmitted', message='', errorCode=0)], advancedError=''),\n",
       " Trade(contract=Option(conId=707044203, symbol='ADANIPORT', lastTradeDateOrContractMonth='20240829', strike=1720.0, right='C', multiplier='1', exchange='NSE', currency='INR', localSymbol='ADANIPORTS24AUG1720CE', tradingClass='ADANIPORTS'), order=LimitOrder(orderId=92623, clientId=10, permId=1654946797, action='SELL', totalQuantity=400.0, lmtPrice=111.6, auxPrice=0.0), orderStatus=OrderStatus(orderId=92623, status='PreSubmitted', filled=0.0, remaining=400.0, avgFillPrice=0.0, permId=1654946797, parentId=0, lastFillPrice=0.0, clientId=10, whyHeld='', mktCapPrice=0.0), fills=[], log=[TradeLogEntry(time=datetime.datetime(2024, 8, 1, 17, 48, 37, 242479, tzinfo=datetime.timezone.utc), status='PendingSubmit', message='', errorCode=0), TradeLogEntry(time=datetime.datetime(2024, 8, 1, 17, 48, 38, 595014, tzinfo=datetime.timezone.utc), status='PreSubmitted', message='', errorCode=0)], advancedError=''),\n",
       " Trade(contract=Option(conId=707042159, symbol='ABCAPITAL', lastTradeDateOrContractMonth='20240829', strike=210.0, right='P', multiplier='1', exchange='NSE', currency='INR', localSymbol='ABCAPITAL24AUG210PE', tradingClass='ABCAPITAL'), order=LimitOrder(orderId=92624, clientId=10, permId=1654946794, action='SELL', totalQuantity=5400.0, lmtPrice=27.5, auxPrice=0.0), orderStatus=OrderStatus(orderId=92624, status='PreSubmitted', filled=0.0, remaining=5400.0, avgFillPrice=0.0, permId=1654946794, parentId=0, lastFillPrice=0.0, clientId=10, whyHeld='', mktCapPrice=0.0), fills=[], log=[TradeLogEntry(time=datetime.datetime(2024, 8, 1, 17, 48, 37, 242479, tzinfo=datetime.timezone.utc), status='PendingSubmit', message='', errorCode=0), TradeLogEntry(time=datetime.datetime(2024, 8, 1, 17, 48, 38, 325209, tzinfo=datetime.timezone.utc), status='PreSubmitted', message='', errorCode=0)], advancedError=''),\n",
       " Trade(contract=Option(conId=707042159, symbol='ABCAPITAL', lastTradeDateOrContractMonth='20240829', strike=210.0, right='P', multiplier='1', exchange='NSE', currency='INR', localSymbol='ABCAPITAL24AUG210PE', tradingClass='ABCAPITAL'), order=LimitOrder(orderId=92625, clientId=10, permId=1654946796, action='SELL', totalQuantity=5400.0, lmtPrice=27.5, auxPrice=0.0), orderStatus=OrderStatus(orderId=92625, status='PreSubmitted', filled=0.0, remaining=5400.0, avgFillPrice=0.0, permId=1654946796, parentId=0, lastFillPrice=0.0, clientId=10, whyHeld='', mktCapPrice=0.0), fills=[], log=[TradeLogEntry(time=datetime.datetime(2024, 8, 1, 17, 48, 37, 242479, tzinfo=datetime.timezone.utc), status='PendingSubmit', message='', errorCode=0), TradeLogEntry(time=datetime.datetime(2024, 8, 1, 17, 48, 38, 460721, tzinfo=datetime.timezone.utc), status='PreSubmitted', message='', errorCode=0)], advancedError=''),\n",
       " Trade(contract=Option(conId=707141051, symbol='WIPRO', lastTradeDateOrContractMonth='20240829', strike=560.0, right='C', multiplier='1', exchange='NSE', currency='INR', localSymbol='WIPRO24AUG560CE', tradingClass='WIPRO'), order=LimitOrder(orderId=92626, clientId=10, action='SELL', totalQuantity=1500, lmtPrice=29.6), orderStatus=OrderStatus(orderId=92626, status='PendingSubmit', filled=0.0, remaining=0.0, avgFillPrice=0.0, permId=0, parentId=0, lastFillPrice=0.0, clientId=0, whyHeld='', mktCapPrice=0.0), fills=[], log=[TradeLogEntry(time=datetime.datetime(2024, 8, 1, 17, 48, 37, 243997, tzinfo=datetime.timezone.utc), status='PendingSubmit', message='', errorCode=0)], advancedError=''),\n",
       " Trade(contract=Option(conId=707042770, symbol='ABFRL', lastTradeDateOrContractMonth='20240829', strike=380.0, right='C', multiplier='1', exchange='NSE', currency='INR', localSymbol='ABFRL24AUG380CE', tradingClass='ABFRL'), order=LimitOrder(orderId=92627, clientId=10, action='SELL', totalQuantity=2600, lmtPrice=18.2), orderStatus=OrderStatus(orderId=92627, status='PendingSubmit', filled=0.0, remaining=0.0, avgFillPrice=0.0, permId=0, parentId=0, lastFillPrice=0.0, clientId=0, whyHeld='', mktCapPrice=0.0), fills=[], log=[TradeLogEntry(time=datetime.datetime(2024, 8, 1, 17, 48, 37, 245023, tzinfo=datetime.timezone.utc), status='PendingSubmit', message='', errorCode=0)], advancedError=''),\n",
       " Trade(contract=Option(conId=707042770, symbol='ABFRL', lastTradeDateOrContractMonth='20240829', strike=380.0, right='C', multiplier='1', exchange='NSE', currency='INR', localSymbol='ABFRL24AUG380CE', tradingClass='ABFRL'), order=LimitOrder(orderId=92628, clientId=10, action='SELL', totalQuantity=2600, lmtPrice=18.2), orderStatus=OrderStatus(orderId=92628, status='PendingSubmit', filled=0.0, remaining=0.0, avgFillPrice=0.0, permId=0, parentId=0, lastFillPrice=0.0, clientId=0, whyHeld='', mktCapPrice=0.0), fills=[], log=[TradeLogEntry(time=datetime.datetime(2024, 8, 1, 17, 48, 37, 246042, tzinfo=datetime.timezone.utc), status='PendingSubmit', message='', errorCode=0)], advancedError=''),\n",
       " Trade(contract=Option(conId=707137179, symbol='TRENT', lastTradeDateOrContractMonth='20240829', strike=6400.0, right='C', multiplier='1', exchange='NSE', currency='INR', localSymbol='TRENT24AUG6400CE', tradingClass='TRENT'), order=LimitOrder(orderId=92629, clientId=10, action='SELL', totalQuantity=200, lmtPrice=495.45), orderStatus=OrderStatus(orderId=92629, status='PendingSubmit', filled=0.0, remaining=0.0, avgFillPrice=0.0, permId=0, parentId=0, lastFillPrice=0.0, clientId=0, whyHeld='', mktCapPrice=0.0), fills=[], log=[TradeLogEntry(time=datetime.datetime(2024, 8, 1, 17, 48, 37, 246042, tzinfo=datetime.timezone.utc), status='PendingSubmit', message='', errorCode=0)], advancedError=''),\n",
       " Trade(contract=Option(conId=711478642, symbol='TATASTEEL', lastTradeDateOrContractMonth='20240829', strike=180.0, right='C', multiplier='1', exchange='NSE', currency='INR', localSymbol='TATASTEEL24AUG180CE', tradingClass='TATASTEEL'), order=LimitOrder(orderId=92630, clientId=10, action='SELL', totalQuantity=5500, lmtPrice=7.95), orderStatus=OrderStatus(orderId=92630, status='PendingSubmit', filled=0.0, remaining=0.0, avgFillPrice=0.0, permId=0, parentId=0, lastFillPrice=0.0, clientId=0, whyHeld='', mktCapPrice=0.0), fills=[], log=[TradeLogEntry(time=datetime.datetime(2024, 8, 1, 17, 48, 37, 247042, tzinfo=datetime.timezone.utc), status='PendingSubmit', message='', errorCode=0)], advancedError=''),\n",
       " Trade(contract=Option(conId=707138288, symbol='UBL', lastTradeDateOrContractMonth='20240829', strike=2200.0, right='C', multiplier='1', exchange='NSE', currency='INR', localSymbol='UBL24AUG2200CE', tradingClass='UBL'), order=LimitOrder(orderId=92631, clientId=10, action='SELL', totalQuantity=400, lmtPrice=84.0), orderStatus=OrderStatus(orderId=92631, status='PendingSubmit', filled=0.0, remaining=0.0, avgFillPrice=0.0, permId=0, parentId=0, lastFillPrice=0.0, clientId=0, whyHeld='', mktCapPrice=0.0), fills=[], log=[TradeLogEntry(time=datetime.datetime(2024, 8, 1, 17, 48, 37, 248043, tzinfo=datetime.timezone.utc), status='PendingSubmit', message='', errorCode=0)], advancedError=''),\n",
       " Trade(contract=Option(conId=707139761, symbol='VEDL', lastTradeDateOrContractMonth='20240829', strike=500.0, right='C', multiplier='1', exchange='NSE', currency='INR', localSymbol='VEDL24AUG500CE', tradingClass='VEDL'), order=LimitOrder(orderId=92632, clientId=10, action='SELL', totalQuantity=2300, lmtPrice=28.35), orderStatus=OrderStatus(orderId=92632, status='PendingSubmit', filled=0.0, remaining=0.0, avgFillPrice=0.0, permId=0, parentId=0, lastFillPrice=0.0, clientId=0, whyHeld='', mktCapPrice=0.0), fills=[], log=[TradeLogEntry(time=datetime.datetime(2024, 8, 1, 17, 48, 37, 248043, tzinfo=datetime.timezone.utc), status='PendingSubmit', message='', errorCode=0)], advancedError=''),\n",
       " Trade(contract=Option(conId=707137754, symbol='TVSMOTOR', lastTradeDateOrContractMonth='20240829', strike=2880.0, right='C', multiplier='1', exchange='NSE', currency='INR', localSymbol='TVSMOTOR24AUG2880CE', tradingClass='TVSMOTOR'), order=LimitOrder(orderId=92633, clientId=10, action='SELL', totalQuantity=350, lmtPrice=144.0), orderStatus=OrderStatus(orderId=92633, status='PendingSubmit', filled=0.0, remaining=0.0, avgFillPrice=0.0, permId=0, parentId=0, lastFillPrice=0.0, clientId=0, whyHeld='', mktCapPrice=0.0), fills=[], log=[TradeLogEntry(time=datetime.datetime(2024, 8, 1, 17, 48, 37, 249041, tzinfo=datetime.timezone.utc), status='PendingSubmit', message='', errorCode=0)], advancedError=''),\n",
       " Trade(contract=Option(conId=707650677, symbol='VOLTAS', lastTradeDateOrContractMonth='20240829', strike=1700.0, right='C', multiplier='1', exchange='NSE', currency='INR', localSymbol='VOLTAS24AUG1700CE', tradingClass='VOLTAS'), order=LimitOrder(orderId=92634, clientId=10, action='SELL', totalQuantity=600, lmtPrice=97.5), orderStatus=OrderStatus(orderId=92634, status='PendingSubmit', filled=0.0, remaining=0.0, avgFillPrice=0.0, permId=0, parentId=0, lastFillPrice=0.0, clientId=0, whyHeld='', mktCapPrice=0.0), fills=[], log=[TradeLogEntry(time=datetime.datetime(2024, 8, 1, 17, 48, 37, 249041, tzinfo=datetime.timezone.utc), status='PendingSubmit', message='', errorCode=0)], advancedError=''),\n",
       " Trade(contract=Option(conId=712948885, symbol='UBL', lastTradeDateOrContractMonth='20240829', strike=1900.0, right='P', multiplier='1', exchange='NSE', currency='INR', localSymbol='UBL24AUG1900PE', tradingClass='UBL'), order=LimitOrder(orderId=92635, clientId=10, action='SELL', totalQuantity=400, lmtPrice=216.25), orderStatus=OrderStatus(orderId=92635, status='PendingSubmit', filled=0.0, remaining=0.0, avgFillPrice=0.0, permId=0, parentId=0, lastFillPrice=0.0, clientId=0, whyHeld='', mktCapPrice=0.0), fills=[], log=[TradeLogEntry(time=datetime.datetime(2024, 8, 1, 17, 48, 37, 250037, tzinfo=datetime.timezone.utc), status='PendingSubmit', message='', errorCode=0)], advancedError=''),\n",
       " Trade(contract=Option(conId=707040502, symbol='AARTIIND', lastTradeDateOrContractMonth='20240829', strike=700.0, right='P', multiplier='1', exchange='NSE', currency='INR', localSymbol='AARTIIND24AUG700PE', tradingClass='AARTIIND'), order=LimitOrder(orderId=92636, clientId=10, action='SELL', totalQuantity=1000, lmtPrice=83.05), orderStatus=OrderStatus(orderId=92636, status='PendingSubmit', filled=0.0, remaining=0.0, avgFillPrice=0.0, permId=0, parentId=0, lastFillPrice=0.0, clientId=0, whyHeld='', mktCapPrice=0.0), fills=[], log=[TradeLogEntry(time=datetime.datetime(2024, 8, 1, 17, 48, 37, 250037, tzinfo=datetime.timezone.utc), status='PendingSubmit', message='', errorCode=0)], advancedError=''),\n",
       " Trade(contract=Option(conId=707040502, symbol='AARTIIND', lastTradeDateOrContractMonth='20240829', strike=700.0, right='P', multiplier='1', exchange='NSE', currency='INR', localSymbol='AARTIIND24AUG700PE', tradingClass='AARTIIND'), order=LimitOrder(orderId=92637, clientId=10, action='SELL', totalQuantity=1000, lmtPrice=83.05), orderStatus=OrderStatus(orderId=92637, status='PendingSubmit', filled=0.0, remaining=0.0, avgFillPrice=0.0, permId=0, parentId=0, lastFillPrice=0.0, clientId=0, whyHeld='', mktCapPrice=0.0), fills=[], log=[TradeLogEntry(time=datetime.datetime(2024, 8, 1, 17, 48, 37, 250037, tzinfo=datetime.timezone.utc), status='PendingSubmit', message='', errorCode=0)], advancedError=''),\n",
       " Trade(contract=Option(conId=707139403, symbol='UPL', lastTradeDateOrContractMonth='20240829', strike=530.0, right='P', multiplier='1', exchange='NSE', currency='INR', localSymbol='UPL24AUG530PE', tradingClass='UPL'), order=LimitOrder(orderId=92638, clientId=10, action='SELL', totalQuantity=1300, lmtPrice=57.8), orderStatus=OrderStatus(orderId=92638, status='PendingSubmit', filled=0.0, remaining=0.0, avgFillPrice=0.0, permId=0, parentId=0, lastFillPrice=0.0, clientId=0, whyHeld='', mktCapPrice=0.0), fills=[], log=[TradeLogEntry(time=datetime.datetime(2024, 8, 1, 17, 48, 37, 250037, tzinfo=datetime.timezone.utc), status='PendingSubmit', message='', errorCode=0)], advancedError=''),\n",
       " Trade(contract=Option(conId=707104927, symbol='UNITDSPR', lastTradeDateOrContractMonth='20240829', strike=1360.0, right='P', multiplier='1', exchange='NSE', currency='INR', localSymbol='UNITDSPR24AUG1360PE', tradingClass='UNITDSPR'), order=LimitOrder(orderId=92639, clientId=10, action='SELL', totalQuantity=700, lmtPrice=107.55), orderStatus=OrderStatus(orderId=92639, status='PendingSubmit', filled=0.0, remaining=0.0, avgFillPrice=0.0, permId=0, parentId=0, lastFillPrice=0.0, clientId=0, whyHeld='', mktCapPrice=0.0), fills=[], log=[TradeLogEntry(time=datetime.datetime(2024, 8, 1, 17, 48, 37, 251051, tzinfo=datetime.timezone.utc), status='PendingSubmit', message='', errorCode=0)], advancedError=''),\n",
       " Trade(contract=Option(conId=707140994, symbol='WIPRO', lastTradeDateOrContractMonth='20240829', strike=500.0, right='P', multiplier='1', exchange='NSE', currency='INR', localSymbol='WIPRO24AUG500PE', tradingClass='WIPRO'), order=LimitOrder(orderId=92640, clientId=10, action='SELL', totalQuantity=1500, lmtPrice=40.75), orderStatus=OrderStatus(orderId=92640, status='PendingSubmit', filled=0.0, remaining=0.0, avgFillPrice=0.0, permId=0, parentId=0, lastFillPrice=0.0, clientId=0, whyHeld='', mktCapPrice=0.0), fills=[], log=[TradeLogEntry(time=datetime.datetime(2024, 8, 1, 17, 48, 37, 251051, tzinfo=datetime.timezone.utc), status='PendingSubmit', message='', errorCode=0)], advancedError=''),\n",
       " Trade(contract=Option(conId=707139442, symbol='UPL', lastTradeDateOrContractMonth='20240829', strike=590.0, right='C', multiplier='1', exchange='NSE', currency='INR', localSymbol='UPL24AUG590CE', tradingClass='UPL'), order=LimitOrder(orderId=92641, clientId=10, action='SELL', totalQuantity=1300, lmtPrice=63.15), orderStatus=OrderStatus(orderId=92641, status='PendingSubmit', filled=0.0, remaining=0.0, avgFillPrice=0.0, permId=0, parentId=0, lastFillPrice=0.0, clientId=0, whyHeld='', mktCapPrice=0.0), fills=[], log=[TradeLogEntry(time=datetime.datetime(2024, 8, 1, 17, 48, 37, 988924, tzinfo=datetime.timezone.utc), status='PendingSubmit', message='', errorCode=0)], advancedError=''),\n",
       " Trade(contract=Option(conId=712948180, symbol='TVSMOTOR', lastTradeDateOrContractMonth='20240829', strike=2500.0, right='P', multiplier='1', exchange='NSE', currency='INR', localSymbol='TVSMOTOR24AUG2500PE', tradingClass='TVSMOTOR'), order=LimitOrder(orderId=92642, clientId=10, action='SELL', totalQuantity=350, lmtPrice=366.7), orderStatus=OrderStatus(orderId=92642, status='PendingSubmit', filled=0.0, remaining=0.0, avgFillPrice=0.0, permId=0, parentId=0, lastFillPrice=0.0, clientId=0, whyHeld='', mktCapPrice=0.0), fills=[], log=[TradeLogEntry(time=datetime.datetime(2024, 8, 1, 17, 48, 37, 988924, tzinfo=datetime.timezone.utc), status='PendingSubmit', message='', errorCode=0)], advancedError=''),\n",
       " Trade(contract=Option(conId=712948925, symbol='UBL', lastTradeDateOrContractMonth='20240829', strike=2100.0, right='C', multiplier='1', exchange='NSE', currency='INR', localSymbol='UBL24AUG2100CE', tradingClass='UBL'), order=LimitOrder(orderId=92643, clientId=10, action='SELL', totalQuantity=400, lmtPrice=155.0), orderStatus=OrderStatus(orderId=92643, status='PendingSubmit', filled=0.0, remaining=0.0, avgFillPrice=0.0, permId=0, parentId=0, lastFillPrice=0.0, clientId=0, whyHeld='', mktCapPrice=0.0), fills=[], log=[TradeLogEntry(time=datetime.datetime(2024, 8, 1, 17, 48, 37, 989926, tzinfo=datetime.timezone.utc), status='PendingSubmit', message='', errorCode=0)], advancedError=''),\n",
       " Trade(contract=Option(conId=711478567, symbol='TATASTEEL', lastTradeDateOrContractMonth='20240829', strike=160.0, right='P', multiplier='1', exchange='NSE', currency='INR', localSymbol='TATASTEEL24AUG160PE', tradingClass='TATASTEEL'), order=LimitOrder(orderId=92644, clientId=10, permId=1654946798, action='SELL', totalQuantity=5500.0, lmtPrice=21.15, auxPrice=0.0), orderStatus=OrderStatus(orderId=92644, status='PreSubmitted', filled=0.0, remaining=5500.0, avgFillPrice=0.0, permId=1654946798, parentId=0, lastFillPrice=0.0, clientId=10, whyHeld='', mktCapPrice=0.0), fills=[], log=[TradeLogEntry(time=datetime.datetime(2024, 8, 1, 17, 48, 37, 989926, tzinfo=datetime.timezone.utc), status='PendingSubmit', message='', errorCode=0), TradeLogEntry(time=datetime.datetime(2024, 8, 1, 17, 48, 38, 622597, tzinfo=datetime.timezone.utc), status='PreSubmitted', message='', errorCode=0)], advancedError=''),\n",
       " Trade(contract=Option(conId=707132942, symbol='TATAPOWER', lastTradeDateOrContractMonth='20240829', strike=450.0, right='P', multiplier='1', exchange='NSE', currency='INR', localSymbol='TATAPOWER24AUG450PE', tradingClass='TATAPOWER'), order=LimitOrder(orderId=92645, clientId=10, action='SELL', totalQuantity=1350, lmtPrice=65.55), orderStatus=OrderStatus(orderId=92645, status='PendingSubmit', filled=0.0, remaining=0.0, avgFillPrice=0.0, permId=0, parentId=0, lastFillPrice=0.0, clientId=0, whyHeld='', mktCapPrice=0.0), fills=[], log=[TradeLogEntry(time=datetime.datetime(2024, 8, 1, 17, 48, 37, 989926, tzinfo=datetime.timezone.utc), status='PendingSubmit', message='', errorCode=0)], advancedError=''),\n",
       " Trade(contract=Option(conId=712944929, symbol='TATASTEEL', lastTradeDateOrContractMonth='20240829', strike=185.0, right='C', multiplier='1', exchange='NSE', currency='INR', localSymbol='TATASTEEL24AUG185CE', tradingClass='TATASTEEL'), order=LimitOrder(orderId=92646, clientId=10, permId=1654946799, action='SELL', totalQuantity=5500.0, lmtPrice=4.65, auxPrice=0.0), orderStatus=OrderStatus(orderId=92646, status='PreSubmitted', filled=0.0, remaining=5500.0, avgFillPrice=0.0, permId=1654946799, parentId=0, lastFillPrice=0.0, clientId=10, whyHeld='', mktCapPrice=0.0), fills=[], log=[TradeLogEntry(time=datetime.datetime(2024, 8, 1, 17, 48, 37, 990922, tzinfo=datetime.timezone.utc), status='PendingSubmit', message='', errorCode=0), TradeLogEntry(time=datetime.datetime(2024, 8, 1, 17, 48, 38, 630122, tzinfo=datetime.timezone.utc), status='PreSubmitted', message='', errorCode=0)], advancedError=''),\n",
       " Trade(contract=Option(conId=712947771, symbol='TRENT', lastTradeDateOrContractMonth='20240829', strike=6700.0, right='C', multiplier='1', exchange='NSE', currency='INR', localSymbol='TRENT24AUG6700CE', tradingClass='TRENT'), order=LimitOrder(orderId=92647, clientId=10, action='SELL', totalQuantity=200, lmtPrice=214.5), orderStatus=OrderStatus(orderId=92647, status='PendingSubmit', filled=0.0, remaining=0.0, avgFillPrice=0.0, permId=0, parentId=0, lastFillPrice=0.0, clientId=0, whyHeld='', mktCapPrice=0.0), fills=[], log=[TradeLogEntry(time=datetime.datetime(2024, 8, 1, 17, 48, 37, 990922, tzinfo=datetime.timezone.utc), status='PendingSubmit', message='', errorCode=0)], advancedError=''),\n",
       " Trade(contract=Option(conId=712949651, symbol='ULTRACEMC', lastTradeDateOrContractMonth='20240829', strike=12500.0, right='C', multiplier='1', exchange='NSE', currency='INR', localSymbol='ULTRACEMCO24AUG12500CE', tradingClass='ULTRACEMCO'), order=LimitOrder(orderId=92648, clientId=10, action='SELL', totalQuantity=100, lmtPrice=695.0), orderStatus=OrderStatus(orderId=92648, status='PendingSubmit', filled=0.0, remaining=0.0, avgFillPrice=0.0, permId=0, parentId=0, lastFillPrice=0.0, clientId=0, whyHeld='', mktCapPrice=0.0), fills=[], log=[TradeLogEntry(time=datetime.datetime(2024, 8, 1, 17, 48, 37, 991929, tzinfo=datetime.timezone.utc), status='PendingSubmit', message='', errorCode=0)], advancedError=''),\n",
       " Trade(contract=Option(conId=712951157, symbol='VEDL', lastTradeDateOrContractMonth='20240829', strike=430.0, right='P', multiplier='1', exchange='NSE', currency='INR', localSymbol='VEDL24AUG430PE', tradingClass='VEDL'), order=LimitOrder(orderId=92649, clientId=10, action='SELL', totalQuantity=2300, lmtPrice=67.4), orderStatus=OrderStatus(orderId=92649, status='PendingSubmit', filled=0.0, remaining=0.0, avgFillPrice=0.0, permId=0, parentId=0, lastFillPrice=0.0, clientId=0, whyHeld='', mktCapPrice=0.0), fills=[], log=[TradeLogEntry(time=datetime.datetime(2024, 8, 1, 17, 48, 37, 991929, tzinfo=datetime.timezone.utc), status='PendingSubmit', message='', errorCode=0)], advancedError=''),\n",
       " Trade(contract=Option(conId=707132474, symbol='TATAMOTOR', lastTradeDateOrContractMonth='20240829', strike=1100.0, right='P', multiplier='1', exchange='NSE', currency='INR', localSymbol='TATAMOTORS24AUG1100PE', tradingClass='TATAMOTORS'), order=LimitOrder(orderId=92650, clientId=10, action='SELL', totalQuantity=550, lmtPrice=145.15), orderStatus=OrderStatus(orderId=92650, status='PendingSubmit', filled=0.0, remaining=0.0, avgFillPrice=0.0, permId=0, parentId=0, lastFillPrice=0.0, clientId=0, whyHeld='', mktCapPrice=0.0), fills=[], log=[TradeLogEntry(time=datetime.datetime(2024, 8, 1, 17, 48, 37, 991929, tzinfo=datetime.timezone.utc), status='PendingSubmit', message='', errorCode=0)], advancedError=''),\n",
       " Trade(contract=Option(conId=707104977, symbol='UNITDSPR', lastTradeDateOrContractMonth='20240829', strike=1500.0, right='C', multiplier='1', exchange='NSE', currency='INR', localSymbol='UNITDSPR24AUG1500CE', tradingClass='UNITDSPR'), order=LimitOrder(orderId=92651, clientId=10, action='SELL', totalQuantity=700, lmtPrice=95.6), orderStatus=OrderStatus(orderId=92651, status='PendingSubmit', filled=0.0, remaining=0.0, avgFillPrice=0.0, permId=0, parentId=0, lastFillPrice=0.0, clientId=0, whyHeld='', mktCapPrice=0.0), fills=[], log=[TradeLogEntry(time=datetime.datetime(2024, 8, 1, 17, 48, 37, 991929, tzinfo=datetime.timezone.utc), status='PendingSubmit', message='', errorCode=0)], advancedError=''),\n",
       " Trade(contract=Option(conId=707139448, symbol='UPL', lastTradeDateOrContractMonth='20240829', strike=600.0, right='C', multiplier='1', exchange='NSE', currency='INR', localSymbol='UPL24AUG600CE', tradingClass='UPL'), order=LimitOrder(orderId=92652, clientId=10, action='SELL', totalQuantity=1300, lmtPrice=52.95), orderStatus=OrderStatus(orderId=92652, status='PendingSubmit', filled=0.0, remaining=0.0, avgFillPrice=0.0, permId=0, parentId=0, lastFillPrice=0.0, clientId=0, whyHeld='', mktCapPrice=0.0), fills=[], log=[TradeLogEntry(time=datetime.datetime(2024, 8, 1, 17, 48, 37, 992927, tzinfo=datetime.timezone.utc), status='PendingSubmit', message='', errorCode=0)], advancedError=''),\n",
       " Trade(contract=Option(conId=707043344, symbol='ACC', lastTradeDateOrContractMonth='20240829', strike=2640.0, right='C', multiplier='1', exchange='NSE', currency='INR', localSymbol='ACC24AUG2640CE', tradingClass='ACC'), order=LimitOrder(orderId=92653, clientId=10, action='SELL', totalQuantity=300, lmtPrice=196.8), orderStatus=OrderStatus(orderId=92653, status='PendingSubmit', filled=0.0, remaining=0.0, avgFillPrice=0.0, permId=0, parentId=0, lastFillPrice=0.0, clientId=0, whyHeld='', mktCapPrice=0.0), fills=[], log=[TradeLogEntry(time=datetime.datetime(2024, 8, 1, 17, 48, 37, 992927, tzinfo=datetime.timezone.utc), status='PendingSubmit', message='', errorCode=0)], advancedError=''),\n",
       " Trade(contract=Option(conId=707043344, symbol='ACC', lastTradeDateOrContractMonth='20240829', strike=2640.0, right='C', multiplier='1', exchange='NSE', currency='INR', localSymbol='ACC24AUG2640CE', tradingClass='ACC'), order=LimitOrder(orderId=92654, clientId=10, action='SELL', totalQuantity=300, lmtPrice=196.8), orderStatus=OrderStatus(orderId=92654, status='PendingSubmit', filled=0.0, remaining=0.0, avgFillPrice=0.0, permId=0, parentId=0, lastFillPrice=0.0, clientId=0, whyHeld='', mktCapPrice=0.0), fills=[], log=[TradeLogEntry(time=datetime.datetime(2024, 8, 1, 17, 48, 37, 992927, tzinfo=datetime.timezone.utc), status='PendingSubmit', message='', errorCode=0)], advancedError=''),\n",
       " Trade(contract=Option(conId=707134283, symbol='TCS', lastTradeDateOrContractMonth='20240829', strike=4600.0, right='C', multiplier='1', exchange='NSE', currency='INR', localSymbol='TCS24AUG4600CE', tradingClass='TCS'), order=LimitOrder(orderId=92655, clientId=10, action='SELL', totalQuantity=175, lmtPrice=153.95), orderStatus=OrderStatus(orderId=92655, status='PendingSubmit', filled=0.0, remaining=0.0, avgFillPrice=0.0, permId=0, parentId=0, lastFillPrice=0.0, clientId=0, whyHeld='', mktCapPrice=0.0), fills=[], log=[TradeLogEntry(time=datetime.datetime(2024, 8, 1, 17, 48, 37, 992927, tzinfo=datetime.timezone.utc), status='PendingSubmit', message='', errorCode=0)], advancedError=''),\n",
       " Trade(contract=Option(conId=717313175, symbol='TECHM', lastTradeDateOrContractMonth='20240829', strike=1500.0, right='P', multiplier='1', exchange='NSE', currency='INR', localSymbol='TECHM24AUG1500PE', tradingClass='TECHM'), order=LimitOrder(orderId=92656, clientId=10, action='SELL', totalQuantity=600, lmtPrice=140.3), orderStatus=OrderStatus(orderId=92656, status='PendingSubmit', filled=0.0, remaining=0.0, avgFillPrice=0.0, permId=0, parentId=0, lastFillPrice=0.0, clientId=0, whyHeld='', mktCapPrice=0.0), fills=[], log=[TradeLogEntry(time=datetime.datetime(2024, 8, 1, 17, 48, 37, 992927, tzinfo=datetime.timezone.utc), status='PendingSubmit', message='', errorCode=0)], advancedError=''),\n",
       " Trade(contract=Option(conId=707040537, symbol='AARTIIND', lastTradeDateOrContractMonth='20240829', strike=800.0, right='C', multiplier='1', exchange='NSE', currency='INR', localSymbol='AARTIIND24AUG800CE', tradingClass='AARTIIND'), order=LimitOrder(orderId=92657, clientId=10, action='SELL', totalQuantity=1000, lmtPrice=72.3), orderStatus=OrderStatus(orderId=92657, status='PendingSubmit', filled=0.0, remaining=0.0, avgFillPrice=0.0, permId=0, parentId=0, lastFillPrice=0.0, clientId=0, whyHeld='', mktCapPrice=0.0), fills=[], log=[TradeLogEntry(time=datetime.datetime(2024, 8, 1, 17, 48, 37, 994436, tzinfo=datetime.timezone.utc), status='PendingSubmit', message='', errorCode=0)], advancedError=''),\n",
       " Trade(contract=Option(conId=707040537, symbol='AARTIIND', lastTradeDateOrContractMonth='20240829', strike=800.0, right='C', multiplier='1', exchange='NSE', currency='INR', localSymbol='AARTIIND24AUG800CE', tradingClass='AARTIIND'), order=LimitOrder(orderId=92658, clientId=10, action='SELL', totalQuantity=1000, lmtPrice=72.3), orderStatus=OrderStatus(orderId=92658, status='PendingSubmit', filled=0.0, remaining=0.0, avgFillPrice=0.0, permId=0, parentId=0, lastFillPrice=0.0, clientId=0, whyHeld='', mktCapPrice=0.0), fills=[], log=[TradeLogEntry(time=datetime.datetime(2024, 8, 1, 17, 48, 37, 994436, tzinfo=datetime.timezone.utc), status='PendingSubmit', message='', errorCode=0)], advancedError=''),\n",
       " Trade(contract=Option(conId=707043302, symbol='ACC', lastTradeDateOrContractMonth='20240829', strike=2400.0, right='P', multiplier='1', exchange='NSE', currency='INR', localSymbol='ACC24AUG2400PE', tradingClass='ACC'), order=LimitOrder(orderId=92659, clientId=10, action='SELL', totalQuantity=300, lmtPrice=251.45), orderStatus=OrderStatus(orderId=92659, status='PendingSubmit', filled=0.0, remaining=0.0, avgFillPrice=0.0, permId=0, parentId=0, lastFillPrice=0.0, clientId=0, whyHeld='', mktCapPrice=0.0), fills=[], log=[TradeLogEntry(time=datetime.datetime(2024, 8, 1, 17, 48, 37, 995445, tzinfo=datetime.timezone.utc), status='PendingSubmit', message='', errorCode=0)], advancedError=''),\n",
       " Trade(contract=Option(conId=707043302, symbol='ACC', lastTradeDateOrContractMonth='20240829', strike=2400.0, right='P', multiplier='1', exchange='NSE', currency='INR', localSymbol='ACC24AUG2400PE', tradingClass='ACC'), order=LimitOrder(orderId=92660, clientId=10, action='SELL', totalQuantity=300, lmtPrice=251.45), orderStatus=OrderStatus(orderId=92660, status='PendingSubmit', filled=0.0, remaining=0.0, avgFillPrice=0.0, permId=0, parentId=0, lastFillPrice=0.0, clientId=0, whyHeld='', mktCapPrice=0.0), fills=[], log=[TradeLogEntry(time=datetime.datetime(2024, 8, 1, 17, 48, 37, 996455, tzinfo=datetime.timezone.utc), status='PendingSubmit', message='', errorCode=0)], advancedError=''),\n",
       " Trade(contract=Option(conId=707134262, symbol='TCS', lastTradeDateOrContractMonth='20240829', strike=4300.0, right='P', multiplier='1', exchange='NSE', currency='INR', localSymbol='TCS24AUG4300PE', tradingClass='TCS'), order=LimitOrder(orderId=92661, clientId=10, action='SELL', totalQuantity=175, lmtPrice=326.35), orderStatus=OrderStatus(orderId=92661, status='PendingSubmit', filled=0.0, remaining=0.0, avgFillPrice=0.0, permId=0, parentId=0, lastFillPrice=0.0, clientId=0, whyHeld='', mktCapPrice=0.0), fills=[], log=[TradeLogEntry(time=datetime.datetime(2024, 8, 1, 17, 48, 37, 996455, tzinfo=datetime.timezone.utc), status='PendingSubmit', message='', errorCode=0)], advancedError=''),\n",
       " Trade(contract=Option(conId=707043794, symbol='ADANIENT', lastTradeDateOrContractMonth='20240829', strike=3500.0, right='C', multiplier='1', exchange='NSE', currency='INR', localSymbol='ADANIENT24AUG3500CE', tradingClass='ADANIENT'), order=LimitOrder(orderId=92662, clientId=10, action='SELL', totalQuantity=300, lmtPrice=298.5), orderStatus=OrderStatus(orderId=92662, status='PendingSubmit', filled=0.0, remaining=0.0, avgFillPrice=0.0, permId=0, parentId=0, lastFillPrice=0.0, clientId=0, whyHeld='', mktCapPrice=0.0), fills=[], log=[TradeLogEntry(time=datetime.datetime(2024, 8, 1, 17, 48, 37, 996455, tzinfo=datetime.timezone.utc), status='PendingSubmit', message='', errorCode=0)], advancedError=''),\n",
       " Trade(contract=Option(conId=707043794, symbol='ADANIENT', lastTradeDateOrContractMonth='20240829', strike=3500.0, right='C', multiplier='1', exchange='NSE', currency='INR', localSymbol='ADANIENT24AUG3500CE', tradingClass='ADANIENT'), order=LimitOrder(orderId=92663, clientId=10, action='SELL', totalQuantity=300, lmtPrice=298.5), orderStatus=OrderStatus(orderId=92663, status='PendingSubmit', filled=0.0, remaining=0.0, avgFillPrice=0.0, permId=0, parentId=0, lastFillPrice=0.0, clientId=0, whyHeld='', mktCapPrice=0.0), fills=[], log=[TradeLogEntry(time=datetime.datetime(2024, 8, 1, 17, 48, 37, 997452, tzinfo=datetime.timezone.utc), status='PendingSubmit', message='', errorCode=0)], advancedError=''),\n",
       " Trade(contract=Option(conId=707141059, symbol='WIPRO', lastTradeDateOrContractMonth='20240829', strike=570.0, right='C', multiplier='1', exchange='NSE', currency='INR', localSymbol='WIPRO24AUG570CE', tradingClass='WIPRO'), order=LimitOrder(orderId=92664, clientId=10, action='SELL', totalQuantity=1500, lmtPrice=20.55), orderStatus=OrderStatus(orderId=92664, status='PendingSubmit', filled=0.0, remaining=0.0, avgFillPrice=0.0, permId=0, parentId=0, lastFillPrice=0.0, clientId=0, whyHeld='', mktCapPrice=0.0), fills=[], log=[TradeLogEntry(time=datetime.datetime(2024, 8, 1, 17, 48, 37, 997452, tzinfo=datetime.timezone.utc), status='PendingSubmit', message='', errorCode=0)], advancedError=''),\n",
       " Trade(contract=Option(conId=707137739, symbol='TVSMOTOR', lastTradeDateOrContractMonth='20240829', strike=2800.0, right='C', multiplier='1', exchange='NSE', currency='INR', localSymbol='TVSMOTOR24AUG2800CE', tradingClass='TVSMOTOR'), order=LimitOrder(orderId=92665, clientId=10, action='SELL', totalQuantity=350, lmtPrice=223.75), orderStatus=OrderStatus(orderId=92665, status='PendingSubmit', filled=0.0, remaining=0.0, avgFillPrice=0.0, permId=0, parentId=0, lastFillPrice=0.0, clientId=0, whyHeld='', mktCapPrice=0.0), fills=[], log=[TradeLogEntry(time=datetime.datetime(2024, 8, 1, 17, 48, 37, 997452, tzinfo=datetime.timezone.utc), status='PendingSubmit', message='', errorCode=0)], advancedError='')]"
      ]
     },
     "execution_count": 8,
     "metadata": {},
     "output_type": "execute_result"
    }
   ],
   "source": [
    "from ibfuncs import order_nakeds\n",
    "order_nakeds(df_opts=df_opts, port=port)"
   ]
  },
  {
   "cell_type": "code",
   "execution_count": null,
   "metadata": {},
   "outputs": [],
   "source": []
  }
 ],
 "metadata": {
  "kernelspec": {
   "display_name": "Python 3 (ipykernel)",
   "language": "python",
   "name": "python3"
  },
  "language_info": {
   "codemirror_mode": {
    "name": "ipython",
    "version": 3
   },
   "file_extension": ".py",
   "mimetype": "text/x-python",
   "name": "python",
   "nbconvert_exporter": "python",
   "pygments_lexer": "ipython3",
   "version": "3.11.5"
  }
 },
 "nbformat": 4,
 "nbformat_minor": 4
}
