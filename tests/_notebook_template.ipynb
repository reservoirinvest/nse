{
 "cells": [
  {
   "cell_type": "code",
   "execution_count": 1,
   "metadata": {
    "execution": {
     "iopub.execute_input": "2024-07-21T17:45:44.386143Z",
     "iopub.status.busy": "2024-07-21T17:45:44.386143Z",
     "iopub.status.idle": "2024-07-21T17:45:45.290654Z",
     "shell.execute_reply": "2024-07-21T17:45:45.289600Z",
     "shell.execute_reply.started": "2024-07-21T17:45:44.386143Z"
    }
   },
   "outputs": [
    {
     "data": {
      "text/plain": [
       "1"
      ]
     },
     "execution_count": 1,
     "metadata": {},
     "output_type": "execute_result"
    }
   ],
   "source": [
    "## THIS CELL SHOULD BE IN ALL VSCODE NOTEBOOKS ##\n",
    "\n",
    "MARKET = \"NSE\"\n",
    "\n",
    "# Set the root\n",
    "from from_root import from_root\n",
    "ROOT = from_root()\n",
    "\n",
    "import pandas as pd\n",
    "from loguru import logger\n",
    "\n",
    "pd.options.display.max_columns = None\n",
    "\n",
    "from pathlib import Path\n",
    "import sys\n",
    "\n",
    "# Add `src` and ROOT to _src.pth in .venv to allow imports in VS Code\n",
    "from sysconfig import get_path\n",
    "\n",
    "if \"src\" not in Path.cwd().parts:\n",
    "    src_path = str(Path(get_path(\"purelib\")) / \"_src.pth\")\n",
    "    with open(src_path, \"w\") as f:\n",
    "        f.write(str(ROOT / \"src\\n\"))\n",
    "        f.write(str(ROOT))\n",
    "        if str(ROOT) not in sys.path:\n",
    "            sys.path.insert(1, str(ROOT))\n",
    "\n",
    "# Start the Jupyter loop\n",
    "from ib_async import util\n",
    "\n",
    "util.startLoop()\n",
    "\n",
    "logger.add(sink=ROOT / \"log\" / \"ztest.log\", mode=\"w\")"
   ]
  },
  {
   "cell_type": "code",
   "execution_count": 13,
   "metadata": {
    "execution": {
     "iopub.execute_input": "2024-07-21T17:49:17.257087Z",
     "iopub.status.busy": "2024-07-21T17:49:17.256070Z",
     "iopub.status.idle": "2024-07-21T17:49:17.283751Z",
     "shell.execute_reply": "2024-07-21T17:49:17.282734Z",
     "shell.execute_reply.started": "2024-07-21T17:49:17.257087Z"
    }
   },
   "outputs": [],
   "source": [
    "syms1 = pd.read_pickle(ROOT / 'data' / 'earliest_nakeds1.pkl').ib_symbol.unique()"
   ]
  },
  {
   "cell_type": "code",
   "execution_count": 14,
   "metadata": {
    "execution": {
     "iopub.execute_input": "2024-07-21T17:49:17.475131Z",
     "iopub.status.busy": "2024-07-21T17:49:17.475131Z",
     "iopub.status.idle": "2024-07-21T17:49:17.493941Z",
     "shell.execute_reply": "2024-07-21T17:49:17.492930Z",
     "shell.execute_reply.started": "2024-07-21T17:49:17.475131Z"
    }
   },
   "outputs": [],
   "source": [
    "syms2 = pd.read_pickle(ROOT / 'data' / 'earliest_nakeds.pkl').ib_symbol.unique()"
   ]
  },
  {
   "cell_type": "code",
   "execution_count": 15,
   "metadata": {
    "execution": {
     "iopub.execute_input": "2024-07-21T17:49:17.627437Z",
     "iopub.status.busy": "2024-07-21T17:49:17.626356Z",
     "iopub.status.idle": "2024-07-21T17:49:17.639950Z",
     "shell.execute_reply": "2024-07-21T17:49:17.637915Z",
     "shell.execute_reply.started": "2024-07-21T17:49:17.626356Z"
    }
   },
   "outputs": [
    {
     "data": {
      "text/plain": [
       "(76, 98, 174)"
      ]
     },
     "execution_count": 15,
     "metadata": {},
     "output_type": "execute_result"
    }
   ],
   "source": [
    "len(syms1), len(syms2), len(syms1)+len(syms2)"
   ]
  },
  {
   "cell_type": "code",
   "execution_count": null,
   "metadata": {},
   "outputs": [],
   "source": []
  }
 ],
 "metadata": {
  "kernelspec": {
   "display_name": "Python 3 (ipykernel)",
   "language": "python",
   "name": "python3"
  },
  "language_info": {
   "codemirror_mode": {
    "name": "ipython",
    "version": 3
   },
   "file_extension": ".py",
   "mimetype": "text/x-python",
   "name": "python",
   "nbconvert_exporter": "python",
   "pygments_lexer": "ipython3",
   "version": "3.11.5"
  }
 },
 "nbformat": 4,
 "nbformat_minor": 4
}
