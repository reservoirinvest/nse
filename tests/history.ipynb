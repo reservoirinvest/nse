{
 "cells": [
  {
   "cell_type": "code",
   "execution_count": null,
   "metadata": {
    "jupyter": {
     "source_hidden": true
    }
   },
   "outputs": [],
   "source": [
    "## THIS CELL SHOULD BE IN ALL VSCODE NOTEBOOKS ##\n",
    "\n",
    "MARKET = 'NSE'\n",
    "\n",
    "from loguru import logger\n",
    "\n",
    "import pandas as pd\n",
    "pd.options.display.max_columns=None\n",
    "\n",
    "# Add `src` to _src.pth in .venv to allow imports in VS Code\n",
    "from sysconfig import get_path\n",
    "from pathlib import Path\n",
    "if 'src' not in Path.cwd().parts:\n",
    "    src_path = str(Path(get_path('purelib')) / '_src.pth')\n",
    "    with open(src_path, 'w') as f:\n",
    "        f.write(str(Path.cwd() / 'src\\n'))\n",
    "\n",
    "# Start the Jupyter loop\n",
    "from ib_async import util\n",
    "util.startLoop()\n",
    "\n",
    "# Set the root\n",
    "from from_root import from_root\n",
    "ROOT = from_root()"
   ]
  },
  {
   "cell_type": "markdown",
   "metadata": {},
   "source": [
    "# Generate history for NSE"
   ]
  },
  {
   "cell_type": "code",
   "execution_count": null,
   "metadata": {},
   "outputs": [],
   "source": [
    "from nse import make_session\n",
    "from requests import Session\n"
   ]
  },
  {
   "cell_type": "code",
   "execution_count": null,
   "metadata": {},
   "outputs": [],
   "source": [
    "payload = {\"cinfo\":\"{'name':'NIFTY 50','startDate':'30-Jan-2024','endDate':'18-Jun-2024','indexName':'NIFTY 50'}\"}\n",
    "data = str({'name': 'NIFTY 50','startDate':'30-Jan-2024','endDate':'18-Jun-2024'})\n",
    "url = 'https://niftyindices.com/Backpage.aspx/getHistoricaldatatabletoString'\n",
    "# headers = {'Host': 'niftyindices.com',\n",
    "# 'Origin': 'https://niftyindices.com',\n",
    "# 'Referer': 'https://niftyindices.com/reports/historical-data',\n",
    "# 'Accept': 'application/json, text/javascript, */*; q=0.01',\n",
    "# 'Accept-Encoding': 'gzip, deflate, br, ',\n",
    "# 'Accept-Language': 'en-US,en;q=0.9',\n",
    "# 'Connection': 'keep-alive', \n",
    "# 'Content-Encoding': 'gzip',\n",
    "# 'Content-Type': 'application/json; charset=UTF-8',\n",
    "# 'User-Agent': 'Mozilla/5.0 (Windows NT 10.0; Win64; x64) AppleWebKit/537.36 (KHTML, like Gecko) Chrome/117.0.0.0 Safari/537.36',\n",
    "# 'X-Requested-With':'XMLHttpRequest'\n",
    "# }\n",
    "\n",
    "headers = {\n",
    "    'Connection': 'keep-alive',\n",
    "    'sec-ch-ua': '\" Not;A Brand\";v=\"99\", \"Google Chrome\";v=\"91\", \"Chromium\";v=\"91\"',\n",
    "    'Accept': 'application/json, text/javascript, */*; q=0.01',\n",
    "    'DNT': '1',\n",
    "    'X-Requested-With': 'XMLHttpRequest',\n",
    "    'sec-ch-ua-mobile': '?0',\n",
    "    'User-Agent': 'Mozilla/5.0 (Windows NT 10.0; Win64; x64) AppleWebKit/537.36 (KHTML, like Gecko) Chrome/91.0.4472.77 Safari/537.36',\n",
    "    'Content-Type': 'application/json; charset=UTF-8',\n",
    "    'Origin': 'https://niftyindices.com',\n",
    "    'Sec-Fetch-Site': 'same-origin',\n",
    "    'Sec-Fetch-Mode': 'cors',\n",
    "    'Sec-Fetch-Dest': 'empty',\n",
    "    'Referer': 'https://niftyindices.com/reports/historical-data',\n",
    "    'Accept-Language': 'en-US,en;q=0.9,hi;q=0.8',\n",
    "}"
   ]
  },
  {
   "cell_type": "code",
   "execution_count": null,
   "metadata": {},
   "outputs": [],
   "source": [
    "s = Session()\n",
    "s.get(headers)\n",
    "r = s.post(url=url, data=data)"
   ]
  },
  {
   "cell_type": "code",
   "execution_count": null,
   "metadata": {},
   "outputs": [],
   "source": [
    "r.text"
   ]
  },
  {
   "cell_type": "code",
   "execution_count": null,
   "metadata": {},
   "outputs": [],
   "source": [
    "r.json()"
   ]
  },
  {
   "cell_type": "code",
   "execution_count": null,
   "metadata": {},
   "outputs": [],
   "source": [
    "s = make_session()\n",
    "s.headers.update(upd_hdr)"
   ]
  },
  {
   "cell_type": "code",
   "execution_count": null,
   "metadata": {},
   "outputs": [],
   "source": [
    "@make_session\n",
    "def niftyindices"
   ]
  },
  {
   "cell_type": "code",
   "execution_count": null,
   "metadata": {},
   "outputs": [],
   "source": [
    "# Raw history IO\n",
    "raw_eq_hist_url = 'https://www.nseindia.com/api/historical/cm/equity?symbol=SBIN&series=[%22EQ%22]&from=02-03-2023&to=21-04-2023'\n",
    "raw_opt_eq_hist_url = 'https://www.nseindia.com/api/historical/fo/derivatives?&from=02-03-2023&to=21-04-2023&optionType=PE&strikePrice=500.00&expiryDate=27-Apr-2023&instrumentType=OPTSTK&symbol=SBIN'\n",
    "raw_opt_index_hist_url = \"https://www.nseindia.com/api/historical/fo/derivatives?symbol=NIFTY\"\n",
    "\n",
    "# Raw Index history IO\n",
    "raw_ix_hist_url = 'https://niftyindices.com/Backpage.aspx/getHistoricaldatatabletoString'\n",
    "ix_data = str({'name':'NIFTY BANK','startDate':'02-Mar-2023','endDate':'21-Apr-2023'})\n",
    "ix_data = str({\"cinfo\":\"{'name':'NIFTY 50','startDate':'30-Jan-2024','endDate':'18-Jun-2024','indexName':'NIFTY 50'}\"})"
   ]
  },
  {
   "cell_type": "code",
   "execution_count": null,
   "metadata": {},
   "outputs": [],
   "source": [
    "url = raw_ix_hist_url\n",
    "\n",
    "data = ix_data\n",
    "\n",
    "# s = make_session()\n",
    "r = s.get(url=url, data = data)"
   ]
  },
  {
   "cell_type": "code",
   "execution_count": null,
   "metadata": {},
   "outputs": [],
   "source": [
    "r.json()"
   ]
  },
  {
   "cell_type": "code",
   "execution_count": null,
   "metadata": {},
   "outputs": [],
   "source": [
    "from urllib.parse import urlparse, urljoin\n",
    "urljoin(urlparse(url), \"\")"
   ]
  },
  {
   "cell_type": "code",
   "execution_count": null,
   "metadata": {},
   "outputs": [],
   "source": [
    "raw_eq_hist_url"
   ]
  },
  {
   "cell_type": "code",
   "execution_count": null,
   "metadata": {},
   "outputs": [],
   "source": [
    "from nse import base_url, _routes, make_session\n",
    "from datetime import date, timedelta, datetime"
   ]
  },
  {
   "cell_type": "code",
   "execution_count": null,
   "metadata": {},
   "outputs": [],
   "source": [
    "# inputs\n",
    "symbol = 'SBIN'\n",
    "\n",
    "to_date = datetime.now().date()\n",
    "period = 30 # days\n",
    "from_date = to_date - timedelta(period)\n",
    "series='EQ'\n",
    "\n"
   ]
  },
  {
   "cell_type": "code",
   "execution_count": null,
   "metadata": {},
   "outputs": [],
   "source": [
    "# build the params\n",
    "params = {'symbol': symbol,\n",
    " 'from': from_date.strftime('%d-%m-%Y'),\n",
    " 'to': to_date.strftime('%d-%m-%Y'),\n",
    " 'series': f'[\"{series}\"]'}"
   ]
  },
  {
   "cell_type": "code",
   "execution_count": null,
   "metadata": {},
   "outputs": [],
   "source": [
    "# make the session\n",
    "s = make_session()\n"
   ]
  },
  {
   "cell_type": "code",
   "execution_count": null,
   "metadata": {},
   "outputs": [],
   "source": [
    "# build the stock history url\n",
    "route = 'stock_history'\n",
    "url = base_url + _routes.get(route)"
   ]
  },
  {
   "cell_type": "code",
   "execution_count": null,
   "metadata": {},
   "outputs": [],
   "source": [
    "url"
   ]
  },
  {
   "cell_type": "code",
   "execution_count": null,
   "metadata": {},
   "outputs": [],
   "source": [
    "s.ssl_verify = True"
   ]
  },
  {
   "cell_type": "code",
   "execution_count": null,
   "metadata": {},
   "outputs": [],
   "source": [
    "from nse import make_session\n",
    "\n",
    "import pandas as pd\n",
    "\n",
    "def nsefetch(url:str):\n",
    "    s = make_session()\n",
    "    r = s.get(url=url)\n",
    "        \n",
    "    return r\n",
    "    "
   ]
  },
  {
   "cell_type": "code",
   "execution_count": null,
   "metadata": {},
   "outputs": [],
   "source": [
    "def equity_history(symbol,series,start_date,end_date):\n",
    "    payload = \"https://www.nseindia.com/api/historical/cm/equity?symbol=\"+symbol+\"&series=[%22\"+series+\"%22]&from=\"+start_date+\"&to=\"+end_date+\"\"\n",
    "    print(payload)\n",
    "    \n",
    "    r = nsefetch(payload)\n",
    "    \n",
    "    # return pd.DataFrame.from_records(payload[\"data\"])\n",
    "    return r.json()"
   ]
  },
  {
   "cell_type": "code",
   "execution_count": null,
   "metadata": {},
   "outputs": [],
   "source": [
    "symbol = \"SBIN\"\n",
    "series = \"EQ\"\n",
    "start_date = \"08-06-2021\"\n",
    "end_date =\"14-06-2021\"\n",
    "print(equity_history(symbol,series,start_date,end_date))"
   ]
  },
  {
   "cell_type": "code",
   "execution_count": null,
   "metadata": {},
   "outputs": [],
   "source": []
  },
  {
   "cell_type": "code",
   "execution_count": null,
   "metadata": {},
   "outputs": [],
   "source": [
    "params = [('SBIN', datetime.date(2020, 1, 1), datetime.date(2020, 1, 30), 'EQ')]"
   ]
  },
  {
   "cell_type": "code",
   "execution_count": null,
   "metadata": {},
   "outputs": [],
   "source": [
    "r = s.get(url=url, params=params)"
   ]
  },
  {
   "cell_type": "code",
   "execution_count": null,
   "metadata": {},
   "outputs": [],
   "source": [
    "r.text"
   ]
  },
  {
   "cell_type": "code",
   "execution_count": null,
   "metadata": {},
   "outputs": [],
   "source": [
    "\"nseappid\" not in s.cookies"
   ]
  },
  {
   "cell_type": "code",
   "execution_count": null,
   "metadata": {},
   "outputs": [],
   "source": [
    "base_url = \"https://www.nseindia.com/api\"\n",
    "url = \"/api/historical/cm/equity\"\n",
    "\n",
    "h = {\n",
    "    \"Host\": \"www.nseindia.com\",\n",
    "    \"Referer\": \"https://www.nseindia.com/get-quotes/equity?symbol=SBIN\",\n",
    "    \"X-Requested-With\": \"XMLHttpRequest\",\n",
    "    \"pragma\": \"no-cache\",\n",
    "    \"sec-fetch-dest\": \"empty\",\n",
    "    \"sec-fetch-mode\": \"cors\",\n",
    "    \"sec-fetch-site\": \"same-origin\",\n",
    "    \"User-Agent\": \"Mozilla/5.0 (Windows NT 10.0; Win64; x64) AppleWebKit/537.36 (KHTML, like Gecko) Chrome/80.0.3987.132 Safari/537.36\",\n",
    "    \"Accept\": \"*/*\",\n",
    "    \"Accept-Encoding\": \"gzip, deflate, br\",\n",
    "    \"Accept-Language\": \"en-GB,en-US;q=0.9,en;q=0.8\",\n",
    "    \"Cache-Control\": \"no-cache\",\n",
    "    \"Connection\": \"keep-alive\",\n",
    "    }"
   ]
  },
  {
   "cell_type": "code",
   "execution_count": null,
   "metadata": {},
   "outputs": [],
   "source": []
  },
  {
   "cell_type": "code",
   "execution_count": null,
   "metadata": {},
   "outputs": [],
   "source": []
  },
  {
   "cell_type": "code",
   "execution_count": null,
   "metadata": {},
   "outputs": [],
   "source": [
    "from jugaad_data.nse import stock_df\n",
    "from datetime import date\n",
    "df = stock_df(symbol=\"SBIN\", from_date=date(2020,1,1),\n",
    "            to_date=date(2020,1,30), series=\"EQ\")\n"
   ]
  },
  {
   "cell_type": "code",
   "execution_count": null,
   "metadata": {},
   "outputs": [],
   "source": [
    "df.head()"
   ]
  },
  {
   "cell_type": "code",
   "execution_count": null,
   "metadata": {},
   "outputs": [],
   "source": [
    "import requests\n",
    "from bs4 import BeautifulSoup\n",
    "\n",
    "# URL for Nifty 50 historical data on NSE India website\n",
    "url = 'https://www1.nseindia.com/products/content/equities/indices/historical_index_data.htm'\n",
    "\n",
    "# Send a GET request to the URL\n",
    "response = requests.get(url)\n",
    "\n",
    "# Parse the HTML content using BeautifulSoup\n",
    "soup = BeautifulSoup(response.content, 'html.parser')\n",
    "\n",
    "# Find the table containing historical data\n",
    "table = soup.find('table', {'id': 'octable'})\n",
    "\n",
    "# Extract historical data from the table\n",
    "for row in table.find_all('tr')[1:]:\n",
    "    data = [cell.get_text(strip=True) for cell in row.find_all('td')]\n",
    "    date = data[0]\n",
    "    open_price = data[1]\n",
    "    high_price = data[2]\n",
    "    low_price = data[3]\n",
    "    close_price = data[4]\n",
    "    print(f\"Date: {date}, Open: {open_price}, High: {high_price}, Low: {low_price}, Close: {close_price}\")\n"
   ]
  },
  {
   "cell_type": "code",
   "execution_count": null,
   "metadata": {},
   "outputs": [],
   "source": [
    "import requests\n",
    "\n",
    "url = 'https://www.nseindia.com/api/historical/cm/equity?symbol=SBIN&from=02-03-2023&to=21-04-2023'\n",
    "\n",
    "response = requests.get(url)\n",
    "\n",
    "if response.status_code == 200:\n",
    "    data = response.json()\n",
    "    supported_parameters = data.keys()\n",
    "    print(\"Supported parameters:\", supported_parameters)\n",
    "else:\n",
    "    print(\"Failed to retrieve data. Status code:\", response.status_code)"
   ]
  },
  {
   "cell_type": "code",
   "execution_count": null,
   "metadata": {},
   "outputs": [],
   "source": []
  }
 ],
 "metadata": {
  "kernelspec": {
   "display_name": "Python 3 (ipykernel)",
   "language": "python",
   "name": "python3"
  },
  "language_info": {
   "codemirror_mode": {
    "name": "ipython",
    "version": 3
   },
   "file_extension": ".py",
   "mimetype": "text/x-python",
   "name": "python",
   "nbconvert_exporter": "python",
   "pygments_lexer": "ipython3",
   "version": "3.11.5"
  }
 },
 "nbformat": 4,
 "nbformat_minor": 4
}
