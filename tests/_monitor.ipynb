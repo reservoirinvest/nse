{
 "cells": [
  {
   "cell_type": "markdown",
   "metadata": {},
   "source": [
    "# Monitoring margin cushion event breach and cancels all orders"
   ]
  },
  {
   "cell_type": "code",
   "execution_count": 1,
   "metadata": {},
   "outputs": [
    {
     "data": {
      "text/plain": [
       "1"
      ]
     },
     "execution_count": 1,
     "metadata": {},
     "output_type": "execute_result"
    }
   ],
   "source": [
    "## THIS CELL SHOULD BE IN ALL VSCODE NOTEBOOKS ##\n",
    "\n",
    "MARKET = \"NSE\"\n",
    "\n",
    "# Set the root\n",
    "from from_root import from_root\n",
    "ROOT = from_root()\n",
    "\n",
    "import pandas as pd\n",
    "from loguru import logger\n",
    "\n",
    "pd.options.display.max_columns = None\n",
    "pd.set_option('display.precision', 2)\n",
    "\n",
    "from pathlib import Path\n",
    "import sys\n",
    "\n",
    "# Add `src` and ROOT to _src.pth in .venv to allow imports in VS Code\n",
    "from sysconfig import get_path\n",
    "\n",
    "if \"src\" not in Path.cwd().parts:\n",
    "    src_path = str(Path(get_path(\"purelib\")) / \"_src.pth\")\n",
    "    with open(src_path, \"w\") as f:\n",
    "        f.write(str(ROOT / \"src\\n\"))\n",
    "        f.write(str(ROOT))\n",
    "        if str(ROOT) not in sys.path:\n",
    "            sys.path.insert(1, str(ROOT))\n",
    "\n",
    "# Start the Jupyter loop\n",
    "from ib_async import util\n",
    "\n",
    "util.startLoop()\n",
    "\n",
    "logger.add(sink=ROOT / \"log\" / \"ztest.log\", mode=\"w\")"
   ]
  },
  {
   "cell_type": "code",
   "execution_count": 2,
   "metadata": {},
   "outputs": [
    {
     "name": "stdout",
     "output_type": "stream",
     "text": [
      "Current Margin Cushion: 0.759853\n"
     ]
    }
   ],
   "source": [
    "import asyncio\n",
    "from ib_async import IB, util\n",
    "\n",
    "# Configuration\n",
    "MARGIN_CUSHION_THRESHOLD = 0.1  # Set your threshold here (10% for example)\n",
    "CHECK_INTERVAL = 60  # Check every 60 seconds\n",
    "\n",
    "async def monitor_margin_cushion(ib):\n",
    "    while True:\n",
    "        # Fetch account details\n",
    "        account_summary = ib.accountSummary()\n",
    "        margin_cushion = None\n",
    "        \n",
    "        # Extract Margin Cushion from account summary\n",
    "        for item in account_summary:\n",
    "            if item.tag == \"Cushion\":\n",
    "                margin_cushion = float(item.value)\n",
    "                break\n",
    "        \n",
    "        print(f\"Current Margin Cushion: {margin_cushion}\")\n",
    "\n",
    "        # Check if Margin Cushion is below the threshold\n",
    "        if margin_cushion is not None and margin_cushion < MARGIN_CUSHION_THRESHOLD:\n",
    "            print(\"Margin Cushion breach detected! Cancelling all orders...\")\n",
    "            await cancel_all_orders(ib)\n",
    "\n",
    "        await asyncio.sleep(CHECK_INTERVAL)\n",
    "\n",
    "async def cancel_all_orders(ib):\n",
    "    # Cancel all open orders\n",
    "    open_orders = ib.openOrders()\n",
    "    for order in open_orders:\n",
    "        print(f\"Cancelling order: {order}\")\n",
    "        ib.cancelOrder(order)\n",
    "\n",
    "async def main():\n",
    "    # Connect to IBKR\n",
    "    ib = IB()\n",
    "    ib.connect('127.0.0.1', 1300, clientId=10)  # Adjust host and port as needed\n",
    "\n",
    "    try:\n",
    "        await monitor_margin_cushion(ib)\n",
    "    finally:\n",
    "        ib.disconnect()\n",
    "\n",
    "if __name__ == \"__main__\":\n",
    "    asyncio.run(main())\n"
   ]
  },
  {
   "cell_type": "code",
   "execution_count": null,
   "metadata": {},
   "outputs": [],
   "source": []
  }
 ],
 "metadata": {
  "kernelspec": {
   "display_name": ".venv",
   "language": "python",
   "name": "python3"
  },
  "language_info": {
   "codemirror_mode": {
    "name": "ipython",
    "version": 3
   },
   "file_extension": ".py",
   "mimetype": "text/x-python",
   "name": "python",
   "nbconvert_exporter": "python",
   "pygments_lexer": "ipython3",
   "version": "3.11.5"
  }
 },
 "nbformat": 4,
 "nbformat_minor": 2
}
