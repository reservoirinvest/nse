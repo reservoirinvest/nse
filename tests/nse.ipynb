{
 "cells": [
  {
   "cell_type": "code",
   "execution_count": 1,
   "metadata": {},
   "outputs": [
    {
     "data": {
      "text/plain": [
       "1"
      ]
     },
     "execution_count": 1,
     "metadata": {},
     "output_type": "execute_result"
    }
   ],
   "source": [
    "## THIS CELL SHOULD BE IN ALL VSCODE NOTEBOOKS ##\n",
    "\n",
    "MARKET = 'NSE'\n",
    "\n",
    "from loguru import logger\n",
    "\n",
    "import pandas as pd\n",
    "pd.options.display.max_columns=None\n",
    "\n",
    "# Add `src` to _src.pth in .venv to allow imports in VS Code\n",
    "from sysconfig import get_path\n",
    "from pathlib import Path\n",
    "if 'src' not in Path.cwd().parts:\n",
    "    src_path = str(Path(get_path('purelib')) / '_src.pth')\n",
    "    with open(src_path, 'w') as f:\n",
    "        f.write(str(Path.cwd() / 'src\\n'))\n",
    "\n",
    "# Start the Jupyter loop\n",
    "from ib_async import util\n",
    "util.startLoop()\n",
    "\n",
    "# Set the root\n",
    "from from_root import from_root\n",
    "ROOT = from_root()\n",
    "\n",
    "logger.add(sink=ROOT/ 'log' / 'nse_nb.log', mode='w')"
   ]
  },
  {
   "cell_type": "code",
   "execution_count": 26,
   "metadata": {},
   "outputs": [
    {
     "ename": "TypeError",
     "evalue": "Too few arguments for typing.Dict; actual 1, expected 2",
     "output_type": "error",
     "traceback": [
      "\u001b[1;31m---------------------------------------------------------------------------\u001b[0m",
      "\u001b[1;31mTypeError\u001b[0m                                 Traceback (most recent call last)",
      "Cell \u001b[1;32mIn[26], line 5\u001b[0m\n\u001b[0;32m      2\u001b[0m \u001b[38;5;28;01mfrom\u001b[39;00m \u001b[38;5;21;01mdataclasses\u001b[39;00m \u001b[38;5;28;01mimport\u001b[39;00m dataclass, field\n\u001b[0;32m      3\u001b[0m \u001b[38;5;28;01mfrom\u001b[39;00m \u001b[38;5;21;01mtyping\u001b[39;00m \u001b[38;5;28;01mimport\u001b[39;00m Dict\n\u001b[0;32m      4\u001b[0m \u001b[38;5;129;43m@dataclass\u001b[39;49m\n\u001b[1;32m----> 5\u001b[0m \u001b[38;5;28;43;01mclass\u001b[39;49;00m\u001b[43m \u001b[49m\u001b[38;5;21;43;01mNSEConn\u001b[39;49;00m\u001b[43m(\u001b[49m\u001b[43m)\u001b[49m\u001b[43m:\u001b[49m\n\u001b[0;32m      6\u001b[0m \u001b[38;5;250;43m    \u001b[39;49m\u001b[38;5;124;43;03m\"\"\"Class for nse web connections\"\"\"\u001b[39;49;00m\n\u001b[0;32m      8\u001b[0m \u001b[43m    \u001b[49m\u001b[43m_routes\u001b[49m\u001b[43m \u001b[49m\u001b[38;5;241;43m=\u001b[39;49m\u001b[43m \u001b[49m\u001b[43m{\u001b[49m\n\u001b[0;32m      9\u001b[0m \u001b[43m        \u001b[49m\u001b[38;5;124;43m\"\u001b[39;49m\u001b[38;5;124;43mstock_meta\u001b[39;49m\u001b[38;5;124;43m\"\u001b[39;49m\u001b[43m:\u001b[49m\u001b[43m \u001b[49m\u001b[38;5;124;43m\"\u001b[39;49m\u001b[38;5;124;43m/equity-meta-info\u001b[39;49m\u001b[38;5;124;43m\"\u001b[39;49m\u001b[43m,\u001b[49m\n\u001b[0;32m     10\u001b[0m \u001b[43m        \u001b[49m\u001b[38;5;124;43m\"\u001b[39;49m\u001b[38;5;124;43mstock_quote\u001b[39;49m\u001b[38;5;124;43m\"\u001b[39;49m\u001b[43m:\u001b[49m\u001b[43m \u001b[49m\u001b[38;5;124;43m\"\u001b[39;49m\u001b[38;5;124;43m/quote-equity\u001b[39;49m\u001b[38;5;124;43m\"\u001b[39;49m\u001b[43m,\u001b[49m\n\u001b[1;32m   (...)\u001b[0m\n\u001b[0;32m     22\u001b[0m \u001b[43m        \u001b[49m\u001b[38;5;124;43m\"\u001b[39;49m\u001b[38;5;124;43mholiday_list\u001b[39;49m\u001b[38;5;124;43m\"\u001b[39;49m\u001b[43m:\u001b[49m\u001b[43m \u001b[49m\u001b[38;5;124;43m\"\u001b[39;49m\u001b[38;5;124;43m/holiday-master?type=trading\u001b[39;49m\u001b[38;5;124;43m\"\u001b[39;49m\n\u001b[0;32m     23\u001b[0m \u001b[43m    \u001b[49m\u001b[43m}\u001b[49m\n",
      "Cell \u001b[1;32mIn[26], line 41\u001b[0m, in \u001b[0;36mNSEConn\u001b[1;34m()\u001b[0m\n\u001b[0;32m      8\u001b[0m _routes \u001b[38;5;241m=\u001b[39m {\n\u001b[0;32m      9\u001b[0m     \u001b[38;5;124m\"\u001b[39m\u001b[38;5;124mstock_meta\u001b[39m\u001b[38;5;124m\"\u001b[39m: \u001b[38;5;124m\"\u001b[39m\u001b[38;5;124m/equity-meta-info\u001b[39m\u001b[38;5;124m\"\u001b[39m,\n\u001b[0;32m     10\u001b[0m     \u001b[38;5;124m\"\u001b[39m\u001b[38;5;124mstock_quote\u001b[39m\u001b[38;5;124m\"\u001b[39m: \u001b[38;5;124m\"\u001b[39m\u001b[38;5;124m/quote-equity\u001b[39m\u001b[38;5;124m\"\u001b[39m,\n\u001b[1;32m   (...)\u001b[0m\n\u001b[0;32m     22\u001b[0m     \u001b[38;5;124m\"\u001b[39m\u001b[38;5;124mholiday_list\u001b[39m\u001b[38;5;124m\"\u001b[39m: \u001b[38;5;124m\"\u001b[39m\u001b[38;5;124m/holiday-master?type=trading\u001b[39m\u001b[38;5;124m\"\u001b[39m\n\u001b[0;32m     23\u001b[0m }\n\u001b[0;32m     25\u001b[0m _nse_hdr \u001b[38;5;241m=\u001b[39m {\n\u001b[0;32m     26\u001b[0m     \u001b[38;5;124m\"\u001b[39m\u001b[38;5;124mHost\u001b[39m\u001b[38;5;124m\"\u001b[39m: \u001b[38;5;124m\"\u001b[39m\u001b[38;5;124mwww.nseindia.com\u001b[39m\u001b[38;5;124m\"\u001b[39m,\n\u001b[0;32m     27\u001b[0m     \u001b[38;5;124m\"\u001b[39m\u001b[38;5;124mReferer\u001b[39m\u001b[38;5;124m\"\u001b[39m: \u001b[38;5;124m\"\u001b[39m\u001b[38;5;124mhttps://www.nseindia.com/get-quotes/equity?symbol=SBIN\u001b[39m\u001b[38;5;124m\"\u001b[39m,\n\u001b[1;32m   (...)\u001b[0m\n\u001b[0;32m     38\u001b[0m     \u001b[38;5;124m\"\u001b[39m\u001b[38;5;124mConnection\u001b[39m\u001b[38;5;124m\"\u001b[39m: \u001b[38;5;124m\"\u001b[39m\u001b[38;5;124mkeep-alive\u001b[39m\u001b[38;5;124m\"\u001b[39m,\n\u001b[0;32m     39\u001b[0m }\n\u001b[1;32m---> 41\u001b[0m nse_routes: \u001b[43mDict\u001b[49m\u001b[43m[\u001b[49m\u001b[38;5;28;43mstr\u001b[39;49m\u001b[43m:\u001b[49m\u001b[43m \u001b[49m\u001b[38;5;28;43mstr\u001b[39;49m\u001b[43m]\u001b[49m\u001b[38;5;241m=\u001b[39mfield(default_factory\u001b[38;5;241m=\u001b[39m\u001b[38;5;28;01mlambda\u001b[39;00m: _routes)\n",
      "File \u001b[1;32m~\\AppData\\Local\\Programs\\Python\\Python311\\Lib\\typing.py:358\u001b[0m, in \u001b[0;36m_tp_cache.<locals>.decorator.<locals>.inner\u001b[1;34m(*args, **kwds)\u001b[0m\n\u001b[0;32m    356\u001b[0m \u001b[38;5;28;01mexcept\u001b[39;00m \u001b[38;5;167;01mTypeError\u001b[39;00m:\n\u001b[0;32m    357\u001b[0m     \u001b[38;5;28;01mpass\u001b[39;00m  \u001b[38;5;66;03m# All real errors (not unhashable args) are raised below.\u001b[39;00m\n\u001b[1;32m--> 358\u001b[0m \u001b[38;5;28;01mreturn\u001b[39;00m \u001b[43mfunc\u001b[49m\u001b[43m(\u001b[49m\u001b[38;5;241;43m*\u001b[39;49m\u001b[43margs\u001b[49m\u001b[43m,\u001b[49m\u001b[43m \u001b[49m\u001b[38;5;241;43m*\u001b[39;49m\u001b[38;5;241;43m*\u001b[39;49m\u001b[43mkwds\u001b[49m\u001b[43m)\u001b[49m\n",
      "File \u001b[1;32m~\\AppData\\Local\\Programs\\Python\\Python311\\Lib\\typing.py:1569\u001b[0m, in \u001b[0;36m_SpecialGenericAlias.__getitem__\u001b[1;34m(self, params)\u001b[0m\n\u001b[0;32m   1567\u001b[0m msg \u001b[38;5;241m=\u001b[39m \u001b[38;5;124m\"\u001b[39m\u001b[38;5;124mParameters to generic types must be types.\u001b[39m\u001b[38;5;124m\"\u001b[39m\n\u001b[0;32m   1568\u001b[0m params \u001b[38;5;241m=\u001b[39m \u001b[38;5;28mtuple\u001b[39m(_type_check(p, msg) \u001b[38;5;28;01mfor\u001b[39;00m p \u001b[38;5;129;01min\u001b[39;00m params)\n\u001b[1;32m-> 1569\u001b[0m \u001b[43m_check_generic\u001b[49m\u001b[43m(\u001b[49m\u001b[38;5;28;43mself\u001b[39;49m\u001b[43m,\u001b[49m\u001b[43m \u001b[49m\u001b[43mparams\u001b[49m\u001b[43m,\u001b[49m\u001b[43m \u001b[49m\u001b[38;5;28;43mself\u001b[39;49m\u001b[38;5;241;43m.\u001b[39;49m\u001b[43m_nparams\u001b[49m\u001b[43m)\u001b[49m\n\u001b[0;32m   1570\u001b[0m \u001b[38;5;28;01mreturn\u001b[39;00m \u001b[38;5;28mself\u001b[39m\u001b[38;5;241m.\u001b[39mcopy_with(params)\n",
      "File \u001b[1;32mc:\\Users\\kashi\\python\\nse\\.venv\\Lib\\site-packages\\typing_extensions.py:2941\u001b[0m, in \u001b[0;36m_check_generic\u001b[1;34m(cls, parameters, elen)\u001b[0m\n\u001b[0;32m   2937\u001b[0m         elen \u001b[38;5;241m-\u001b[39m\u001b[38;5;241m=\u001b[39m num_default_tv\n\u001b[0;32m   2939\u001b[0m         expect_val \u001b[38;5;241m=\u001b[39m \u001b[38;5;124mf\u001b[39m\u001b[38;5;124m\"\u001b[39m\u001b[38;5;124mat least \u001b[39m\u001b[38;5;132;01m{\u001b[39;00melen\u001b[38;5;132;01m}\u001b[39;00m\u001b[38;5;124m\"\u001b[39m\n\u001b[1;32m-> 2941\u001b[0m \u001b[38;5;28;01mraise\u001b[39;00m \u001b[38;5;167;01mTypeError\u001b[39;00m(\u001b[38;5;124mf\u001b[39m\u001b[38;5;124m\"\u001b[39m\u001b[38;5;124mToo \u001b[39m\u001b[38;5;132;01m{\u001b[39;00m\u001b[38;5;124m'\u001b[39m\u001b[38;5;124mmany\u001b[39m\u001b[38;5;124m'\u001b[39m\u001b[38;5;250m \u001b[39m\u001b[38;5;28;01mif\u001b[39;00m\u001b[38;5;250m \u001b[39malen\u001b[38;5;250m \u001b[39m\u001b[38;5;241m>\u001b[39m\u001b[38;5;250m \u001b[39melen\u001b[38;5;250m \u001b[39m\u001b[38;5;28;01melse\u001b[39;00m\u001b[38;5;250m \u001b[39m\u001b[38;5;124m'\u001b[39m\u001b[38;5;124mfew\u001b[39m\u001b[38;5;124m'\u001b[39m\u001b[38;5;132;01m}\u001b[39;00m\u001b[38;5;124m arguments\u001b[39m\u001b[38;5;124m\"\u001b[39m\n\u001b[0;32m   2942\u001b[0m                 \u001b[38;5;124mf\u001b[39m\u001b[38;5;124m\"\u001b[39m\u001b[38;5;124m for \u001b[39m\u001b[38;5;132;01m{\u001b[39;00m\u001b[38;5;28mcls\u001b[39m\u001b[38;5;132;01m}\u001b[39;00m\u001b[38;5;124m; actual \u001b[39m\u001b[38;5;132;01m{\u001b[39;00malen\u001b[38;5;132;01m}\u001b[39;00m\u001b[38;5;124m, expected \u001b[39m\u001b[38;5;132;01m{\u001b[39;00mexpect_val\u001b[38;5;132;01m}\u001b[39;00m\u001b[38;5;124m\"\u001b[39m)\n",
      "\u001b[1;31mTypeError\u001b[0m: Too few arguments for typing.Dict; actual 1, expected 2"
     ]
    }
   ],
   "source": [
    "# imports\n",
    "from dataclasses import dataclass, field\n",
    "from typing import Dict\n",
    "@dataclass\n",
    "class NSEConn():\n",
    "    \"\"\"Class for nse web connections\"\"\"\n",
    "\n",
    "    _routes = {\n",
    "        \"stock_meta\": \"/equity-meta-info\",\n",
    "        \"stock_quote\": \"/quote-equity\",\n",
    "        \"stock_derivative_quote\": \"/quote-derivative\",\n",
    "        \"market_status\": \"/marketStatus\",\n",
    "        \"chart_data\": \"/chart-databyindex\",\n",
    "        \"market_turnover\": \"/market-turnover\",\n",
    "        \"equity_derivative_turnover\": \"/equity-stock\",\n",
    "        \"all_indices\": \"/allIndices\",\n",
    "        \"live_index\": \"/equity-stockIndices\",\n",
    "        \"index_option_chain\": \"/option-chain-indices\",\n",
    "        \"equity_option_chain\": \"/option-chain-equities\",\n",
    "        \"currency_option_chain\": \"/option-chain-currency\",\n",
    "        \"pre_open_market\": \"/market-data-pre-open\",\n",
    "        \"holiday_list\": \"/holiday-master?type=trading\"\n",
    "    }\n",
    "\n",
    "    _nse_hdr = {\n",
    "        \"Host\": \"www.nseindia.com\",\n",
    "        \"Referer\": \"https://www.nseindia.com/get-quotes/equity?symbol=SBIN\",\n",
    "        \"X-Requested-With\": \"XMLHttpRequest\",\n",
    "        \"pragma\": \"no-cache\",\n",
    "        \"sec-fetch-dest\": \"empty\",\n",
    "        \"sec-fetch-mode\": \"cors\",\n",
    "        \"sec-fetch-site\": \"same-origin\",\n",
    "        \"User-Agent\": \"Mozilla/5.0 (Windows NT 10.0; Win64; x64) AppleWebKit/537.36 (KHTML, like Gecko) Chrome/80.0.3987.132 Safari/537.36\",\n",
    "        \"Accept\": \"*/*\",\n",
    "        \"Accept-Encoding\": \"gzip, deflate, br\",\n",
    "        \"Accept-Language\": \"en-GB,en-US;q=0.9,en;q=0.8\",\n",
    "        \"Cache-Control\": \"no-cache\",\n",
    "        \"Connection\": \"keep-alive\",\n",
    "    }\n",
    "\n",
    "    nse_routes: Dict[str: str]=field(default_factory=lambda: _routes)\n"
   ]
  },
  {
   "cell_type": "code",
   "execution_count": 22,
   "metadata": {},
   "outputs": [
    {
     "data": {
      "text/plain": [
       "NSEConn(_routes={1: 2}, header={3: 4})"
      ]
     },
     "execution_count": 22,
     "metadata": {},
     "output_type": "execute_result"
    }
   ],
   "source": [
    "NSEConn(_routes={1:2}, header={3:4})"
   ]
  },
  {
   "cell_type": "code",
   "execution_count": null,
   "metadata": {},
   "outputs": [],
   "source": [
    "\n",
    "\n",
    "    _routes: str = field(default_factory={\n",
    "        \"stock_meta\": \"/equity-meta-info\",\n",
    "        \"stock_quote\": \"/quote-equity\",\n",
    "        \"stock_derivative_quote\": \"/quote-derivative\",\n",
    "        \"market_status\": \"/marketStatus\",\n",
    "        \"chart_data\": \"/chart-databyindex\",\n",
    "        \"market_turnover\": \"/market-turnover\",\n",
    "        \"equity_derivative_turnover\": \"/equity-stock\",\n",
    "        \"all_indices\": \"/allIndices\",\n",
    "        \"live_index\": \"/equity-stockIndices\",\n",
    "        \"index_option_chain\": \"/option-chain-indices\",\n",
    "        \"equity_option_chain\": \"/option-chain-equities\",\n",
    "        \"currency_option_chain\": \"/option-chain-currency\",\n",
    "        \"pre_open_market\": \"/market-data-pre-open\",\n",
    "        \"holiday_list\": \"/holiday-master?type=trading\"\n",
    "    })\n",
    "\n",
    "    nseindia_header: str = field(default_factory={\n",
    "    \"Host\": \"www.nseindia.com\",\n",
    "    \"Referer\": \"https://www.nseindia.com/get-quotes/equity?symbol=SBIN\",\n",
    "    \"X-Requested-With\": \"XMLHttpRequest\",\n",
    "    \"pragma\": \"no-cache\",\n",
    "    \"sec-fetch-dest\": \"empty\",\n",
    "    \"sec-fetch-mode\": \"cors\",\n",
    "    \"sec-fetch-site\": \"same-origin\",\n",
    "    \"User-Agent\": \"Mozilla/5.0 (Windows NT 10.0; Win64; x64) AppleWebKit/537.36 (KHTML, like Gecko) Chrome/80.0.3987.132 Safari/537.36\",\n",
    "    \"Accept\": \"*/*\",\n",
    "    \"Accept-Encoding\": \"gzip, deflate, br\",\n",
    "    \"Accept-Language\": \"en-GB,en-US;q=0.9,en;q=0.8\",\n",
    "    \"Cache-Control\": \"no-cache\",\n",
    "    \"Connection\": \"keep-alive\",\n",
    "    })\n"
   ]
  },
  {
   "cell_type": "code",
   "execution_count": 18,
   "metadata": {},
   "outputs": [
    {
     "ename": "TypeError",
     "evalue": "'dict' object is not callable",
     "output_type": "error",
     "traceback": [
      "\u001b[1;31m---------------------------------------------------------------------------\u001b[0m",
      "\u001b[1;31mTypeError\u001b[0m                                 Traceback (most recent call last)",
      "Cell \u001b[1;32mIn[18], line 1\u001b[0m\n\u001b[1;32m----> 1\u001b[0m \u001b[43mNSEConn\u001b[49m\u001b[43m(\u001b[49m\u001b[43m)\u001b[49m\n",
      "File \u001b[1;32m<string>:3\u001b[0m, in \u001b[0;36m__init__\u001b[1;34m(self, _routes, nseindia_header)\u001b[0m\n",
      "\u001b[1;31mTypeError\u001b[0m: 'dict' object is not callable"
     ]
    }
   ],
   "source": [
    "NSEConn()"
   ]
  },
  {
   "cell_type": "raw",
   "metadata": {
    "vscode": {
     "languageId": "raw"
    }
   },
   "source": [
    "from datetime import datetime, date\n",
    "from requests import Session\n",
    "\n",
    "time_out = 5\n",
    "base_url = \"https://www.nseindia.com/api\"\n",
    "page_url = \"https://www.nseindia.com/get-quotes/equity?symbol=LT\"\n",
    "_routes = {\n",
    "        \"stock_meta\": \"/equity-meta-info\",\n",
    "        \"stock_quote\": \"/quote-equity\",\n",
    "        \"stock_derivative_quote\": \"/quote-derivative\",\n",
    "        \"market_status\": \"/marketStatus\",\n",
    "        \"chart_data\": \"/chart-databyindex\",\n",
    "        \"market_turnover\": \"/market-turnover\",\n",
    "        \"equity_derivative_turnover\": \"/equity-stock\",\n",
    "        \"all_indices\": \"/allIndices\",\n",
    "        \"live_index\": \"/equity-stockIndices\",\n",
    "        \"index_option_chain\": \"/option-chain-indices\",\n",
    "        \"equity_option_chain\": \"/option-chain-equities\",\n",
    "        \"currency_option_chain\": \"/option-chain-currency\",\n",
    "        \"pre_open_market\": \"/market-data-pre-open\",\n",
    "        \"holiday_list\": \"/holiday-master?type=trading\"\n",
    "    }\n",
    "\n",
    "h = {\n",
    "    \"Host\": \"www.nseindia.com\",\n",
    "    \"Referer\": \"https://www.nseindia.com/get-quotes/equity?symbol=SBIN\",\n",
    "    \"X-Requested-With\": \"XMLHttpRequest\",\n",
    "    \"pragma\": \"no-cache\",\n",
    "    \"sec-fetch-dest\": \"empty\",\n",
    "    \"sec-fetch-mode\": \"cors\",\n",
    "    \"sec-fetch-site\": \"same-origin\",\n",
    "    \"User-Agent\": \"Mozilla/5.0 (Windows NT 10.0; Win64; x64) AppleWebKit/537.36 (KHTML, like Gecko) Chrome/80.0.3987.132 Safari/537.36\",\n",
    "    \"Accept\": \"*/*\",\n",
    "    \"Accept-Encoding\": \"gzip, deflate, br\",\n",
    "    \"Accept-Language\": \"en-GB,en-US;q=0.9,en;q=0.8\",\n",
    "    \"Cache-Control\": \"no-cache\",\n",
    "    \"Connection\": \"keep-alive\",\n",
    "    }"
   ]
  },
  {
   "cell_type": "raw",
   "metadata": {
    "vscode": {
     "languageId": "raw"
    }
   },
   "source": [
    "s = Session()\n",
    "s.headers.update(h)\n",
    "s.get(page_url)"
   ]
  },
  {
   "cell_type": "markdown",
   "metadata": {},
   "source": [
    "## Stock quote\n"
   ]
  },
  {
   "cell_type": "code",
   "execution_count": null,
   "metadata": {},
   "outputs": [],
   "source": [
    "from nse import make_session, base_url, _routes\n",
    "from utils import create_dataclass_from_dict\n",
    "\n",
    "s = make_session()\n",
    "\n",
    "route = 'stock_quote' # \"/quote-equity\"\n",
    "url = base_url + _routes.get(route)\n",
    "\n",
    "\n",
    "symbol = 'PNB'\n",
    "data = {\"symbol\": symbol}\n",
    "\n",
    "\n",
    "r = s.get(url=url, params=data)\n",
    "stock = r.json()"
   ]
  },
  {
   "cell_type": "code",
   "execution_count": null,
   "metadata": {},
   "outputs": [],
   "source": [
    "pnb = stock.get('priceInfo')\n"
   ]
  },
  {
   "cell_type": "code",
   "execution_count": null,
   "metadata": {},
   "outputs": [],
   "source": [
    "from dataclasses import dataclass\n",
    "\n",
    "@dataclass\n",
    "class Stock:\n",
    "    {k: type(v) for k, v in pnb.items()}\n"
   ]
  },
  {
   "cell_type": "code",
   "execution_count": null,
   "metadata": {},
   "outputs": [],
   "source": [
    "pnb_price = Stock()"
   ]
  },
  {
   "cell_type": "code",
   "execution_count": null,
   "metadata": {},
   "outputs": [],
   "source": [
    "Stock.__dict__"
   ]
  },
  {
   "cell_type": "code",
   "execution_count": null,
   "metadata": {},
   "outputs": [],
   "source": [
    "pnb_price.close = 5"
   ]
  },
  {
   "cell_type": "code",
   "execution_count": null,
   "metadata": {},
   "outputs": [],
   "source": [
    "pnb_price.__dict__"
   ]
  },
  {
   "cell_type": "code",
   "execution_count": null,
   "metadata": {},
   "outputs": [],
   "source": [
    "\n",
    "Stock = create_dataclass_from_dict(pnb, 'Stock')\n",
    "pnb_price = Stock()"
   ]
  },
  {
   "cell_type": "code",
   "execution_count": null,
   "metadata": {},
   "outputs": [],
   "source": [
    "pnb_price.weekHighLow.maxDate"
   ]
  },
  {
   "cell_type": "code",
   "execution_count": null,
   "metadata": {},
   "outputs": [],
   "source": [
    "import json\n",
    "def to_dict(obj):\n",
    "    return json.loads(json.dumps(obj, default=lambda o: o.__dict__))"
   ]
  },
  {
   "cell_type": "code",
   "execution_count": null,
   "metadata": {},
   "outputs": [],
   "source": [
    "vars(pnb_price)"
   ]
  },
  {
   "cell_type": "code",
   "execution_count": null,
   "metadata": {},
   "outputs": [],
   "source": [
    "from dataclasses import dataclass"
   ]
  },
  {
   "cell_type": "code",
   "execution_count": null,
   "metadata": {},
   "outputs": [],
   "source": [
    "from dataclasses import fields, is_dataclass\n",
    "\n",
    "def dataclass_to_dict(instance):\n",
    "    output_dict = {}\n",
    "    for field in fields(instance):\n",
    "        field_value = getattr(instance, field.name)\n",
    "        if is_dataclass(field.type):\n",
    "            output_dict[field.name] = dataclass_to_dict(field_value)\n",
    "        else:\n",
    "            output_dict[field.name] = field_value\n",
    "    return output_dict\n",
    "\n",
    "# Convert the dataclass instance 'stock' back to a dictionary\n",
    "stock_price_converted = dataclass_to_dict(pnb_price)\n",
    "\n",
    "# Print the converted dictionary\n",
    "stock_price_converted\n"
   ]
  },
  {
   "cell_type": "code",
   "execution_count": null,
   "metadata": {},
   "outputs": [],
   "source": [
    "# Convert the dataclass instance 'stock' back to a dictionary\n",
    "stock_price_converted = dataclass_to_dict(pnb)\n",
    "\n",
    "# Print the converted dictionary\n",
    "print(stock_price_converted)"
   ]
  },
  {
   "cell_type": "markdown",
   "metadata": {},
   "source": [
    "## Equity Option Chain"
   ]
  },
  {
   "cell_type": "code",
   "execution_count": null,
   "metadata": {},
   "outputs": [],
   "source": [
    "route = 'equity_option_chain'\n",
    "\n",
    "url = base_url + _routes.get(route)\n",
    "symbol = 'PNB'\n",
    "\n",
    "data = {\"symbol\": symbol}\n",
    "\n",
    "r = s.get(url=url, params=data)\n",
    "option_chain = r.json()"
   ]
  },
  {
   "cell_type": "markdown",
   "metadata": {},
   "source": [
    "## Index Option Chain"
   ]
  },
  {
   "cell_type": "code",
   "execution_count": null,
   "metadata": {},
   "outputs": [],
   "source": [
    "route = 'index_option_chain'\n",
    "\n",
    "url = base_url + _routes.get(route)\n",
    "symbol = 'NIFTY'\n",
    "\n",
    "data = {\"symbol\": symbol}\n",
    "\n",
    "r = s.get(url=url, params=data)\n",
    "index_chain = r.json()"
   ]
  },
  {
   "cell_type": "markdown",
   "metadata": {},
   "source": [
    "### Clean up the chain derivatives"
   ]
  },
  {
   "cell_type": "code",
   "execution_count": null,
   "metadata": {},
   "outputs": [],
   "source": [
    "## Clean up the chain\n",
    "\n",
    "# my_json = option_chain\n",
    "my_json = index_chain\n",
    "\n",
    "# extract the options\n",
    "df = pd.concat([pd.DataFrame(d).T for d in my_json.get('records').get('data')])\n",
    "\n",
    "# clean up the df\n",
    "df = df[df.index.isin(['PE', 'CE'])]\n",
    "df.index.name = 'right'\n",
    "\n",
    "df.reset_index(inplace=True)\n",
    "\n",
    "df.drop(columns=['underlying'])\n",
    "df.insert(0, 'symbol', symbol)\n",
    "\n",
    "# drop unnecessary columns\n",
    "df.drop(columns=['instrumentType', 'identifier', 'underlying'], errors='ignore', inplace=True)\n",
    "\n",
    "# convert numeric and date columns \n",
    "numeric_columns = df.columns.difference(['symbol', 'right', 'expiryDate'])\n",
    "\n",
    "df[numeric_columns] = df[numeric_columns].apply(pd.to_numeric)\n",
    "df.expiryDate = pd.to_datetime(df.expiryDate)\n",
    "\n",
    "# sort values\n",
    "df = df.sort_values(['right', 'strikePrice'], ascending=[True, False])\n",
    "\n",
    "df.head()"
   ]
  },
  {
   "cell_type": "markdown",
   "metadata": {},
   "source": [
    "## Stock derivative quote\n",
    "### !!! Note this is inferior to getting info from option chain !!!\n"
   ]
  },
  {
   "cell_type": "code",
   "execution_count": null,
   "metadata": {},
   "outputs": [],
   "source": [
    "route = 'stock_derivative_quote' # \"/quote-derivative\"\n",
    "url = base_url + _routes.get(route)\n",
    "\n",
    "r = s.get(url=url, params=data)\n",
    "fno = r.json()"
   ]
  },
  {
   "cell_type": "markdown",
   "metadata": {},
   "source": [
    "### Clean up derviatives from derivative quote"
   ]
  },
  {
   "cell_type": "code",
   "execution_count": null,
   "metadata": {},
   "outputs": [],
   "source": [
    "# extract the stocks\n",
    "df = pd.concat([pd.DataFrame(d).T for d in fno.get('stocks')])\n",
    "\n",
    "# get the `metadata`\n",
    "df = df.loc['metadata']\n",
    "\n",
    "# filter `Stock Options` instrymentType\n",
    "df = df[df.instrumentType == 'Stock Options']\n",
    "\n",
    "# drop unnecessary columns\n",
    "df.drop(columns=['instrumentType', 'identifier'], errors='ignore', inplace=True)\n",
    "\n",
    "# convert numeric and date columns \n",
    "numeric_columns = df.columns.difference(['expiryDate', 'optionType'])\n",
    "df[numeric_columns] = df[numeric_columns].apply(pd.to_numeric)\n",
    "df.expiryDate = pd.to_datetime(df.expiryDate)\n",
    "\n",
    "# sort values\n",
    "df = df.sort_values(['optionType', 'strikePrice'], ascending=[True, False])\n",
    "df.index.name = symbol\n",
    "\n",
    "# add symbol\n",
    "df.index = pd.Categorical([symbol]*len(df))\n",
    "df.index.name = 'symbol'\n",
    "df.reset_index(inplace=True)\n",
    "\n",
    "df_opt_quote = df"
   ]
  },
  {
   "cell_type": "markdown",
   "metadata": {},
   "source": [
    "## Market Status"
   ]
  },
  {
   "cell_type": "code",
   "execution_count": null,
   "metadata": {},
   "outputs": [],
   "source": [
    "route = 'market_status'\n",
    "\n",
    "url = base_url + _routes.get(route)\n",
    "data = {}\n",
    "\n",
    "r = s.get(url=url, params=data)\n",
    "market_status = r.json()\n",
    "\n",
    "# get the market state\n",
    "x = market_status.get('marketState')\n",
    "market_is_open = next(iter(x)).get('marketStatus') == 'Open'\n",
    "\n",
    "market_is_open"
   ]
  },
  {
   "cell_type": "markdown",
   "metadata": {},
   "source": [
    "# Stack overflow question\n",
    "\n",
    "Have a nested dictionary"
   ]
  },
  {
   "cell_type": "code",
   "execution_count": null,
   "metadata": {},
   "outputs": [],
   "source": [
    "stock_price = {'lastPrice': 129.1,\n",
    "    'open': 126.57,\n",
    "    'close': 0,\n",
    "    'intraDayHighLow': {'min': 126.4, 'max': 129.55, 'value': 129.1},\n",
    "    'weekHighLow': {'min': 49.7, 'minDate': '26-Jun-2023', \n",
    "       'max': 142.9,\n",
    "       'maxDate': '30-Apr-2024',\n",
    "        'value': 129.1},\n",
    "    }"
   ]
  },
  {
   "cell_type": "markdown",
   "metadata": {},
   "source": [
    "...which is converted it to a dataclass, as follows."
   ]
  },
  {
   "cell_type": "raw",
   "metadata": {
    "vscode": {
     "languageId": "raw"
    }
   },
   "source": [
    "import dataclasses\n",
    "def create_dataclass_from_dict(data_dict: dict, class_name:str):\n",
    "\n",
    "    fields = {}\n",
    "    \n",
    "    for key, value in data_dict.items():\n",
    "        if isinstance(value, dict):\n",
    "            nested_class_name = key.capitalize()\n",
    "            nested_class = create_dataclass_from_dict(value, class_name=nested_class_name)\n",
    "            fields[key] = nested_class\n",
    "        else:\n",
    "            fields[key] = value\n",
    "    \n",
    "    return dataclasses.make_dataclass(class_name, fields)"
   ]
  },
  {
   "cell_type": "code",
   "execution_count": null,
   "metadata": {},
   "outputs": [],
   "source": [
    "from dataclasses import make_dataclass, field, asdict\n",
    "\n",
    "def create_dataclass_from_dict(data_dict: dict, class_name:str):\n",
    "\n",
    "    \"\"\"Creates dataclass type object from a nested dictionary.\n",
    "    \n",
    "    Usage:\n",
    "    ---\n",
    "    stock_price = {'lastPrice': 129.1,\n",
    "    'open': 126.57,\n",
    "    'close': 0,\n",
    "    'intraDayHighLow': {'min': 126.4, 'max': 129.55, 'value': 129.1},\n",
    "    'weekHighLow': {'min': 49.7, 'minDate': '26-Jun-2023', \n",
    "       'max': 142.9,\n",
    "       'maxDate': '30-Apr-2024',\n",
    "        'value': 129.1},\n",
    "    }\n",
    "\n",
    "    \n",
    "    # instantiate\n",
    "    Stock = create_dataclass_from_dict(stock_price, 'Stock')\n",
    "    my_stock = Stock()\n",
    "\n",
    "    # check nested\n",
    "    print(my_stock.weekHighLow.minDate) # works '26-Jun-2023'\n",
    "\n",
    "    # Reconstruct to dict\n",
    "    print(asdict(my_stock))\n",
    "    \"\"\"\n",
    "\n",
    "    fields = []\n",
    "    \n",
    "    for key, value in data_dict.items():\n",
    "        if isinstance(value, dict):\n",
    "            nested_class_name = key.capitalize()\n",
    "            nested_class = create_dataclass_from_dict(value, class_name=nested_class_name)\n",
    "            fields.append((key, nested_class, field(default_factory=nested_class)))\n",
    "        else:\n",
    "            fields.append((key, type(value), field(default=value)))\n",
    "    \n",
    "    return make_dataclass(class_name, fields)\n",
    "\n",
    "# instantiate\n",
    "Stock = create_dataclass_from_dict(stock_price, 'Stock')\n",
    "my_stock = Stock()\n",
    "\n"
   ]
  },
  {
   "cell_type": "code",
   "execution_count": null,
   "metadata": {},
   "outputs": [],
   "source": [
    "my_stock"
   ]
  },
  {
   "cell_type": "code",
   "execution_count": null,
   "metadata": {},
   "outputs": [],
   "source": [
    "new_data = {'lastPrice': 500,\n",
    "    'open': 200,\n",
    "    'close': 0,\n",
    "    'intraDayHighLow': {'min': 0, 'max': 100, 'value': 50},\n",
    "    'weekHighLow': {'min': 20, 'minDate': 'dd-mmm-2023'},\n",
    "    }"
   ]
  },
  {
   "cell_type": "code",
   "execution_count": null,
   "metadata": {},
   "outputs": [],
   "source": [
    "from dataclasses import replace\n",
    "replace(my_stock, **new_data)"
   ]
  },
  {
   "cell_type": "code",
   "execution_count": null,
   "metadata": {},
   "outputs": [],
   "source": [
    "# Function to update nested dictionaries\n",
    "def update_nested_dict(original_dict, new_dict):\n",
    "    for key, value in new_dict.items():\n",
    "        if isinstance(value, dict) and key in original_dict:\n",
    "            update_nested_dict(original_dict[key], value)\n",
    "        else:\n",
    "            original_dict[key] = value\n",
    "\n",
    "# update my_stock with new_data\n",
    "new_data = {\n",
    "    'weekHighLow': {'min': 20, 'minDate': 'Jan-2023'}\n",
    "}\n",
    "\n",
    "update_nested_dict(asdict(my_stock), new_data)\n",
    "\n",
    "# Print the updated my_stock\n",
    "print(asdict(my_stock))"
   ]
  },
  {
   "cell_type": "code",
   "execution_count": null,
   "metadata": {},
   "outputs": [],
   "source": [
    "my_stock"
   ]
  },
  {
   "cell_type": "code",
   "execution_count": null,
   "metadata": {},
   "outputs": [],
   "source": [
    "# check nested\n",
    "print(my_stock.weekHighLow.minDate) # works '26-Jun-2023'\n",
    "\n",
    "# Reconstruct to dict\n",
    "print(asdict(my_stock))"
   ]
  },
  {
   "cell_type": "markdown",
   "metadata": {},
   "source": [
    "...and so not able to convert it back to a dictionary using the following code:"
   ]
  },
  {
   "cell_type": "code",
   "execution_count": null,
   "metadata": {},
   "outputs": [],
   "source": [
    "type(my_stock.intraDayHighLow)"
   ]
  },
  {
   "cell_type": "code",
   "execution_count": null,
   "metadata": {},
   "outputs": [],
   "source": [
    "import json\n",
    "def to_dict(obj):\n",
    "    return json.loads(json.dumps(obj, default=lambda o: o.__dict__))\n",
    "\n",
    "to_dict(my_stock) # gives {}"
   ]
  },
  {
   "cell_type": "code",
   "execution_count": null,
   "metadata": {},
   "outputs": [],
   "source": [
    "@dataclass\n",
    "class Stock:\n",
    "    stock_price"
   ]
  },
  {
   "cell_type": "code",
   "execution_count": null,
   "metadata": {},
   "outputs": [],
   "source": [
    "s = Stock()"
   ]
  },
  {
   "cell_type": "code",
   "execution_count": null,
   "metadata": {},
   "outputs": [],
   "source": [
    "s.__dict__"
   ]
  },
  {
   "cell_type": "code",
   "execution_count": null,
   "metadata": {},
   "outputs": [],
   "source": [
    "dataclass?"
   ]
  },
  {
   "cell_type": "code",
   "execution_count": null,
   "metadata": {},
   "outputs": [],
   "source": []
  }
 ],
 "metadata": {
  "kernelspec": {
   "display_name": ".venv",
   "language": "python",
   "name": "python3"
  },
  "language_info": {
   "codemirror_mode": {
    "name": "ipython",
    "version": 3
   },
   "file_extension": ".py",
   "mimetype": "text/x-python",
   "name": "python",
   "nbconvert_exporter": "python",
   "pygments_lexer": "ipython3",
   "version": "3.11.5"
  }
 },
 "nbformat": 4,
 "nbformat_minor": 2
}
