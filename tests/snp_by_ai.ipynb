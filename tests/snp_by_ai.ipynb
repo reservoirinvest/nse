{
 "cells": [
  {
   "cell_type": "code",
   "execution_count": 1,
   "id": "6f0363ce-ef5f-4f93-a06d-765a066f4824",
   "metadata": {
    "execution": {
     "iopub.execute_input": "2024-07-29T20:18:24.606269Z",
     "iopub.status.busy": "2024-07-29T20:18:24.606269Z",
     "iopub.status.idle": "2024-07-29T20:18:25.373521Z",
     "shell.execute_reply": "2024-07-29T20:18:25.372510Z",
     "shell.execute_reply.started": "2024-07-29T20:18:24.606269Z"
    }
   },
   "outputs": [
    {
     "data": {
      "text/plain": [
       "1"
      ]
     },
     "execution_count": 1,
     "metadata": {},
     "output_type": "execute_result"
    }
   ],
   "source": [
    "## THIS CELL SHOULD BE IN ALL VSCODE NOTEBOOKS ##\n",
    "\n",
    "MARKET = \"NSE\"\n",
    "\n",
    "# Set the root\n",
    "from from_root import from_root\n",
    "ROOT = from_root()\n",
    "\n",
    "import pandas as pd\n",
    "from loguru import logger\n",
    "\n",
    "pd.options.display.max_columns = None\n",
    "pd.set_option('display.precision', 2)\n",
    "\n",
    "from pathlib import Path\n",
    "import sys\n",
    "\n",
    "# Add `src` and ROOT to _src.pth in .venv to allow imports in VS Code\n",
    "from sysconfig import get_path\n",
    "\n",
    "if \"src\" not in Path.cwd().parts:\n",
    "    src_path = str(Path(get_path(\"purelib\")) / \"_src.pth\")\n",
    "    with open(src_path, \"w\") as f:\n",
    "        f.write(str(ROOT / \"src\\n\"))\n",
    "        f.write(str(ROOT))\n",
    "        if str(ROOT) not in sys.path:\n",
    "            sys.path.insert(1, str(ROOT))\n",
    "\n",
    "# Start the Jupyter loop\n",
    "from ib_async import util\n",
    "\n",
    "util.startLoop()\n",
    "\n",
    "logger.add(sink=ROOT / \"log\" / \"ztest.log\", mode=\"w\")"
   ]
  },
  {
   "cell_type": "markdown",
   "id": "d359b0da-96b6-47d7-9727-a1ff97d73d42",
   "metadata": {
    "execution": {
     "iopub.execute_input": "2024-07-29T17:22:33.119339Z",
     "iopub.status.busy": "2024-07-29T17:22:33.118357Z",
     "iopub.status.idle": "2024-07-29T17:22:33.127976Z",
     "shell.execute_reply": "2024-07-29T17:22:33.126732Z",
     "shell.execute_reply.started": "2024-07-29T17:22:33.119339Z"
    }
   },
   "source": [
    "# AI generated SNP test"
   ]
  },
  {
   "cell_type": "code",
   "execution_count": null,
   "id": "7103ea7a-2040-4cde-bd4c-ee36f982d39b",
   "metadata": {},
   "outputs": [],
   "source": [
    "import yfinance as yf\n",
    "import numpy as np\n",
    "from scipy.stats import norm\n",
    "import pandas as pd\n",
    "\n",
    "# Fetch the option data for 'INTC'\n",
    "intc = yf.Ticker(\"INTC\")\n",
    "option_chain = intc.option_chain()\n",
    "\n",
    "# Extract the relevant data from the option chain\n",
    "strikes = option_chain.calls.strike.unique()\n",
    "expiration_dates = option_chain.calls.expiration.unique()\n",
    "\n",
    "# Define the function to calculate implied volatility\n",
    "def implied_volatility(S, K, T, r, option_price, option_type):\n",
    "    \"\"\"\n",
    "    Calculate the implied volatility of an option using the Black-Scholes formula.\n",
    "    \n",
    "    Parameters:\n",
    "    S (float): Current stock price\n",
    "    K (float): Strike price\n",
    "    T (float): Time to expiration in years\n",
    "    r (float): Risk-free interest rate\n",
    "    option_price (float): Current option price\n",
    "    option_type (str): 'call' or 'put'\n",
    "    \n",
    "    Returns:\n",
    "    float: Implied volatility\n",
    "    \"\"\"\n",
    "    d1 = (np.log(S / K) + (r + 0.5 * sigma ** 2) * T) / (sigma * np.sqrt(T))\n",
    "    d2 = d1 - sigma * np.sqrt(T)\n",
    "    \n",
    "    if option_type == 'call':\n",
    "        model_price = S * norm.cdf(d1) - K * np.exp(-r * T) * norm.cdf(d2)\n",
    "    elif option_type == 'put':\n",
    "        model_price = K * np.exp(-r * T) * norm.cdf(-d2) - S * norm.cdf(-d1)\n",
    "    \n",
    "    return sigma\n",
    "\n",
    "# Create a list to store the data\n",
    "data = []\n",
    "\n",
    "# Calculate the implied volatility and option price for each strike and expiration date\n",
    "for expiration in expiration_dates:\n",
    "    for strike in strikes:\n",
    "        call_data = option_chain.calls[(option_chain.calls.expiration == expiration) & (option_chain.calls.strike == strike)]\n",
    "        put_data = option_chain.puts[(option_chain.puts.expiration == expiration) & (option_chain.puts.strike == strike)]\n",
    "        \n",
    "        if not call_data.empty:\n",
    "            call_price = call_data.lastPrice.values[0]\n",
    "            call_iv = implied_volatility(intc.price, strike, (expiration - intc.current_date).days / 365, 0.01, call_price, 'call')\n",
    "            data.append({\n",
    "                'Symbol': 'INTC',\n",
    "                'Expiry': expiration,\n",
    "                'Days to Expiry': (expiration - intc.current_date).days / 365,\n",
    "                'Strike': strike,\n",
    "                'Type': 'Call',\n",
    "                'Price': call_price,\n",
    "                'IV': call_iv\n",
    "            })\n",
    "        \n",
    "        if not put_data.empty:\n",
    "            put_price = put_data.lastPrice.values[0]\n",
    "            put_iv = implied_volatility(intc.price, strike, (expiration - intc.current_date).days / 365, 0.01, put_price, 'put')\n",
    "            data.append({\n",
    "                'Symbol': 'INTC',\n",
    "                'Expiry': expiration,\n",
    "                'Days to Expiry': (expiration - intc.current_date).days / 365,\n",
    "                'Strike': strike,\n",
    "                'Type': 'Put',\n",
    "                'Price': put_price,\n",
    "                'IV': put_iv\n",
    "            })\n",
    "\n",
    "# Create the DataFrame\n",
    "df = pd.DataFrame(data)"
   ]
  },
  {
   "cell_type": "code",
   "execution_count": null,
   "id": "d12c67e9-6b24-4adf-9dd3-1a69b9bb471a",
   "metadata": {},
   "outputs": [],
   "source": []
  }
 ],
 "metadata": {
  "kernelspec": {
   "display_name": "Python 3 (ipykernel)",
   "language": "python",
   "name": "python3"
  },
  "language_info": {
   "codemirror_mode": {
    "name": "ipython",
    "version": 3
   },
   "file_extension": ".py",
   "mimetype": "text/x-python",
   "name": "python",
   "nbconvert_exporter": "python",
   "pygments_lexer": "ipython3",
   "version": "3.11.5"
  }
 },
 "nbformat": 4,
 "nbformat_minor": 5
}
